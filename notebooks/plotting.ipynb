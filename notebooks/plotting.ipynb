{
 "cells": [
  {
   "cell_type": "code",
   "execution_count": null,
   "metadata": {
    "collapsed": true
   },
   "outputs": [],
   "source": [
    "from __future__ import division\n",
    "import pandas as pd\n",
    "import numpy as np\n",
    "from matplotlib.patches import Polygon\n",
    "import matplotlib\n",
    "from matplotlib.collections import PatchCollection\n",
    "import mpl_toolkits\n",
    "from mpl_toolkits.basemap import Basemap\n",
    "from shapely.geometry import Point, Polygon, MultiPoint, MultiPolygon\n",
    "from shapely.prepared import prep\n",
    "from descartes import PolygonPatch\n",
    "import matplotlib.pyplot as plt\n",
    "from collections import defaultdict\n",
    "\n",
    "% matplotlib inline"
   ]
  },
  {
   "cell_type": "code",
   "execution_count": null,
   "metadata": {
    "collapsed": true
   },
   "outputs": [],
   "source": [
    "pd.options.display.max_columns = 999\n",
    "pd.options.display.max_rows = 200"
   ]
  },
  {
   "cell_type": "code",
   "execution_count": null,
   "metadata": {
    "collapsed": false
   },
   "outputs": [],
   "source": [
    "df=pd.read_csv('data/data_seattle.csv')\n",
    "df.drop('Unnamed: 0', axis=1, inplace=True)"
   ]
  },
  {
   "cell_type": "code",
   "execution_count": null,
   "metadata": {
    "collapsed": true
   },
   "outputs": [],
   "source": [
    "#df['proptype']=df['prop_type']"
   ]
  },
  {
   "cell_type": "code",
   "execution_count": null,
   "metadata": {
    "collapsed": false
   },
   "outputs": [],
   "source": [
    "#df[df['mls_prop_type']=='32 - Townhouse']=\n",
    "#                                df[df['mls_prop_type']=='32 - Townhouse'].replace({'proptypee':{'Residential':'Townhouse'}})"
   ]
  },
  {
   "cell_type": "code",
   "execution_count": null,
   "metadata": {
    "collapsed": false
   },
   "outputs": [],
   "source": [
    "#df.to_csv('data/data_seattle.csv')"
   ]
  },
  {
   "cell_type": "code",
   "execution_count": null,
   "metadata": {
    "collapsed": true
   },
   "outputs": [],
   "source": [
    "def plot_prepper(m, shapefilename, df_key):\n",
    "    '''\n",
    "    Generate dataframe for plotting\n",
    "    '''\n",
    "    _out = m.readshapefile(shapefilename, name='seattle', drawbounds=False, color='none', zorder=2)\n",
    "    # set up a map dataframe for neighborhood outlines\n",
    "    cent_lons = [float((Polygon(points).centroid.wkt).split()[1][1:]) for points in m.seattle]\n",
    "    cent_lats = [float((Polygon(points).centroid.wkt).strip(')').split()[2]) for points in m.seattle]\n",
    "\n",
    "    df_poly = pd.DataFrame({\n",
    "        'poly': [Polygon(points) for points in m.seattle],\n",
    "        'name': [item[df_key] for item in m.seattle_info],\n",
    "    })\n",
    "    df_poly['centroid_1'] = cent_lons\n",
    "    df_poly['centroid_2'] = cent_lats\n",
    "    return _out, df_poly"
   ]
  },
  {
   "cell_type": "code",
   "execution_count": null,
   "metadata": {
    "collapsed": true
   },
   "outputs": [],
   "source": [
    "# Read in neighborhood shape file\n",
    "hood_shapefilename = 'neighborhoods/WGS84/Neighborhoods'\n",
    "hood_coords = (-122.43595589761988, 47.49551362397606, \n",
    "               -122.23604445458412, 47.73416494684497)\n",
    "\n",
    "w, h = hood_coords[2] - hood_coords[0], hood_coords[3] - hood_coords[1]\n",
    "extra = 0.005"
   ]
  },
  {
   "cell_type": "code",
   "execution_count": null,
   "metadata": {
    "collapsed": false
   },
   "outputs": [],
   "source": [
    "# Initialize the plot\n",
    "figwidth = 12\n",
    "fig = plt.figure(figsize=(figwidth, figwidth*h/w))\n",
    "ax = fig.add_subplot(111, axisbg='w', frame_on=False)\n",
    "m = Basemap(projection='tmerc', ellps='WGS84',\n",
    "            lon_0=np.mean([hood_coords[0], hood_coords[2]]),\n",
    "            lat_0=np.mean([hood_coords[1], hood_coords[3]]),\n",
    "            llcrnrlon=hood_coords[0] - extra * w,\n",
    "            llcrnrlat=hood_coords[1] - (extra * h),\n",
    "            urcrnrlon=hood_coords[2] + extra * w,\n",
    "            urcrnrlat=hood_coords[3] + (extra * h),\n",
    "            resolution='i',  suppress_ticks=True)\n",
    "# Get dataframe for plotting\n",
    "_out, df_map = plot_prepper(m, hood_shapefilename, 'S_HOOD')\n",
    "nbr_names = df_map['name'].unique()\n",
    "\n",
    "# Draw neighborhoods with grey outlines\n",
    "df_map['patches'] = df_map['poly'].map(lambda x: PolygonPatch(x, ec='#050505', lw=.8, alpha=1., zorder=4))\n",
    "pc = PatchCollection(df_map['patches'], match_original=True)\n",
    "pc.set_facecolor('w')\n",
    "ax.add_collection(pc)\n",
    "\n",
    "# Scale the map\n",
    "_=m.drawmapscale(hood_coords[0] + 0.08, hood_coords[1] + -0.01, \n",
    "               hood_coords[0], hood_coords[1], 10., barstyle='fancy',\n",
    "               fillcolor1='w', fillcolor2='#555555', zorder=5, ax=ax,)\n",
    "\n",
    "lons = df.longitude\n",
    "lats = df.latitude\n",
    "\n",
    "pt = []\n",
    "xs = []\n",
    "ys = []\n",
    "\n",
    "'''\n",
    "This plots all the latitude/longitude points\n",
    "'''\n",
    "for mapped_x, mapped_y in zip(lons, lats):\n",
    "    xpt, ypt = m(mapped_x, mapped_y)\n",
    "    plt.plot(xpt, ypt, 'v', markersize=5, alpha=0.3, color='#483070')\n",
    "    pt.append(Point(xpt, ypt))\n",
    "    xs.append(xpt)\n",
    "    ys.append(ypt)\n",
    "\n",
    "'''\n",
    "Checks the neighborhood of point\n",
    "'''\n",
    "nmlist = []\n",
    "# Creates list of neighborhoods\n",
    "for polygon in df_map['poly']:\n",
    "    nm = df_map.loc[df_map['poly'] == polygon, 'name'].iloc[0]\n",
    "    if len(nm.strip()) < 4 or nm in nmlist:\n",
    "        continue\n",
    "    nmlist.append(nm)\n",
    "    \n",
    "# Add neighborhood names\n",
    "nml = []\n",
    "for i, lon in enumerate(df_map['centroid_1'].values):\n",
    "    if df_map['name'].values[i] in nml:\n",
    "        continue\n",
    "    nml.append(df_map['name'].values[i])\n",
    "    if len(df_map['name'].values[i]) > 3:\n",
    "        plt.text(lon, df_map['centroid_2'].values[i], df_map['name'].values[i], size=7, ha='center')\n",
    "\n",
    "ax.axes.get_xaxis().set_visible(False)"
   ]
  },
  {
   "cell_type": "code",
   "execution_count": null,
   "metadata": {
    "collapsed": false
   },
   "outputs": [],
   "source": [
    "df.head(2)"
   ]
  },
  {
   "cell_type": "code",
   "execution_count": null,
   "metadata": {
    "collapsed": true
   },
   "outputs": [],
   "source": [
    "import pandas as pd\n",
    "import numpy as np\n",
    "df_reviews=pd.read_csv('data/street_reviews.csv')\n",
    "df_reviews.drop('Unnamed: 0', axis=1, inplace=True)\n",
    "df_sample=pd.read_csv('data/data_seattle.csv')\n",
    "df_sample.drop('Unnamed: 0', axis=1, inplace=True)"
   ]
  },
  {
   "cell_type": "code",
   "execution_count": null,
   "metadata": {
    "collapsed": true
   },
   "outputs": [],
   "source": [
    "minbed=2\n",
    "maxbed=3\n",
    "minbath=1\n",
    "maxbath=2\n",
    "proptype='Townhouse'\n",
    "neighborhood='Atlantic'"
   ]
  },
  {
   "cell_type": "code",
   "execution_count": null,
   "metadata": {
    "collapsed": true
   },
   "outputs": [],
   "source": [
    "import system as S\n",
    "recsys =S.ReccomnderSystem(df_sample,df_reviews)"
   ]
  },
  {
   "cell_type": "code",
   "execution_count": null,
   "metadata": {
    "collapsed": false
   },
   "outputs": [],
   "source": [
    "df_selected = df[df_sample['id'].isin(\n",
    "    recsys.home_reccomender_dict(minbed, maxbed, minbath, maxbath, proptype, neighborhood))]\n",
    "\n",
    "lats_selected=df_selected['latitude']\n",
    "lons_selected=df_selected['longitude']\n",
    "avg_lat=np.mean(lats_selected.values)\n",
    "avg_lon=np.mean(lons_selected.values)"
   ]
  },
  {
   "cell_type": "code",
   "execution_count": null,
   "metadata": {
    "collapsed": false
   },
   "outputs": [],
   "source": []
  },
  {
   "cell_type": "code",
   "execution_count": null,
   "metadata": {
    "collapsed": true
   },
   "outputs": [],
   "source": [
    "#483070\n",
    "#https://pypi.python.org/pypi/gmplot/1.0.5\n",
    "import gmplot\n",
    "\n",
    "#gmap = gmplot.GoogleMapPlotter(47.6062, -122.3321, 12)\n",
    "gmap = gmplot.GoogleMapPlotter(avg_lat, avg_lon, 14)\n",
    "\n",
    "#gmap.plot(lats.values, lons.values, 'cornflowerblue', edge_width=0.1)\n",
    "#gmap.scatter(lats.values, lons.values, '#483070', size=40, marker=False)\n",
    "gmap.scatter(lats_selected, lons_selected, 'g', size=0.00001, marker=True)\n",
    "#gmap.heatmap(heat_lats, heat_lngs)\n",
    "\n",
    "gmap.draw(\"mymap.html\")"
   ]
  },
  {
   "cell_type": "code",
   "execution_count": null,
   "metadata": {
    "collapsed": true
   },
   "outputs": [],
   "source": []
  }
 ],
 "metadata": {
  "kernelspec": {
   "display_name": "Python [default]",
   "language": "python",
   "name": "python2"
  },
  "language_info": {
   "codemirror_mode": {
    "name": "ipython",
    "version": 2
   },
   "file_extension": ".py",
   "mimetype": "text/x-python",
   "name": "python",
   "nbconvert_exporter": "python",
   "pygments_lexer": "ipython2",
   "version": "2.7.12"
  }
 },
 "nbformat": 4,
 "nbformat_minor": 1
}
