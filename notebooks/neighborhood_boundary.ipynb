{
 "cells": [
  {
   "cell_type": "code",
   "execution_count": 2,
   "metadata": {
    "collapsed": false
   },
   "outputs": [],
   "source": [
    "from __future__ import division\n",
    "import pandas as pd\n",
    "import numpy as np\n",
    "from matplotlib.patches import Polygon\n",
    "import matplotlib\n",
    "from matplotlib.collections import PatchCollection\n",
    "import mpl_toolkits\n",
    "from mpl_toolkits.basemap import Basemap\n",
    "from shapely.geometry import Point, Polygon, MultiPoint, MultiPolygon\n",
    "from shapely.prepared import prep\n",
    "from descartes import PolygonPatch\n",
    "import matplotlib.pyplot as plt\n",
    "from collections import defaultdict\n",
    "\n",
    "% matplotlib inline"
   ]
  },
  {
   "cell_type": "code",
   "execution_count": 6,
   "metadata": {
    "collapsed": true
   },
   "outputs": [],
   "source": [
    "pd.options.display.max_columns = 999\n",
    "pd.options.display.max_rows = 200"
   ]
  },
  {
   "cell_type": "code",
   "execution_count": 419,
   "metadata": {
    "collapsed": false
   },
   "outputs": [],
   "source": [
    "df=pd.read_csv('data/data_sample.csv')"
   ]
  },
  {
   "cell_type": "code",
   "execution_count": 7,
   "metadata": {
    "collapsed": false
   },
   "outputs": [
    {
     "data": {
      "text/html": [
       "<div>\n",
       "<table border=\"1\" class=\"dataframe\">\n",
       "  <thead>\n",
       "    <tr style=\"text-align: right;\">\n",
       "      <th></th>\n",
       "      <th>Unnamed: 0</th>\n",
       "      <th>id</th>\n",
       "      <th>address</th>\n",
       "      <th>latitude</th>\n",
       "      <th>longitude</th>\n",
       "      <th>street</th>\n",
       "      <th>city</th>\n",
       "      <th>state</th>\n",
       "      <th>county</th>\n",
       "      <th>zip</th>\n",
       "      <th>bed</th>\n",
       "      <th>bath</th>\n",
       "      <th>price</th>\n",
       "      <th>sqft</th>\n",
       "      <th>created_at</th>\n",
       "      <th>updated_at</th>\n",
       "      <th>remarks</th>\n",
       "      <th>mls_num</th>\n",
       "      <th>prop_type</th>\n",
       "      <th>details</th>\n",
       "      <th>status</th>\n",
       "      <th>list_date</th>\n",
       "      <th>miles_ratio</th>\n",
       "      <th>lot_size</th>\n",
       "      <th>year_built</th>\n",
       "      <th>parking_spaces</th>\n",
       "      <th>garage</th>\n",
       "      <th>neighborhood</th>\n",
       "      <th>school_district</th>\n",
       "      <th>lonlat</th>\n",
       "      <th>mls</th>\n",
       "      <th>mls_status</th>\n",
       "      <th>mls_prop_type</th>\n",
       "      <th>pending_date</th>\n",
       "      <th>selling_date</th>\n",
       "      <th>selling_price</th>\n",
       "    </tr>\n",
       "  </thead>\n",
       "  <tbody>\n",
       "    <tr>\n",
       "      <th>0</th>\n",
       "      <td>61493</td>\n",
       "      <td>62979</td>\n",
       "      <td>14424 6th Ave S</td>\n",
       "      <td>47.473534</td>\n",
       "      <td>-122.324989</td>\n",
       "      <td>6th</td>\n",
       "      <td>Burien</td>\n",
       "      <td>WA</td>\n",
       "      <td>King</td>\n",
       "      <td>98168.0</td>\n",
       "      <td>4.0</td>\n",
       "      <td>1.75</td>\n",
       "      <td>299800</td>\n",
       "      <td>2050</td>\n",
       "      <td>2016-03-21 15:11:11 -0700</td>\n",
       "      <td>2016-12-12 18:48:38 -0800</td>\n",
       "      <td>The right opportunity in a quiet neighborhood....</td>\n",
       "      <td>912436</td>\n",
       "      <td>Residential</td>\n",
       "      <td>{\"area\"=&gt;\"130\", \"city\"=&gt;\"Burien\", \"roof\"=&gt;\"[\\\"...</td>\n",
       "      <td>cancelled</td>\n",
       "      <td>2016-03-21 00:00:00 -0700</td>\n",
       "      <td>1.0</td>\n",
       "      <td>10218.0</td>\n",
       "      <td>1959.0</td>\n",
       "      <td>1.0</td>\n",
       "      <td>True</td>\n",
       "      <td>Burien</td>\n",
       "      <td>Highline</td>\n",
       "      <td>POINT (-122.324989 47.473534)</td>\n",
       "      <td>NWMLS</td>\n",
       "      <td>Cancelled</td>\n",
       "      <td>16 - 1 Story w/Bsmnt.</td>\n",
       "      <td>NaN</td>\n",
       "      <td>NaN</td>\n",
       "      <td>0</td>\n",
       "    </tr>\n",
       "    <tr>\n",
       "      <th>1</th>\n",
       "      <td>61239</td>\n",
       "      <td>62717</td>\n",
       "      <td>182 Huntingford St</td>\n",
       "      <td>48.077711</td>\n",
       "      <td>-122.869474</td>\n",
       "      <td>Huntingford</td>\n",
       "      <td>Port Townsend</td>\n",
       "      <td>WA</td>\n",
       "      <td>Jefferson</td>\n",
       "      <td>98368.0</td>\n",
       "      <td>3.0</td>\n",
       "      <td>2.00</td>\n",
       "      <td>299500</td>\n",
       "      <td>1726</td>\n",
       "      <td>2016-03-21 07:14:19 -0700</td>\n",
       "      <td>2016-11-16 10:34:27 -0800</td>\n",
       "      <td>3 Bed 2 Bath, 1726 sq ft. Open and bright floo...</td>\n",
       "      <td>907601</td>\n",
       "      <td>Residential</td>\n",
       "      <td>{\"area\"=&gt;\"482\", \"city\"=&gt;\"Port Townsend\", \"roof...</td>\n",
       "      <td>sold</td>\n",
       "      <td>2016-03-21 00:00:00 -0700</td>\n",
       "      <td>1.0</td>\n",
       "      <td>18467.0</td>\n",
       "      <td>2005.0</td>\n",
       "      <td>2.0</td>\n",
       "      <td>True</td>\n",
       "      <td>Ocean Grove</td>\n",
       "      <td>Port Townsend</td>\n",
       "      <td>POINT (-122.869474 48.077711)</td>\n",
       "      <td>NWMLS</td>\n",
       "      <td>Sold</td>\n",
       "      <td>NaN</td>\n",
       "      <td>2016-03-22</td>\n",
       "      <td>2016-05-23</td>\n",
       "      <td>315000</td>\n",
       "    </tr>\n",
       "    <tr>\n",
       "      <th>2</th>\n",
       "      <td>94941</td>\n",
       "      <td>127653</td>\n",
       "      <td>0 Lot 306 Trillium Rd</td>\n",
       "      <td>48.561758</td>\n",
       "      <td>-120.330388</td>\n",
       "      <td>Lot 306 Trillium</td>\n",
       "      <td>Winthrop</td>\n",
       "      <td>WA</td>\n",
       "      <td>Okanogan</td>\n",
       "      <td>98862.0</td>\n",
       "      <td>0.0</td>\n",
       "      <td>0.00</td>\n",
       "      <td>125000</td>\n",
       "      <td>0</td>\n",
       "      <td>2016-05-26 17:56:10 -0700</td>\n",
       "      <td>2017-02-01 15:01:24 -0800</td>\n",
       "      <td>Create your own private paradise on 2.8 acres ...</td>\n",
       "      <td>947565</td>\n",
       "      <td>Vacant Land</td>\n",
       "      <td>{\"gas\"=&gt;\"Not Available\", \"sks\"=&gt;\"true\", \"area\"...</td>\n",
       "      <td>active</td>\n",
       "      <td>2016-05-26 00:00:00 -0700</td>\n",
       "      <td>1.0</td>\n",
       "      <td>121968.0</td>\n",
       "      <td>0.0</td>\n",
       "      <td>NaN</td>\n",
       "      <td>False</td>\n",
       "      <td>Edelweiss</td>\n",
       "      <td>Methow Valley</td>\n",
       "      <td>POINT (-120.330388 48.561758)</td>\n",
       "      <td>NWMLS</td>\n",
       "      <td>Active</td>\n",
       "      <td>41 - Res-Over 1 Acre</td>\n",
       "      <td>NaN</td>\n",
       "      <td>NaN</td>\n",
       "      <td>0</td>\n",
       "    </tr>\n",
       "    <tr>\n",
       "      <th>3</th>\n",
       "      <td>53132</td>\n",
       "      <td>54405</td>\n",
       "      <td>356 Melissa St Camano Island WA 98282</td>\n",
       "      <td>48.223936</td>\n",
       "      <td>-122.528276</td>\n",
       "      <td>Melissa</td>\n",
       "      <td>Camano Island</td>\n",
       "      <td>WA</td>\n",
       "      <td>Island</td>\n",
       "      <td>98282.0</td>\n",
       "      <td>3.0</td>\n",
       "      <td>2.00</td>\n",
       "      <td>265000</td>\n",
       "      <td>1609</td>\n",
       "      <td>2016-03-09 14:33:40 -0800</td>\n",
       "      <td>2016-11-16 10:32:23 -0800</td>\n",
       "      <td>1,600+ square foot north-end island home! Feat...</td>\n",
       "      <td>768562</td>\n",
       "      <td>Residential</td>\n",
       "      <td>{\"gas\"=&gt;nil, \"lgd\"=&gt;nil, \"sks\"=&gt;nil, \"area\"=&gt;\"...</td>\n",
       "      <td>sold</td>\n",
       "      <td>2015-04-08 00:00:00 -0700</td>\n",
       "      <td>1.0</td>\n",
       "      <td>9600.0</td>\n",
       "      <td>1990.0</td>\n",
       "      <td>2.0</td>\n",
       "      <td>True</td>\n",
       "      <td>Madrona</td>\n",
       "      <td>Stanwood</td>\n",
       "      <td>POINT (-122.528276 48.223936)</td>\n",
       "      <td>NWMLS</td>\n",
       "      <td>Sold</td>\n",
       "      <td>NaN</td>\n",
       "      <td>2016-03-09</td>\n",
       "      <td>2016-04-25</td>\n",
       "      <td>265000</td>\n",
       "    </tr>\n",
       "  </tbody>\n",
       "</table>\n",
       "</div>"
      ],
      "text/plain": [
       "   Unnamed: 0      id                                address   latitude  \\\n",
       "0       61493   62979                        14424 6th Ave S  47.473534   \n",
       "1       61239   62717                     182 Huntingford St  48.077711   \n",
       "2       94941  127653                  0 Lot 306 Trillium Rd  48.561758   \n",
       "3       53132   54405  356 Melissa St Camano Island WA 98282  48.223936   \n",
       "\n",
       "    longitude            street           city state     county      zip  bed  \\\n",
       "0 -122.324989               6th         Burien    WA       King  98168.0  4.0   \n",
       "1 -122.869474       Huntingford  Port Townsend    WA  Jefferson  98368.0  3.0   \n",
       "2 -120.330388  Lot 306 Trillium       Winthrop    WA   Okanogan  98862.0  0.0   \n",
       "3 -122.528276           Melissa  Camano Island    WA     Island  98282.0  3.0   \n",
       "\n",
       "   bath   price  sqft                 created_at                 updated_at  \\\n",
       "0  1.75  299800  2050  2016-03-21 15:11:11 -0700  2016-12-12 18:48:38 -0800   \n",
       "1  2.00  299500  1726  2016-03-21 07:14:19 -0700  2016-11-16 10:34:27 -0800   \n",
       "2  0.00  125000     0  2016-05-26 17:56:10 -0700  2017-02-01 15:01:24 -0800   \n",
       "3  2.00  265000  1609  2016-03-09 14:33:40 -0800  2016-11-16 10:32:23 -0800   \n",
       "\n",
       "                                             remarks  mls_num    prop_type  \\\n",
       "0  The right opportunity in a quiet neighborhood....   912436  Residential   \n",
       "1  3 Bed 2 Bath, 1726 sq ft. Open and bright floo...   907601  Residential   \n",
       "2  Create your own private paradise on 2.8 acres ...   947565  Vacant Land   \n",
       "3  1,600+ square foot north-end island home! Feat...   768562  Residential   \n",
       "\n",
       "                                             details     status  \\\n",
       "0  {\"area\"=>\"130\", \"city\"=>\"Burien\", \"roof\"=>\"[\\\"...  cancelled   \n",
       "1  {\"area\"=>\"482\", \"city\"=>\"Port Townsend\", \"roof...       sold   \n",
       "2  {\"gas\"=>\"Not Available\", \"sks\"=>\"true\", \"area\"...     active   \n",
       "3  {\"gas\"=>nil, \"lgd\"=>nil, \"sks\"=>nil, \"area\"=>\"...       sold   \n",
       "\n",
       "                   list_date  miles_ratio  lot_size  year_built  \\\n",
       "0  2016-03-21 00:00:00 -0700          1.0   10218.0      1959.0   \n",
       "1  2016-03-21 00:00:00 -0700          1.0   18467.0      2005.0   \n",
       "2  2016-05-26 00:00:00 -0700          1.0  121968.0         0.0   \n",
       "3  2015-04-08 00:00:00 -0700          1.0    9600.0      1990.0   \n",
       "\n",
       "   parking_spaces garage neighborhood school_district  \\\n",
       "0             1.0   True       Burien        Highline   \n",
       "1             2.0   True  Ocean Grove   Port Townsend   \n",
       "2             NaN  False    Edelweiss   Methow Valley   \n",
       "3             2.0   True      Madrona        Stanwood   \n",
       "\n",
       "                          lonlat    mls mls_status          mls_prop_type  \\\n",
       "0  POINT (-122.324989 47.473534)  NWMLS  Cancelled  16 - 1 Story w/Bsmnt.   \n",
       "1  POINT (-122.869474 48.077711)  NWMLS       Sold                    NaN   \n",
       "2  POINT (-120.330388 48.561758)  NWMLS     Active   41 - Res-Over 1 Acre   \n",
       "3  POINT (-122.528276 48.223936)  NWMLS       Sold                    NaN   \n",
       "\n",
       "  pending_date selling_date  selling_price  \n",
       "0          NaN          NaN              0  \n",
       "1   2016-03-22   2016-05-23         315000  \n",
       "2          NaN          NaN              0  \n",
       "3   2016-03-09   2016-04-25         265000  "
      ]
     },
     "execution_count": 7,
     "metadata": {},
     "output_type": "execute_result"
    }
   ],
   "source": [
    "df.head(4)"
   ]
  },
  {
   "cell_type": "code",
   "execution_count": 8,
   "metadata": {
    "collapsed": true
   },
   "outputs": [],
   "source": [
    "def plot_prepper(m, shapefilename, df_key):\n",
    "    '''\n",
    "    Generate dataframe for plotting\n",
    "    '''\n",
    "    _out = m.readshapefile(shapefilename, name='seattle', drawbounds=False, color='none', zorder=2)\n",
    "    # set up a map dataframe for neighborhood outlines\n",
    "    cent_lons = [float((Polygon(points).centroid.wkt).split()[1][1:]) for points in m.seattle]\n",
    "    cent_lats = [float((Polygon(points).centroid.wkt).strip(')').split()[2]) for points in m.seattle]\n",
    "\n",
    "    df_poly = pd.DataFrame({\n",
    "        'poly': [Polygon(points) for points in m.seattle],\n",
    "        'name': [item[df_key] for item in m.seattle_info],\n",
    "    })\n",
    "    df_poly['centroid_1'] = cent_lons\n",
    "    df_poly['centroid_2'] = cent_lats\n",
    "    return _out, df_poly"
   ]
  },
  {
   "cell_type": "markdown",
   "metadata": {},
   "source": [
    "### Read in neighborhood shape file"
   ]
  },
  {
   "cell_type": "code",
   "execution_count": 9,
   "metadata": {
    "collapsed": true
   },
   "outputs": [],
   "source": [
    "# Read in neighborhood shape file\n",
    "hood_shapefilename = 'neighborhoods/WGS84/Neighborhoods'\n",
    "hood_coords = (-122.43595589761988, 47.49551362397606, \n",
    "               -122.23604445458412, 47.73416494684497)\n",
    "\n",
    "w, h = hood_coords[2] - hood_coords[0], hood_coords[3] - hood_coords[1]\n",
    "extra = 0.005"
   ]
  },
  {
   "cell_type": "code",
   "execution_count": 14,
   "metadata": {
    "collapsed": false
   },
   "outputs": [
    {
     "name": "stdout",
     "output_type": "stream",
     "text": [
      "0\n"
     ]
    },
    {
     "data": {
      "image/png": "[encoded data removed]",
      "text/plain": [
       "<matplotlib.figure.Figure at 0x10f73a8d0>"
      ]
     },
     "metadata": {},
     "output_type": "display_data"
    }
   ],
   "source": [
    "# Initialize the plot\n",
    "figwidth = 12\n",
    "fig = plt.figure(figsize=(figwidth, figwidth*h/w))\n",
    "ax = fig.add_subplot(111, axisbg='w', frame_on=False)\n",
    "m = Basemap(projection='tmerc', ellps='WGS84',\n",
    "            lon_0=np.mean([hood_coords[0], hood_coords[2]]),\n",
    "            lat_0=np.mean([hood_coords[1], hood_coords[3]]),\n",
    "            llcrnrlon=hood_coords[0] - extra * w,\n",
    "            llcrnrlat=hood_coords[1] - (extra * h),\n",
    "            urcrnrlon=hood_coords[2] + extra * w,\n",
    "            urcrnrlat=hood_coords[3] + (extra * h),\n",
    "            resolution='i',  suppress_ticks=True)\n",
    "# Get dataframe for plotting\n",
    "_out, df_map = plot_prepper(m, hood_shapefilename, 'S_HOOD')\n",
    "nbr_names = df_map['name'].unique()\n",
    "\n",
    "# Draw neighborhoods with grey outlines\n",
    "df_map['patches'] = df_map['poly'].map(lambda x: PolygonPatch(x, ec='#050505', lw=.8, alpha=1., zorder=4))\n",
    "pc = PatchCollection(df_map['patches'], match_original=True)\n",
    "pc.set_facecolor('w')\n",
    "ax.add_collection(pc)\n",
    "\n",
    "# Scale the map\n",
    "m.drawmapscale(hood_coords[0] + 0.08, hood_coords[1] + -0.01, \n",
    "               hood_coords[0], hood_coords[1], 10., barstyle='fancy',\n",
    "               fillcolor1='w', fillcolor2='#555555', zorder=5, ax=ax,)\n",
    "\n",
    "lons = df.longitude\n",
    "lats = df.latitude\n",
    "\n",
    "pt = []\n",
    "xs = []\n",
    "ys = []\n",
    "\n",
    "'''\n",
    "This plots all the latitude/longitude points\n",
    "'''\n",
    "for mapped_x, mapped_y in zip(lons, lats):\n",
    "    xpt, ypt = m(mapped_x, mapped_y)\n",
    "    plt.plot(xpt, ypt, '.', markersize=5, alpha=0.03, color='r')\n",
    "    pt.append(Point(xpt, ypt))\n",
    "    xs.append(xpt)\n",
    "    ys.append(ypt)\n",
    "\n",
    "Labels = []\n",
    "nmlist = []\n",
    "\n",
    "'''\n",
    "Checks the neighborhood of point\n",
    "'''\n",
    "# Creates list of neighborhoods\n",
    "for polygon in df_map['poly']:\n",
    "    nm = df_map.loc[df_map['poly'] == polygon, 'name'].iloc[0]\n",
    "    if len(nm.strip()) < 4 or nm in nmlist:\n",
    "        continue\n",
    "    nmlist.append(nm)\n",
    "\n",
    "\"\"\"\n",
    "Determines neighborhood of point\n",
    "\"\"\"\n",
    "for i, p in enumerate(pt):\n",
    "    # Create Unknown placeholder to capture points no in a neighborhood\n",
    "    Labels.append('Unknown')\n",
    "    # Tracks progress\n",
    "    if i % 50000 == 0:\n",
    "        print i\n",
    "    # Creates polygon and if pt in polygon records neighborhood name\n",
    "    for j, row in df_map.iterrows():\n",
    "        polygon = row['poly']\n",
    "        nm = row[0]\n",
    "        if polygon.contains(p):\n",
    "            Labels[i] = nm\n",
    "\n",
    "# Add neighborhood names\n",
    "nml = []\n",
    "for i, lon in enumerate(df_map['centroid_1'].values):\n",
    "    if df_map['name'].values[i] in nml:\n",
    "        continue\n",
    "    nml.append(df_map['name'].values[i])\n",
    "    if len(df_map['name'].values[i]) > 3:\n",
    "        plt.text(lon, df_map['centroid_2'].values[i], df_map['name'].values[i], size=7, ha='center')\n",
    "\n",
    "ax.axes.get_xaxis().set_visible(False)\n",
    "#plt.savefig('../images/seattle_911_neighborhoods.png')\n"
   ]
  },
  {
   "cell_type": "code",
   "execution_count": 46,
   "metadata": {
    "collapsed": false
   },
   "outputs": [
    {
     "data": {
      "text/plain": [
       "20003"
      ]
     },
     "execution_count": 46,
     "metadata": {},
     "output_type": "execute_result"
    }
   ],
   "source": [
    "len(Labels)"
   ]
  },
  {
   "cell_type": "code",
   "execution_count": 47,
   "metadata": {
    "collapsed": false
   },
   "outputs": [
    {
     "data": {
      "text/plain": [
       "(20003, 37)"
      ]
     },
     "execution_count": 47,
     "metadata": {},
     "output_type": "execute_result"
    }
   ],
   "source": [
    "df.shape"
   ]
  },
  {
   "cell_type": "code",
   "execution_count": 420,
   "metadata": {
    "collapsed": false
   },
   "outputs": [],
   "source": [
    "df['city_neighborhood'] = Labels"
   ]
  },
  {
   "cell_type": "code",
   "execution_count": 34,
   "metadata": {
    "collapsed": false
   },
   "outputs": [
    {
     "data": {
      "text/html": [
       "<div>\n",
       "<table border=\"1\" class=\"dataframe\">\n",
       "  <thead>\n",
       "    <tr style=\"text-align: right;\">\n",
       "      <th></th>\n",
       "      <th>neighborhood</th>\n",
       "      <th>city_neighborhood</th>\n",
       "    </tr>\n",
       "  </thead>\n",
       "  <tbody>\n",
       "    <tr>\n",
       "      <th>6</th>\n",
       "      <td>Bitter Lake</td>\n",
       "      <td>Bitter Lake</td>\n",
       "    </tr>\n",
       "    <tr>\n",
       "      <th>46</th>\n",
       "      <td>Phinney Ridge</td>\n",
       "      <td>Phinney Ridge</td>\n",
       "    </tr>\n",
       "    <tr>\n",
       "      <th>56</th>\n",
       "      <td>Central Area</td>\n",
       "      <td>Minor</td>\n",
       "    </tr>\n",
       "    <tr>\n",
       "      <th>73</th>\n",
       "      <td>Wallingford</td>\n",
       "      <td>Fremont</td>\n",
       "    </tr>\n",
       "    <tr>\n",
       "      <th>98</th>\n",
       "      <td>Queen Anne</td>\n",
       "      <td>West Queen Anne</td>\n",
       "    </tr>\n",
       "    <tr>\n",
       "      <th>103</th>\n",
       "      <td>Central Area</td>\n",
       "      <td>Minor</td>\n",
       "    </tr>\n",
       "    <tr>\n",
       "      <th>111</th>\n",
       "      <td>Belltown</td>\n",
       "      <td>Belltown</td>\n",
       "    </tr>\n",
       "    <tr>\n",
       "      <th>138</th>\n",
       "      <td>Bryant</td>\n",
       "      <td>Ravenna</td>\n",
       "    </tr>\n",
       "    <tr>\n",
       "      <th>165</th>\n",
       "      <td>Maple Leaf</td>\n",
       "      <td>Roosevelt</td>\n",
       "    </tr>\n",
       "    <tr>\n",
       "      <th>178</th>\n",
       "      <td>Columbia City</td>\n",
       "      <td>Columbia City</td>\n",
       "    </tr>\n",
       "  </tbody>\n",
       "</table>\n",
       "</div>"
      ],
      "text/plain": [
       "      neighborhood city_neighborhood\n",
       "6      Bitter Lake       Bitter Lake\n",
       "46   Phinney Ridge     Phinney Ridge\n",
       "56    Central Area             Minor\n",
       "73     Wallingford           Fremont\n",
       "98      Queen Anne   West Queen Anne\n",
       "103   Central Area             Minor\n",
       "111       Belltown          Belltown\n",
       "138         Bryant           Ravenna\n",
       "165     Maple Leaf         Roosevelt\n",
       "178  Columbia City     Columbia City"
      ]
     },
     "execution_count": 34,
     "metadata": {},
     "output_type": "execute_result"
    }
   ],
   "source": [
    "df[df['city_neighborhood']!='Unknown'][['neighborhood','city_neighborhood']].head(10)"
   ]
  },
  {
   "cell_type": "markdown",
   "metadata": {},
   "source": [
    "## Make sure to change  \"North Beach/Blue Ridge' to North Beach / Blue Ridge and  \"'Harrison/Denny-Blaine'' to 'Harrison / Denny-Blaine'"
   ]
  },
  {
   "cell_type": "code",
   "execution_count": 481,
   "metadata": {
    "collapsed": true
   },
   "outputs": [],
   "source": [
    "df=df[df['city_neighborhood']!='Unknown']"
   ]
  },
  {
   "cell_type": "code",
   "execution_count": 488,
   "metadata": {
    "collapsed": false
   },
   "outputs": [
    {
     "data": {
      "text/plain": [
       "['Adams',\n",
       " 'Alki',\n",
       " 'Arbor Heights',\n",
       " 'Atlantic',\n",
       " 'Belltown',\n",
       " 'Bitter Lake',\n",
       " 'Briarcliff',\n",
       " 'Brighton',\n",
       " 'Broadview',\n",
       " 'Broadway',\n",
       " 'Bryant',\n",
       " 'Cedar Park',\n",
       " 'Central Business District',\n",
       " 'Columbia City',\n",
       " 'Crown Hill',\n",
       " 'Dunlap',\n",
       " 'East Queen Anne',\n",
       " 'Eastlake',\n",
       " 'Fairmount Park',\n",
       " 'Fauntleroy',\n",
       " 'First Hill',\n",
       " 'Fremont',\n",
       " 'Gatewood',\n",
       " 'Genesee',\n",
       " 'Georgetown',\n",
       " 'Green Lake',\n",
       " 'Greenwood',\n",
       " 'Haller Lake',\n",
       " 'Harrison/Denny-Blaine',\n",
       " 'High Point',\n",
       " 'Highland Park',\n",
       " 'Holly Park',\n",
       " 'Interbay',\n",
       " 'International District',\n",
       " 'Laurelhurst',\n",
       " 'Lawton Park',\n",
       " 'Leschi',\n",
       " 'Lower Queen Anne',\n",
       " 'Loyal Heights',\n",
       " 'Madison Park',\n",
       " 'Madrona',\n",
       " 'Mann',\n",
       " 'Maple Leaf',\n",
       " 'Matthews Beach',\n",
       " 'Meadowbrook',\n",
       " 'Mid-Beacon Hill',\n",
       " 'Minor',\n",
       " 'Montlake',\n",
       " 'Mount Baker',\n",
       " 'North Admiral',\n",
       " 'North Beach/Blue Ridge',\n",
       " 'North Beacon Hill',\n",
       " 'North College Park',\n",
       " 'North Delridge',\n",
       " 'North Queen Anne',\n",
       " 'Olympic Hills',\n",
       " 'Phinney Ridge',\n",
       " 'Pike-Market',\n",
       " 'Pinehurst',\n",
       " 'Pioneer Square',\n",
       " 'Portage Bay',\n",
       " 'Rainier Beach',\n",
       " 'Rainier View',\n",
       " 'Ravenna',\n",
       " 'Riverview',\n",
       " 'Roosevelt',\n",
       " 'Roxhill',\n",
       " 'Sand Point',\n",
       " 'Seaview',\n",
       " 'Seward Park',\n",
       " 'South Beacon Hill',\n",
       " 'South Delridge',\n",
       " 'South Lake Union',\n",
       " 'South Park',\n",
       " 'Southeast Magnolia',\n",
       " 'Stevens',\n",
       " 'Sunset Hill',\n",
       " 'University District',\n",
       " 'Victory Heights',\n",
       " 'View Ridge',\n",
       " 'Wallingford',\n",
       " 'Wedgwood',\n",
       " 'West Queen Anne',\n",
       " 'West Woodland',\n",
       " 'Westlake',\n",
       " 'Whittier Heights',\n",
       " 'Windermere',\n",
       " 'Yesler Terrace']"
      ]
     },
     "execution_count": 488,
     "metadata": {},
     "output_type": "execute_result"
    }
   ],
   "source": [
    "city1 = list(np.unique(df.city_neighborhood))\n",
    "city1"
   ]
  },
  {
   "cell_type": "code",
   "execution_count": 489,
   "metadata": {
    "collapsed": true
   },
   "outputs": [],
   "source": [
    "city = ['Sunset Hill', 'Crown Hill', 'Greenwood', 'North College Park',\n",
    "         'North Beach / Blue Ridge', 'Broadview', 'Bitter Lake',\n",
    "         'Haller Lake', 'Loyal Heights', 'Adams', 'Whittier Heights',\n",
    "         'West Woodland', 'Phinney Ridge', 'Wallingford', 'Fremont',\n",
    "         'Green Lake','Pinehurst', 'Maple Leaf', 'Wedgwood', 'Matthews Beach',\n",
    "         'Meadowbrook', 'Olympic Hills', 'Cedar Park', 'Victory Heights',\n",
    "         'View Ridge', 'Ravenna', 'Sand Point', 'Bryant', 'Windermere',\n",
    "         'Laurelhurst', 'Roosevelt', 'University District','West Queen Anne', 'North Queen Anne', 'Eastlake', \n",
    "         'Lawton Park', 'Briarcliff', 'Southeast Magnolia', \n",
    "         'Interbay', 'East Queen Anne','Montlake', 'Portage Bay', 'Madison Park', 'Broadway',\n",
    "         'Stevens', 'Leschi', 'Madrona', 'Harrison / Denny-Blaine',\n",
    "         'Minor', 'Mann', 'Atlantic', 'First Hill', 'Yesler Terrace','Pike-Market', 'International District', \n",
    "         'Central Business District', 'Pioneer Square','Belltown', 'Lower Queen Anne', 'Westlake', 'South Lake Union','Alki', 'North Admiral', 'Fairmount Park', 'Genesee',\n",
    "         'Fauntleroy', 'North Delridge', 'Riverview', 'High Point',\n",
    "         'South Delridge', 'Roxhill', 'Highland Park', 'Harbor Island',\n",
    "         'South Park', 'Seaview', 'Gatewood', 'Arbor Heights','North Beacon Hill', 'Mid-Beacon Hill', 'South Beacon Hill',\n",
    "         'Brighton', 'Dunlap', 'Rainier Beach', 'Rainier View',\n",
    "         'Mount Baker', 'Columbia City', 'Seward Park', 'Georgetown',\n",
    "         'Holly Park', 'Industrial District']"
   ]
  },
  {
   "cell_type": "code",
   "execution_count": 491,
   "metadata": {
    "collapsed": false
   },
   "outputs": [
    {
     "name": "stdout",
     "output_type": "stream",
     "text": [
      "Harrison/Denny-Blaine\n",
      "North Beach/Blue Ridge\n"
     ]
    }
   ],
   "source": [
    "for i in city1:\n",
    "    if i not in city:\n",
    "        print i"
   ]
  },
  {
   "cell_type": "code",
   "execution_count": 251,
   "metadata": {
    "collapsed": false
   },
   "outputs": [],
   "source": [
    "#city_n = sorted(zone)"
   ]
  },
  {
   "cell_type": "code",
   "execution_count": 252,
   "metadata": {
    "collapsed": true
   },
   "outputs": [],
   "source": [
    "street=[u'Alki',\n",
    " u'Arbor Heights',\n",
    " u'Atlantic',\n",
    " u'Ballard',\n",
    " u'Beacon Hill',\n",
    " u'Belltown',\n",
    " u'Briarcrest',\n",
    " u'Broadview Bitter Lake',\n",
    " u'Broadway (Capitol Hill)',\n",
    " u'Cedar Park / Meadowbrook',\n",
    " u'Columbia City',\n",
    " u'Downtown (Central Business District)',\n",
    " u'East Queen Anne',\n",
    " u'Eastlake',\n",
    " u'Fairmount Park',\n",
    " u'Fauntleroy',\n",
    " u'Fremont',\n",
    " u'Gatewood',\n",
    " u'Genesee',\n",
    " u'Georgetown',\n",
    " u'Green Lake',\n",
    " u'Haller Lake',\n",
    " u'Harbor Island',\n",
    " u'Harrison / Denny Blaine',\n",
    " u'High Point',\n",
    " u'Highland Park',\n",
    " u'Highland Terrace',\n",
    " u'Industrial District',\n",
    " u'Interbay',\n",
    " u'International District',\n",
    " u'Laurelhurst / Sand Point',\n",
    " u'Leschi',\n",
    " u'Licton Springs',\n",
    " u'Lower Queen Anne',\n",
    " u'Madison Park',\n",
    " u'Madrona',\n",
    " u'Magnolia',\n",
    " u'Mann',\n",
    " u'Minor',\n",
    " u'Montlake',\n",
    " u'Mount Baker',\n",
    " u'North Admiral',\n",
    " u'North Beach Blue Ridge',\n",
    " u'North Beacon Hill',\n",
    " u'North Delridge',\n",
    " u'North Queen Anne',\n",
    " u'Northgate',\n",
    " u'Olympic Hills / Victory Heights',\n",
    " u'Phinney Ridge / Greenwood',\n",
    " u'Pike Market',\n",
    " u'Pioneer Square',\n",
    " u'Portage Bay',\n",
    " u'Rainier Beach',\n",
    " u'Ravenna / Bryant',\n",
    " u'Riverview',\n",
    " u'Roxhill',\n",
    " u'Seaview',\n",
    " u'Seward Park',\n",
    " u'South Beacon Hill',\n",
    " u'South Delridge',\n",
    " u'South Lake Union',\n",
    " u'South Park',\n",
    " u'Stevens (Capitol Hill)',\n",
    " u'Sunset Hill',\n",
    " u'University District',\n",
    " u'Wallingford',\n",
    " u'Wedgeview Ridge',\n",
    " u'West Queen Anne',\n",
    " u'Westlake',\n",
    " u'Whittier Heights',\n",
    " u'Yesler Terrace']"
   ]
  },
  {
   "cell_type": "code",
   "execution_count": null,
   "metadata": {
    "collapsed": true
   },
   "outputs": [],
   "source": [
    "#s.translate(None, string.punctuation)"
   ]
  },
  {
   "cell_type": "code",
   "execution_count": 226,
   "metadata": {
    "collapsed": false
   },
   "outputs": [],
   "source": [
    "import string\n",
    "punctuations_=set(string.punctuation)"
   ]
  },
  {
   "cell_type": "code",
   "execution_count": 253,
   "metadata": {
    "collapsed": false
   },
   "outputs": [],
   "source": [
    "# clean punctuations - turn this into punctuation\n",
    "def remove_punctuations(input_list):\n",
    "    '''\n",
    "    remove punctuations from the given list of string\n",
    "    input list of strings\n",
    "    output list of strings\n",
    "    '''\n",
    "    n_list=[]\n",
    "    for n in input_list:\n",
    "        str_n=str(n)\n",
    "        n_list.append(str_n.translate(None,string.punctuation))\n",
    "    return n_list"
   ]
  },
  {
   "cell_type": "code",
   "execution_count": 254,
   "metadata": {
    "collapsed": true
   },
   "outputs": [],
   "source": [
    "street_clean=remove_punctuations(street)"
   ]
  },
  {
   "cell_type": "code",
   "execution_count": 258,
   "metadata": {
    "collapsed": true
   },
   "outputs": [],
   "source": [
    "city_clean=remove_punctuations(city)"
   ]
  },
  {
   "cell_type": "code",
   "execution_count": 259,
   "metadata": {
    "collapsed": false
   },
   "outputs": [
    {
     "data": {
      "text/plain": [
       "['Sunset Hill',\n",
       " 'Crown Hill',\n",
       " 'Greenwood',\n",
       " 'North College Park',\n",
       " 'North Beach  Blue Ridge',\n",
       " 'Broadview',\n",
       " 'Bitter Lake',\n",
       " 'Haller Lake',\n",
       " 'Loyal Heights',\n",
       " 'Adams',\n",
       " 'Whittier Heights',\n",
       " 'West Woodland',\n",
       " 'Phinney Ridge',\n",
       " 'Wallingford',\n",
       " 'Fremont',\n",
       " 'Green Lake',\n",
       " 'Pinehurst',\n",
       " 'Maple Leaf',\n",
       " 'Wedgwood',\n",
       " 'Matthews Beach',\n",
       " 'Meadowbrook',\n",
       " 'Olympic Hills',\n",
       " 'Cedar Park',\n",
       " 'Victory Heights',\n",
       " 'View Ridge',\n",
       " 'Ravenna',\n",
       " 'Sand Point',\n",
       " 'Bryant',\n",
       " 'Windermere',\n",
       " 'Laurelhurst',\n",
       " 'Roosevelt',\n",
       " 'University District',\n",
       " 'West Queen Anne',\n",
       " 'North Queen Anne',\n",
       " 'Eastlake',\n",
       " 'Lawton Park',\n",
       " 'Briarcliff',\n",
       " 'Southeast Magnolia',\n",
       " 'Interbay',\n",
       " 'East Queen Anne',\n",
       " 'Montlake',\n",
       " 'Portage Bay',\n",
       " 'Madison Park',\n",
       " 'Broadway',\n",
       " 'Stevens',\n",
       " 'Leschi',\n",
       " 'Madrona',\n",
       " 'Harrison  DennyBlaine',\n",
       " 'Minor',\n",
       " 'Mann',\n",
       " 'Atlantic',\n",
       " 'First Hill',\n",
       " 'Yesler Terrace',\n",
       " 'PikeMarket',\n",
       " 'International District',\n",
       " 'Central Business District',\n",
       " 'Pioneer Square',\n",
       " 'Belltown',\n",
       " 'Lower Queen Anne',\n",
       " 'Westlake',\n",
       " 'South Lake Union',\n",
       " 'Alki',\n",
       " 'North Admiral',\n",
       " 'Fairmount Park',\n",
       " 'Genesee',\n",
       " 'Fauntleroy',\n",
       " 'North Delridge',\n",
       " 'Riverview',\n",
       " 'High Point',\n",
       " 'South Delridge',\n",
       " 'Roxhill',\n",
       " 'Highland Park',\n",
       " 'Harbor Island',\n",
       " 'South Park',\n",
       " 'Seaview',\n",
       " 'Gatewood',\n",
       " 'Arbor Heights',\n",
       " 'North Beacon Hill',\n",
       " 'MidBeacon Hill',\n",
       " 'South Beacon Hill',\n",
       " 'Brighton',\n",
       " 'Dunlap',\n",
       " 'Rainier Beach',\n",
       " 'Rainier View',\n",
       " 'Mount Baker',\n",
       " 'Columbia City',\n",
       " 'Seward Park',\n",
       " 'Georgetown',\n",
       " 'Holly Park',\n",
       " 'Industrial District']"
      ]
     },
     "execution_count": 259,
     "metadata": {},
     "output_type": "execute_result"
    }
   ],
   "source": [
    "city_clean"
   ]
  },
  {
   "cell_type": "code",
   "execution_count": 296,
   "metadata": {
    "collapsed": false
   },
   "outputs": [],
   "source": [
    "in_street_in_city={}\n",
    "in_street_not_city=[]\n",
    "for s in street_clean:\n",
    "    if s not in city_clean:\n",
    "        for c in city_clean:\n",
    "            if s.split()[0] == c.split()[0]:\n",
    "                if str(s) not in in_street_in_city:\n",
    "                    in_street_in_city[str(s)] = set()\n",
    "                in_street_in_city[str(s)].add(str(c))\n",
    "            else:\n",
    "                in_street_not_city.append(s)\n",
    "#        in_street_not_city.append(n)"
   ]
  },
  {
   "cell_type": "code",
   "execution_count": 297,
   "metadata": {
    "collapsed": false
   },
   "outputs": [],
   "source": [
    "in_street_not_city_set=set(in_street_not_city)\n",
    "mylist = list(in_street_not_city_set)\n",
    "for key in in_street_in_city:\n",
    "    if key in mylist:\n",
    "        mylist.remove(key)"
   ]
  },
  {
   "cell_type": "code",
   "execution_count": null,
   "metadata": {
    "collapsed": true
   },
   "outputs": [],
   "source": [
    "# in street list but not in city list"
   ]
  },
  {
   "cell_type": "code",
   "execution_count": 298,
   "metadata": {
    "collapsed": false
   },
   "outputs": [
    {
     "data": {
      "text/plain": [
       "['Ballard',\n",
       " 'Magnolia',\n",
       " 'Licton Springs',\n",
       " 'Downtown Central Business District',\n",
       " 'Wedgeview Ridge',\n",
       " 'Beacon Hill',\n",
       " 'Pike Market',\n",
       " 'Briarcrest',\n",
       " 'Northgate']"
      ]
     },
     "execution_count": 298,
     "metadata": {},
     "output_type": "execute_result"
    }
   ],
   "source": [
    "mylist"
   ]
  },
  {
   "cell_type": "code",
   "execution_count": null,
   "metadata": {
    "collapsed": true
   },
   "outputs": [],
   "source": []
  },
  {
   "cell_type": "code",
   "execution_count": 262,
   "metadata": {
    "collapsed": false
   },
   "outputs": [],
   "source": [
    "for key in in_street_in_city:\n",
    "    if len(in_street_in_city[key]) > 1:\n",
    "        for value in in_street_in_city[key]:\n",
    "            if value.split()[1]==key.split()[1]:\n",
    "                in_street_in_city[key]=value"
   ]
  },
  {
   "cell_type": "code",
   "execution_count": 263,
   "metadata": {
    "collapsed": false
   },
   "outputs": [
    {
     "data": {
      "text/plain": [
       "{'Broadview Bitter Lake': {'Broadview'},\n",
       " 'Broadway Capitol Hill': {'Broadway'},\n",
       " 'Cedar Park  Meadowbrook': {'Cedar Park'},\n",
       " 'Harrison  Denny Blaine': {'Harrison  DennyBlaine'},\n",
       " 'Highland Terrace': {'Highland Park'},\n",
       " 'Laurelhurst  Sand Point': {'Laurelhurst'},\n",
       " 'North Beach Blue Ridge': 'North Beach  Blue Ridge',\n",
       " 'Olympic Hills  Victory Heights': {'Olympic Hills'},\n",
       " 'Phinney Ridge  Greenwood': {'Phinney Ridge'},\n",
       " 'Ravenna  Bryant': {'Ravenna'},\n",
       " 'Stevens Capitol Hill': {'Stevens'}}"
      ]
     },
     "execution_count": 263,
     "metadata": {},
     "output_type": "execute_result"
    }
   ],
   "source": [
    "in_street_in_city"
   ]
  },
  {
   "cell_type": "code",
   "execution_count": 281,
   "metadata": {
    "collapsed": false
   },
   "outputs": [
    {
     "name": "stdout",
     "output_type": "stream",
     "text": [
      "Cedar Park / Meadowbrook\n",
      "Harrison / Denny Blaine\n",
      "Laurelhurst / Sand Point\n",
      "Olympic Hills / Victory Heights\n",
      "Phinney Ridge / Greenwood\n",
      "Ravenna / Bryant\n"
     ]
    }
   ],
   "source": [
    "for s in street:\n",
    "    if '/' in list(s):\n",
    "        print s"
   ]
  },
  {
   "cell_type": "code",
   "execution_count": 282,
   "metadata": {
    "collapsed": false
   },
   "outputs": [
    {
     "name": "stdout",
     "output_type": "stream",
     "text": [
      "Broadway (Capitol Hill)\n",
      "Downtown (Central Business District)\n",
      "Stevens (Capitol Hill)\n"
     ]
    }
   ],
   "source": [
    "for s in street:\n",
    "    if '(' in list(s):\n",
    "        print s"
   ]
  },
  {
   "cell_type": "code",
   "execution_count": 283,
   "metadata": {
    "collapsed": false
   },
   "outputs": [
    {
     "name": "stdout",
     "output_type": "stream",
     "text": [
      "North Beach / Blue Ridge\n",
      "Harrison / Denny-Blaine\n"
     ]
    }
   ],
   "source": [
    "for c in city:\n",
    "    if '/' in list(c):\n",
    "        print c"
   ]
  },
  {
   "cell_type": "code",
   "execution_count": 284,
   "metadata": {
    "collapsed": true
   },
   "outputs": [],
   "source": [
    "for c in city:\n",
    "    if '(' in list(c):\n",
    "        print c"
   ]
  },
  {
   "cell_type": "code",
   "execution_count": 285,
   "metadata": {
    "collapsed": true
   },
   "outputs": [],
   "source": [
    "## Based on this exploration ## manbuallly changed"
   ]
  },
  {
   "cell_type": "code",
   "execution_count": 310,
   "metadata": {
    "collapsed": false
   },
   "outputs": [],
   "source": [
    "# key street , value city , replace matching values in the city with the keys\n",
    "street_city ={'Broadview / Bitter Lake': {'Broadview,Bitter Lake'},\n",
    " 'Broadway (Capitol Hill)': {'Broadway'},\n",
    " 'Cedar Park / Meadowbrook': {'Cedar Park, Meadowbrook'},\n",
    " 'Harrison / Denny Blaine': {'Harrison/DennyBlaine'},\n",
    " 'Highland Terrace': {'Highland Park'},\n",
    " 'Laurelhurst / Sand Point': {'Laurelhurst,Sand Point','Windermere','View Ridge'},\n",
    " 'North Beach Blue Ridge': 'North Beach/Blue Ridge',\n",
    " 'Olympic Hills / Victory Heights': {'Olympic Hills,Victory Heights'},\n",
    " 'Phinney Ridge / Greenwood': {'Phinney Ridge,Greenwood','Crown Hill'},\n",
    " 'Ravenna / Bryant': {'Ravenna, Bryant','Roosevelt'}, # fix Bryantt to Bryant in street\n",
    " 'Stevens (Capitol Hill)': {'Stevens'},\n",
    " 'Downtown (Central Business District)':{'Central Business District','First Hill'},\n",
    " 'Pike Market':{'PikeMarket'},\n",
    " 'Ballard':{'West Woodland','Adams'},\n",
    " 'Magnolia':{'Lawton Park','Briarcliff','Southeast Magnolia'},\n",
    " 'Licton Springs':{'North College Park'},\n",
    " 'Wedgeview Ridge':{'Wedgwood','Matthews Beach'},\n",
    " 'Beacon Hill':{'Holly Park','Brighton','MidBeacon Hill'},\n",
    " 'Rainier Beach':{'Rainier Beach','Rainier View','Dunlap'},\n",
    " 'Northgate':{'Maple Leaf','Pinehurst'},\n",
    " 'Sunset Hill':{'Seunset Hill','Loyal Heights'}\n",
    "             }"
   ]
  },
  {
   "cell_type": "code",
   "execution_count": null,
   "metadata": {
    "collapsed": true
   },
   "outputs": [],
   "source": [
    "# In street but not in city\n",
    "[#'Ballard',\n",
    " #'Magnolia',\n",
    " #'Licton Springs',\n",
    "# 'Downtown Central Business District',\n",
    "# 'Wedgeview Ridge',\n",
    "# 'Beacon Hill',\n",
    "# 'Pike Market',\n",
    " 'Briarcrest', # not in the city neigb list\n",
    "# 'Northgate']"
   ]
  },
  {
   "cell_type": "code",
   "execution_count": null,
   "metadata": {
    "collapsed": true
   },
   "outputs": [],
   "source": [
    "[#'Adams',\n",
    "# 'Bitter Lake',\n",
    "# 'Briarcliff',\n",
    "# 'Brighton',\n",
    "# 'Broadview',\n",
    "# 'Broadway',\n",
    "# 'Bryant',\n",
    "# 'Cedar Park',\n",
    "# 'Central Business District',\n",
    "# 'Crown Hill',\n",
    "# 'Dunlap',\n",
    "# 'First Hill',\n",
    "# 'Greenwood',\n",
    "# 'Harrison  DennyBlaine',\n",
    "# 'Holly Park',\n",
    "# 'Laurelhurst',\n",
    "# 'Lawton Park',\n",
    "# 'Loyal Heights',\n",
    "# 'Maple Leaf',\n",
    "# 'Matthews Beach',\n",
    "# 'Meadowbrook',\n",
    "# 'MidBeacon Hill',\n",
    "# 'North Beach  Blue Ridge',\n",
    "# 'North College Park',\n",
    "# 'Olympic Hills',\n",
    "# 'Phinney Ridge',\n",
    "# 'PikeMarket',\n",
    "# 'Pinehurst',\n",
    "# 'Rainier View', # Rainier Beach\n",
    "# 'Ravenna',\n",
    "# 'Roosevelt',\n",
    "# 'Sand Point',\n",
    "# 'Southeast Magnolia',\n",
    "# 'Stevens',\n",
    "# 'Victory Heights',\n",
    "# 'View Ridge', # maybe in  'Wedgeview Ridge'\n",
    "# 'Wedgwood',\n",
    "# 'West Woodland',\n",
    "# 'Windermere']"
   ]
  },
  {
   "cell_type": "code",
   "execution_count": 267,
   "metadata": {
    "collapsed": false
   },
   "outputs": [
    {
     "data": {
      "text/plain": [
       "{'Ballard',\n",
       " 'Beacon Hill',\n",
       " 'Briarcrest',\n",
       " 'Broadview Bitter Lake',\n",
       " 'Broadway Capitol Hill',\n",
       " 'Cedar Park  Meadowbrook',\n",
       " 'Downtown Central Business District',\n",
       " 'Harrison  Denny Blaine',\n",
       " 'Highland Terrace',\n",
       " 'Laurelhurst  Sand Point',\n",
       " 'Licton Springs',\n",
       " 'Magnolia',\n",
       " 'North Beach Blue Ridge',\n",
       " 'Northgate',\n",
       " 'Olympic Hills  Victory Heights',\n",
       " 'Phinney Ridge  Greenwood',\n",
       " 'Pike Market',\n",
       " 'Ravenna  Bryant',\n",
       " 'Stevens Capitol Hill',\n",
       " 'Wedgeview Ridge'}"
      ]
     },
     "execution_count": 267,
     "metadata": {},
     "output_type": "execute_result"
    }
   ],
   "source": [
    "set(in_street_not_city)"
   ]
  },
  {
   "cell_type": "code",
   "execution_count": 301,
   "metadata": {
    "collapsed": true
   },
   "outputs": [],
   "source": [
    "in_city_in_street={}\n",
    "in_city_not_street=[]\n",
    "for c in city_clean:\n",
    "    if c not in street_clean:\n",
    "        for s in street_clean:\n",
    "            if c.split()[0] == s.split()[0]:\n",
    "                if str(c) not in in_city_in_street:\n",
    "                    in_city_in_street[str(c)] = set()\n",
    "                in_city_in_street[str(c)].add(str(s))\n",
    "            else:\n",
    "                in_city_not_street.append(c)\n",
    "#        in_street_not_city.append(n)"
   ]
  },
  {
   "cell_type": "code",
   "execution_count": 302,
   "metadata": {
    "collapsed": false
   },
   "outputs": [
    {
     "data": {
      "text/plain": [
       "{'Broadview': {'Broadview Bitter Lake'},\n",
       " 'Broadway': {'Broadway Capitol Hill'},\n",
       " 'Cedar Park': {'Cedar Park  Meadowbrook'},\n",
       " 'Harrison  DennyBlaine': {'Harrison  Denny Blaine'},\n",
       " 'Laurelhurst': {'Laurelhurst  Sand Point'},\n",
       " 'North Beach  Blue Ridge': {'North Admiral',\n",
       "  'North Beach Blue Ridge',\n",
       "  'North Beacon Hill',\n",
       "  'North Delridge',\n",
       "  'North Queen Anne'},\n",
       " 'North College Park': {'North Admiral',\n",
       "  'North Beach Blue Ridge',\n",
       "  'North Beacon Hill',\n",
       "  'North Delridge',\n",
       "  'North Queen Anne'},\n",
       " 'Olympic Hills': {'Olympic Hills  Victory Heights'},\n",
       " 'Phinney Ridge': {'Phinney Ridge  Greenwood'},\n",
       " 'Rainier View': {'Rainier Beach'},\n",
       " 'Ravenna': {'Ravenna  Bryant'},\n",
       " 'Stevens': {'Stevens Capitol Hill'},\n",
       " 'West Woodland': {'West Queen Anne'}}"
      ]
     },
     "execution_count": 302,
     "metadata": {},
     "output_type": "execute_result"
    }
   ],
   "source": [
    "in_city_in_street"
   ]
  },
  {
   "cell_type": "code",
   "execution_count": 303,
   "metadata": {
    "collapsed": true
   },
   "outputs": [],
   "source": [
    "for key in in_city_in_street:\n",
    "    if len(in_city_in_street[key]) > 1:\n",
    "        for value in in_city_in_street[key]:\n",
    "            if value.split()[1]==key.split()[1]:\n",
    "                in_city_in_street[key]=value"
   ]
  },
  {
   "cell_type": "code",
   "execution_count": 304,
   "metadata": {
    "collapsed": false
   },
   "outputs": [
    {
     "data": {
      "text/plain": [
       "{'Broadview': {'Broadview Bitter Lake'},\n",
       " 'Broadway': {'Broadway Capitol Hill'},\n",
       " 'Cedar Park': {'Cedar Park  Meadowbrook'},\n",
       " 'Harrison  DennyBlaine': {'Harrison  Denny Blaine'},\n",
       " 'Laurelhurst': {'Laurelhurst  Sand Point'},\n",
       " 'North Beach  Blue Ridge': 'North Beach Blue Ridge',\n",
       " 'North College Park': {'North Admiral',\n",
       "  'North Beach Blue Ridge',\n",
       "  'North Beacon Hill',\n",
       "  'North Delridge',\n",
       "  'North Queen Anne'},\n",
       " 'Olympic Hills': {'Olympic Hills  Victory Heights'},\n",
       " 'Phinney Ridge': {'Phinney Ridge  Greenwood'},\n",
       " 'Rainier View': {'Rainier Beach'},\n",
       " 'Ravenna': {'Ravenna  Bryant'},\n",
       " 'Stevens': {'Stevens Capitol Hill'},\n",
       " 'West Woodland': {'West Queen Anne'}}"
      ]
     },
     "execution_count": 304,
     "metadata": {},
     "output_type": "execute_result"
    }
   ],
   "source": [
    "in_city_in_street"
   ]
  },
  {
   "cell_type": "code",
   "execution_count": 305,
   "metadata": {
    "collapsed": false
   },
   "outputs": [
    {
     "data": {
      "text/plain": [
       "{'Adams',\n",
       " 'Bitter Lake',\n",
       " 'Briarcliff',\n",
       " 'Brighton',\n",
       " 'Broadview',\n",
       " 'Broadway',\n",
       " 'Bryant',\n",
       " 'Cedar Park',\n",
       " 'Central Business District',\n",
       " 'Crown Hill',\n",
       " 'Dunlap',\n",
       " 'First Hill',\n",
       " 'Greenwood',\n",
       " 'Harrison  DennyBlaine',\n",
       " 'Holly Park',\n",
       " 'Laurelhurst',\n",
       " 'Lawton Park',\n",
       " 'Loyal Heights',\n",
       " 'Maple Leaf',\n",
       " 'Matthews Beach',\n",
       " 'Meadowbrook',\n",
       " 'MidBeacon Hill',\n",
       " 'North Beach  Blue Ridge',\n",
       " 'North College Park',\n",
       " 'Olympic Hills',\n",
       " 'Phinney Ridge',\n",
       " 'PikeMarket',\n",
       " 'Pinehurst',\n",
       " 'Rainier View',\n",
       " 'Ravenna',\n",
       " 'Roosevelt',\n",
       " 'Sand Point',\n",
       " 'Southeast Magnolia',\n",
       " 'Stevens',\n",
       " 'Victory Heights',\n",
       " 'View Ridge',\n",
       " 'Wedgwood',\n",
       " 'West Woodland',\n",
       " 'Windermere'}"
      ]
     },
     "execution_count": 305,
     "metadata": {},
     "output_type": "execute_result"
    }
   ],
   "source": [
    "set(in_city_not_street)"
   ]
  },
  {
   "cell_type": "code",
   "execution_count": 306,
   "metadata": {
    "collapsed": true
   },
   "outputs": [],
   "source": [
    "in_city_not_street_set=set(in_city_not_street)\n",
    "mylist_ = list(in_city_not_street_set)\n",
    "for key in in_city_in_street:\n",
    "    if key in mylist_:\n",
    "        mylist_.remove(key)"
   ]
  },
  {
   "cell_type": "code",
   "execution_count": 308,
   "metadata": {
    "collapsed": false
   },
   "outputs": [
    {
     "data": {
      "text/plain": [
       "['Adams',\n",
       " 'Bitter Lake',\n",
       " 'Briarcliff',\n",
       " 'Brighton',\n",
       " 'Broadview',\n",
       " 'Broadway',\n",
       " 'Bryant',\n",
       " 'Cedar Park',\n",
       " 'Central Business District',\n",
       " 'Crown Hill',\n",
       " 'Dunlap',\n",
       " 'First Hill',\n",
       " 'Greenwood',\n",
       " 'Harrison  DennyBlaine',\n",
       " 'Holly Park',\n",
       " 'Laurelhurst',\n",
       " 'Lawton Park',\n",
       " 'Loyal Heights',\n",
       " 'Maple Leaf',\n",
       " 'Matthews Beach',\n",
       " 'Meadowbrook',\n",
       " 'MidBeacon Hill',\n",
       " 'North Beach  Blue Ridge',\n",
       " 'North College Park',\n",
       " 'Olympic Hills',\n",
       " 'Phinney Ridge',\n",
       " 'PikeMarket',\n",
       " 'Pinehurst',\n",
       " 'Rainier View',\n",
       " 'Ravenna',\n",
       " 'Roosevelt',\n",
       " 'Sand Point',\n",
       " 'Southeast Magnolia',\n",
       " 'Stevens',\n",
       " 'Victory Heights',\n",
       " 'View Ridge',\n",
       " 'Wedgwood',\n",
       " 'West Woodland',\n",
       " 'Windermere']"
      ]
     },
     "execution_count": 308,
     "metadata": {},
     "output_type": "execute_result"
    }
   ],
   "source": [
    " sorted(mylist_1)"
   ]
  },
  {
   "cell_type": "code",
   "execution_count": null,
   "metadata": {
    "collapsed": true
   },
   "outputs": [],
   "source": []
  },
  {
   "cell_type": "code",
   "execution_count": 349,
   "metadata": {
    "collapsed": true
   },
   "outputs": [],
   "source": [
    "# key street , value city , replace matching values in the city with the keys\n",
    "street_city ={'Broadview / Bitter Lake': ['Broadview,Bitter Lake'],\n",
    " 'Broadway (Capitol Hill)': ['Broadway'],\n",
    " 'Cedar Park / Meadowbrook': ['Cedar Park, Meadowbrook'],\n",
    " 'Harrison / Denny Blaine': ['Harrison/DennyBlaine'],\n",
    " 'Highland Terrace': ['Highland Park'],\n",
    " 'Laurelhurst / Sand Point': ['Laurelhurst,Sand Point','Windermere','View Ridge'],\n",
    " 'North Beach Blue Ridge': ['North Beach/Blue Ridge'],\n",
    " 'Olympic Hills / Victory Heights': ['Olympic Hills,Victory Heights'],\n",
    " 'Phinney Ridge / Greenwood': ['Phinney Ridge,Greenwood','Crown Hill'],\n",
    " 'Ravenna / Bryant': ['Ravenna, Bryant','Roosevelt'],\n",
    " 'Stevens (Capitol Hill)': ['Stevens'],\n",
    " 'Downtown (Central Business District)':['Central Business District','First Hill'],\n",
    " 'Pike Market':['PikeMarket'],\n",
    " 'Ballard':['West Woodland','Adams'],\n",
    " 'Magnolia':['Lawton Park','Briarcliff','Southeast Magnolia'],\n",
    " 'Licton Springs':['North College Park'],\n",
    " 'Wedgeview Ridge':['Wedgwood','Matthews Beach'],\n",
    " 'Beacon Hill':['Holly Park','Brighton','MidBeacon Hill'],\n",
    " 'Rainier Beach':['Rainier Beach','Rainier View','Dunlap'],\n",
    " 'Northgate':['Maple Leaf','Pinehurst'],\n",
    " 'Sunset Hill':['Seunset Hill','Loyal Heights']\n",
    "             }"
   ]
  },
  {
   "cell_type": "code",
   "execution_count": 350,
   "metadata": {
    "collapsed": false
   },
   "outputs": [],
   "source": [
    "street_city_dict=street_city \n",
    "for n in street:\n",
    "    if n not in street_city:\n",
    "        street_city_dict[str(n)]=[str(n)]"
   ]
  },
  {
   "cell_type": "code",
   "execution_count": 351,
   "metadata": {
    "collapsed": false
   },
   "outputs": [
    {
     "data": {
      "text/plain": [
       "72"
      ]
     },
     "execution_count": 351,
     "metadata": {},
     "output_type": "execute_result"
    }
   ],
   "source": [
    "len(street_city_dict)"
   ]
  },
  {
   "cell_type": "code",
   "execution_count": 356,
   "metadata": {
    "collapsed": false
   },
   "outputs": [],
   "source": [
    "city_street_dict={}\n",
    "for key,value in street_city_dict.iteritems():\n",
    "    if len(value)>1:\n",
    "        for v in value:\n",
    "            city_street_dict[v]=key\n",
    "    else:\n",
    "        city_street_dict[value[0]]=key"
   ]
  },
  {
   "cell_type": "markdown",
   "metadata": {},
   "source": [
    "### city_street_dict : city vs street advisor neighborhood dictionary"
   ]
  },
  {
   "cell_type": "code",
   "execution_count": 360,
   "metadata": {
    "collapsed": false
   },
   "outputs": [
    {
     "data": {
      "text/plain": [
       "86"
      ]
     },
     "execution_count": 360,
     "metadata": {},
     "output_type": "execute_result"
    }
   ],
   "source": [
    "len(city_street_dict)"
   ]
  },
  {
   "cell_type": "code",
   "execution_count": 512,
   "metadata": {
    "collapsed": false
   },
   "outputs": [],
   "source": [
    "for i in city1 :\n",
    "    if i not in city_street_dict.keys():\n",
    "        print i"
   ]
  },
  {
   "cell_type": "code",
   "execution_count": 511,
   "metadata": {
    "collapsed": false
   },
   "outputs": [],
   "source": [
    "city_street_dict = {'Adams': 'Ballard',\n",
    " 'Alki': 'Alki',\n",
    " 'Arbor Heights': 'Arbor Heights',\n",
    " 'Atlantic': 'Atlantic',\n",
    " 'Belltown': 'Belltown',\n",
    " 'Briarcliff': 'Magnolia',\n",
    " 'Briarcrest': 'Briarcrest',\n",
    " 'Brighton': 'Beacon Hill',\n",
    " 'Broadview Bitter Lake': 'Broadview Bitter Lake',\n",
    " 'Broadview': 'Broadview / Bitter Lake',\n",
    " 'Bitter Lake': 'Broadview / Bitter Lake',\n",
    " 'Broadway': 'Broadway (Capitol Hill)',\n",
    " 'Cedar Park': 'Cedar Park / Meadowbrook',\n",
    " 'Meadowbrook': 'Cedar Park / Meadowbrook',\n",
    " 'Central Business District': 'Downtown (Central Business District)',\n",
    " 'Columbia City': 'Columbia City',\n",
    " 'Crown Hill': 'Phinney Ridge / Greenwood',\n",
    " 'Dunlap': 'Rainier Beach',\n",
    " 'East Queen Anne': 'East Queen Anne',\n",
    " 'Eastlake': 'Eastlake',\n",
    " 'Fairmount Park': 'Fairmount Park',\n",
    " 'Fauntleroy': 'Fauntleroy',\n",
    " 'First Hill': 'Downtown (Central Business District)',\n",
    " 'Fremont': 'Fremont',\n",
    " 'Gatewood': 'Gatewood',\n",
    " 'Genesee': 'Genesee',\n",
    " 'Georgetown': 'Georgetown',\n",
    " 'Green Lake': 'Green Lake',\n",
    " 'Haller Lake': 'Haller Lake',\n",
    " 'Harbor Island': 'Harbor Island',\n",
    " 'Harrison/Denny-Blaine': 'Harrison / Denny Blaine',\n",
    " 'High Point': 'High Point',\n",
    " 'Highland Park': 'Highland Park',\n",
    " 'Holly Park': 'Beacon Hill',\n",
    " 'Industrial District': 'Industrial District',\n",
    " 'Interbay': 'Interbay',\n",
    " 'International District': 'International District',\n",
    " 'Laurelhurst': 'Laurelhurst / Sand Point',\n",
    " 'Sand Point': 'Laurelhurst / Sand Point',\n",
    " 'Lawton Park': 'Magnolia',\n",
    " 'Leschi': 'Leschi',\n",
    " 'Lower Queen Anne': 'Lower Queen Anne',\n",
    " 'Loyal Heights': 'Sunset Hill',\n",
    " 'Madison Park': 'Madison Park',\n",
    " 'Madrona': 'Madrona',\n",
    " 'Mann': 'Mann',\n",
    " 'Maple Leaf': 'Northgate',\n",
    " 'Matthews Beach': 'Wedgeview Ridge',\n",
    " 'Mid-Beacon Hill': 'Beacon Hill',\n",
    " 'Minor': 'Minor',\n",
    " 'Montlake': 'Montlake',\n",
    " 'Mount Baker': 'Mount Baker',\n",
    " 'North Admiral': 'North Admiral',\n",
    " 'North Beach/Blue Ridge': 'North Beach Blue Ridge',\n",
    " 'North Beacon Hill': 'North Beacon Hill',\n",
    " 'North College Park': 'Licton Springs',\n",
    " 'North Delridge': 'North Delridge',\n",
    " 'North Queen Anne': 'North Queen Anne',\n",
    " 'Olympic Hills': 'Olympic Hills / Victory Heights',\n",
    " 'Victory Heights': 'Olympic Hills / Victory Heights',\n",
    " 'Phinney Ridge': 'Phinney Ridge / Greenwood',\n",
    " 'Greenwood': 'Phinney Ridge / Greenwood',\n",
    " 'Pike-Market': 'Pike Market',\n",
    " 'Pinehurst': 'Northgate',\n",
    " 'Pioneer Square': 'Pioneer Square',\n",
    " 'Portage Bay': 'Portage Bay',\n",
    " 'Rainier Beach': 'Rainier Beach',\n",
    " 'Rainier View': 'Rainier Beach',\n",
    " 'Ravenna': 'Ravenna / Bryant',\n",
    " 'Bryant': 'Ravenna / Bryant',\n",
    " 'Riverview': 'Riverview',\n",
    " 'Roosevelt': 'Ravenna / Bryant',\n",
    " 'Roxhill': 'Roxhill',\n",
    " 'Seaview': 'Seaview',\n",
    " 'Sunset Hill': 'Sunset Hill',\n",
    " 'Seward Park': 'Seward Park',\n",
    " 'South Beacon Hill': 'South Beacon Hill',\n",
    " 'South Delridge': 'South Delridge',\n",
    " 'South Lake Union': 'South Lake Union',\n",
    " 'South Park': 'South Park',\n",
    " 'Southeast Magnolia': 'Magnolia',\n",
    " 'Stevens': 'Stevens (Capitol Hill)',\n",
    " 'University District': 'University District',\n",
    " 'View Ridge': 'Laurelhurst / Sand Point',\n",
    " 'Wallingford': 'Wallingford',\n",
    " 'Wedgwood': 'Wedgeview Ridge',\n",
    " 'West Queen Anne': 'West Queen Anne',\n",
    " 'West Woodland': 'Ballard',\n",
    " 'Westlake': 'Westlake',\n",
    " 'Whittier Heights': 'Whittier Heights',\n",
    " 'Windermere': 'Laurelhurst / Sand Point',\n",
    " 'Yesler Terrace': 'Yesler Terrace'}"
   ]
  },
  {
   "cell_type": "code",
   "execution_count": null,
   "metadata": {
    "collapsed": true
   },
   "outputs": [],
   "source": [
    "df.drop(['Unnamed: 0'], axis=1, inplace=True)"
   ]
  },
  {
   "cell_type": "code",
   "execution_count": 515,
   "metadata": {
    "collapsed": false
   },
   "outputs": [],
   "source": [
    "# add street_neighborhood column based on city_neighborhood list\n",
    "df['street_neighborhood']=df['city_neighborhood'].apply(lambda x : city_street_dict[x])"
   ]
  },
  {
   "cell_type": "code",
   "execution_count": 518,
   "metadata": {
    "collapsed": false
   },
   "outputs": [],
   "source": [
    "# Reset the index\n",
    "df.reset_index(drop=True,inplace=True)"
   ]
  },
  {
   "cell_type": "code",
   "execution_count": 522,
   "metadata": {
    "collapsed": true
   },
   "outputs": [],
   "source": [
    "df.to_csv('data/data_seattle.csv')"
   ]
  },
  {
   "cell_type": "code",
   "execution_count": 521,
   "metadata": {
    "collapsed": false
   },
   "outputs": [
    {
     "data": {
      "text/html": [
       "<div>\n",
       "<table border=\"1\" class=\"dataframe\">\n",
       "  <thead>\n",
       "    <tr style=\"text-align: right;\">\n",
       "      <th></th>\n",
       "      <th>id</th>\n",
       "      <th>address</th>\n",
       "      <th>latitude</th>\n",
       "      <th>longitude</th>\n",
       "      <th>street</th>\n",
       "      <th>city</th>\n",
       "      <th>state</th>\n",
       "      <th>county</th>\n",
       "      <th>zip</th>\n",
       "      <th>bed</th>\n",
       "      <th>bath</th>\n",
       "      <th>price</th>\n",
       "      <th>sqft</th>\n",
       "      <th>created_at</th>\n",
       "      <th>updated_at</th>\n",
       "      <th>remarks</th>\n",
       "      <th>mls_num</th>\n",
       "      <th>prop_type</th>\n",
       "      <th>details</th>\n",
       "      <th>status</th>\n",
       "      <th>list_date</th>\n",
       "      <th>miles_ratio</th>\n",
       "      <th>lot_size</th>\n",
       "      <th>year_built</th>\n",
       "      <th>parking_spaces</th>\n",
       "      <th>garage</th>\n",
       "      <th>neighborhood</th>\n",
       "      <th>school_district</th>\n",
       "      <th>lonlat</th>\n",
       "      <th>mls</th>\n",
       "      <th>mls_status</th>\n",
       "      <th>mls_prop_type</th>\n",
       "      <th>pending_date</th>\n",
       "      <th>selling_date</th>\n",
       "      <th>selling_price</th>\n",
       "      <th>city_neighborhood</th>\n",
       "      <th>street_neighborhood</th>\n",
       "    </tr>\n",
       "  </thead>\n",
       "  <tbody>\n",
       "    <tr>\n",
       "      <th>0</th>\n",
       "      <td>5632</td>\n",
       "      <td>903 N 130th St Unit #317</td>\n",
       "      <td>47.722939</td>\n",
       "      <td>-122.347847</td>\n",
       "      <td>130th</td>\n",
       "      <td>Seattle</td>\n",
       "      <td>WA</td>\n",
       "      <td>King</td>\n",
       "      <td>98133.0</td>\n",
       "      <td>1.0</td>\n",
       "      <td>1.00</td>\n",
       "      <td>170000</td>\n",
       "      <td>619</td>\n",
       "      <td>2015-10-08 11:03:05 -0700</td>\n",
       "      <td>2017-02-27 01:34:03 -0800</td>\n",
       "      <td>This condo at The Courtyard at Bitter Lake is ...</td>\n",
       "      <td>857194</td>\n",
       "      <td>Condominium</td>\n",
       "      <td>{\"area\"=&gt;\"705\", \"city\"=&gt;\"Seattle\", \"roof\"=&gt;\"[\\...</td>\n",
       "      <td>sold</td>\n",
       "      <td>2015-10-08 00:00:00 -0700</td>\n",
       "      <td>1.0</td>\n",
       "      <td>13388.0</td>\n",
       "      <td>1989.0</td>\n",
       "      <td>1.0</td>\n",
       "      <td>False</td>\n",
       "      <td>Bitter Lake</td>\n",
       "      <td>Seattle</td>\n",
       "      <td>POINT (-122.347847 47.722939)</td>\n",
       "      <td>NWMLS</td>\n",
       "      <td>Sold</td>\n",
       "      <td>32 - Townhouse</td>\n",
       "      <td>2015-10-16</td>\n",
       "      <td>2015-10-30</td>\n",
       "      <td>165000</td>\n",
       "      <td>Bitter Lake</td>\n",
       "      <td>Broadview / Bitter Lake</td>\n",
       "    </tr>\n",
       "    <tr>\n",
       "      <th>1</th>\n",
       "      <td>199838</td>\n",
       "      <td>156 NW 65th St</td>\n",
       "      <td>47.676205</td>\n",
       "      <td>-122.358856</td>\n",
       "      <td>65th</td>\n",
       "      <td>Seattle</td>\n",
       "      <td>WA</td>\n",
       "      <td>King</td>\n",
       "      <td>98117.0</td>\n",
       "      <td>3.0</td>\n",
       "      <td>1.75</td>\n",
       "      <td>795000</td>\n",
       "      <td>2180</td>\n",
       "      <td>2016-06-15 01:00:26 -0700</td>\n",
       "      <td>2016-11-16 11:41:30 -0800</td>\n",
       "      <td>Fabulous 3+ bdrm, 1.75 bth Craftsman on Phinne...</td>\n",
       "      <td>943599</td>\n",
       "      <td>Residential</td>\n",
       "      <td>{\"area\"=&gt;\"705\", \"city\"=&gt;\"Seattle\", \"roof\"=&gt;\"[\\...</td>\n",
       "      <td>sold</td>\n",
       "      <td>2016-06-14 00:00:00 -0700</td>\n",
       "      <td>1.0</td>\n",
       "      <td>5000.0</td>\n",
       "      <td>1910.0</td>\n",
       "      <td>1.0</td>\n",
       "      <td>True</td>\n",
       "      <td>Phinney Ridge</td>\n",
       "      <td>Seattle</td>\n",
       "      <td>POINT (-122.358856 47.676205)</td>\n",
       "      <td>NWMLS</td>\n",
       "      <td>Sold</td>\n",
       "      <td>16 - 1 Story w/Bsmnt.</td>\n",
       "      <td>2016-06-22</td>\n",
       "      <td>2016-08-19</td>\n",
       "      <td>875000</td>\n",
       "      <td>Phinney Ridge</td>\n",
       "      <td>Phinney Ridge / Greenwood</td>\n",
       "    </tr>\n",
       "    <tr>\n",
       "      <th>2</th>\n",
       "      <td>10252</td>\n",
       "      <td>120 20th Ave Seattle WA 98122</td>\n",
       "      <td>47.602303</td>\n",
       "      <td>-122.305954</td>\n",
       "      <td>20th</td>\n",
       "      <td>Seattle</td>\n",
       "      <td>WA</td>\n",
       "      <td>King</td>\n",
       "      <td>98122.0</td>\n",
       "      <td>3.0</td>\n",
       "      <td>1.75</td>\n",
       "      <td>619950</td>\n",
       "      <td>1511</td>\n",
       "      <td>2015-10-18 07:22:12 -0700</td>\n",
       "      <td>2016-11-16 09:51:21 -0800</td>\n",
       "      <td>Vida is an urban village of 15 rowhomes in a w...</td>\n",
       "      <td>860632</td>\n",
       "      <td>Residential</td>\n",
       "      <td>{\"gas\"=&gt;nil, \"lgd\"=&gt;nil, \"sks\"=&gt;nil, \"area\"=&gt;\"...</td>\n",
       "      <td>sold</td>\n",
       "      <td>2015-10-16 00:00:00 -0700</td>\n",
       "      <td>1.0</td>\n",
       "      <td>1545.0</td>\n",
       "      <td>2015.0</td>\n",
       "      <td>1.0</td>\n",
       "      <td>True</td>\n",
       "      <td>Central Area</td>\n",
       "      <td>Seattle</td>\n",
       "      <td>POINT (-122.305954 47.602303)</td>\n",
       "      <td>NWMLS</td>\n",
       "      <td>Sold</td>\n",
       "      <td>NaN</td>\n",
       "      <td>2015-10-24</td>\n",
       "      <td>2016-04-06</td>\n",
       "      <td>619950</td>\n",
       "      <td>Minor</td>\n",
       "      <td>Minor</td>\n",
       "    </tr>\n",
       "    <tr>\n",
       "      <th>3</th>\n",
       "      <td>12393</td>\n",
       "      <td>1102 N 41st St</td>\n",
       "      <td>47.656784</td>\n",
       "      <td>-122.344376</td>\n",
       "      <td>41st</td>\n",
       "      <td>Seattle</td>\n",
       "      <td>WA</td>\n",
       "      <td>King</td>\n",
       "      <td>98103.0</td>\n",
       "      <td>2.0</td>\n",
       "      <td>1.00</td>\n",
       "      <td>595595</td>\n",
       "      <td>1480</td>\n",
       "      <td>2015-11-06 09:18:15 -0800</td>\n",
       "      <td>2017-02-22 01:24:28 -0800</td>\n",
       "      <td>Corner lot! Cute house Wallingford/Fremont are...</td>\n",
       "      <td>867701</td>\n",
       "      <td>Residential</td>\n",
       "      <td>{\"area\"=&gt;\"705\", \"city\"=&gt;\"Seattle\", \"roof\"=&gt;\"[\\...</td>\n",
       "      <td>sold</td>\n",
       "      <td>2015-11-06 00:00:00 -0800</td>\n",
       "      <td>1.0</td>\n",
       "      <td>2680.0</td>\n",
       "      <td>1946.0</td>\n",
       "      <td>1.0</td>\n",
       "      <td>True</td>\n",
       "      <td>Wallingford</td>\n",
       "      <td>Seattle</td>\n",
       "      <td>POINT (-122.344376 47.656784)</td>\n",
       "      <td>NWMLS</td>\n",
       "      <td>Sold</td>\n",
       "      <td>16 - 1 Story w/Bsmnt.</td>\n",
       "      <td>2015-11-13</td>\n",
       "      <td>2015-12-16</td>\n",
       "      <td>575000</td>\n",
       "      <td>Fremont</td>\n",
       "      <td>Fremont</td>\n",
       "    </tr>\n",
       "    <tr>\n",
       "      <th>4</th>\n",
       "      <td>7421</td>\n",
       "      <td>1927 W 8th Ave Seattle WA 98119</td>\n",
       "      <td>47.636703</td>\n",
       "      <td>-122.368057</td>\n",
       "      <td>8th</td>\n",
       "      <td>Seattle</td>\n",
       "      <td>WA</td>\n",
       "      <td>King</td>\n",
       "      <td>98119.0</td>\n",
       "      <td>2.0</td>\n",
       "      <td>1.75</td>\n",
       "      <td>829950</td>\n",
       "      <td>1490</td>\n",
       "      <td>2015-10-13 13:59:17 -0700</td>\n",
       "      <td>2016-11-16 09:45:23 -0800</td>\n",
       "      <td>A limited collection of 3 bedroom single famil...</td>\n",
       "      <td>816150</td>\n",
       "      <td>Residential</td>\n",
       "      <td>{\"gas\"=&gt;nil, \"lgd\"=&gt;nil, \"sks\"=&gt;nil, \"area\"=&gt;\"...</td>\n",
       "      <td>sold</td>\n",
       "      <td>2015-07-08 00:00:00 -0700</td>\n",
       "      <td>1.0</td>\n",
       "      <td>1727.0</td>\n",
       "      <td>2015.0</td>\n",
       "      <td>1.0</td>\n",
       "      <td>True</td>\n",
       "      <td>Queen Anne</td>\n",
       "      <td>Seattle</td>\n",
       "      <td>POINT (-122.368057 47.636703)</td>\n",
       "      <td>NWMLS</td>\n",
       "      <td>Sold</td>\n",
       "      <td>NaN</td>\n",
       "      <td>2015-07-08</td>\n",
       "      <td>2016-02-05</td>\n",
       "      <td>829950</td>\n",
       "      <td>West Queen Anne</td>\n",
       "      <td>West Queen Anne</td>\n",
       "    </tr>\n",
       "  </tbody>\n",
       "</table>\n",
       "</div>"
      ],
      "text/plain": [
       "       id                          address   latitude   longitude street  \\\n",
       "0    5632         903 N 130th St Unit #317  47.722939 -122.347847  130th   \n",
       "1  199838                   156 NW 65th St  47.676205 -122.358856   65th   \n",
       "2   10252    120 20th Ave Seattle WA 98122  47.602303 -122.305954   20th   \n",
       "3   12393                   1102 N 41st St  47.656784 -122.344376   41st   \n",
       "4    7421  1927 W 8th Ave Seattle WA 98119  47.636703 -122.368057    8th   \n",
       "\n",
       "      city state county      zip  bed  bath   price  sqft  \\\n",
       "0  Seattle    WA   King  98133.0  1.0  1.00  170000   619   \n",
       "1  Seattle    WA   King  98117.0  3.0  1.75  795000  2180   \n",
       "2  Seattle    WA   King  98122.0  3.0  1.75  619950  1511   \n",
       "3  Seattle    WA   King  98103.0  2.0  1.00  595595  1480   \n",
       "4  Seattle    WA   King  98119.0  2.0  1.75  829950  1490   \n",
       "\n",
       "                  created_at                 updated_at  \\\n",
       "0  2015-10-08 11:03:05 -0700  2017-02-27 01:34:03 -0800   \n",
       "1  2016-06-15 01:00:26 -0700  2016-11-16 11:41:30 -0800   \n",
       "2  2015-10-18 07:22:12 -0700  2016-11-16 09:51:21 -0800   \n",
       "3  2015-11-06 09:18:15 -0800  2017-02-22 01:24:28 -0800   \n",
       "4  2015-10-13 13:59:17 -0700  2016-11-16 09:45:23 -0800   \n",
       "\n",
       "                                             remarks  mls_num    prop_type  \\\n",
       "0  This condo at The Courtyard at Bitter Lake is ...   857194  Condominium   \n",
       "1  Fabulous 3+ bdrm, 1.75 bth Craftsman on Phinne...   943599  Residential   \n",
       "2  Vida is an urban village of 15 rowhomes in a w...   860632  Residential   \n",
       "3  Corner lot! Cute house Wallingford/Fremont are...   867701  Residential   \n",
       "4  A limited collection of 3 bedroom single famil...   816150  Residential   \n",
       "\n",
       "                                             details status  \\\n",
       "0  {\"area\"=>\"705\", \"city\"=>\"Seattle\", \"roof\"=>\"[\\...   sold   \n",
       "1  {\"area\"=>\"705\", \"city\"=>\"Seattle\", \"roof\"=>\"[\\...   sold   \n",
       "2  {\"gas\"=>nil, \"lgd\"=>nil, \"sks\"=>nil, \"area\"=>\"...   sold   \n",
       "3  {\"area\"=>\"705\", \"city\"=>\"Seattle\", \"roof\"=>\"[\\...   sold   \n",
       "4  {\"gas\"=>nil, \"lgd\"=>nil, \"sks\"=>nil, \"area\"=>\"...   sold   \n",
       "\n",
       "                   list_date  miles_ratio  lot_size  year_built  \\\n",
       "0  2015-10-08 00:00:00 -0700          1.0   13388.0      1989.0   \n",
       "1  2016-06-14 00:00:00 -0700          1.0    5000.0      1910.0   \n",
       "2  2015-10-16 00:00:00 -0700          1.0    1545.0      2015.0   \n",
       "3  2015-11-06 00:00:00 -0800          1.0    2680.0      1946.0   \n",
       "4  2015-07-08 00:00:00 -0700          1.0    1727.0      2015.0   \n",
       "\n",
       "   parking_spaces garage   neighborhood school_district  \\\n",
       "0             1.0  False    Bitter Lake         Seattle   \n",
       "1             1.0   True  Phinney Ridge         Seattle   \n",
       "2             1.0   True   Central Area         Seattle   \n",
       "3             1.0   True    Wallingford         Seattle   \n",
       "4             1.0   True     Queen Anne         Seattle   \n",
       "\n",
       "                          lonlat    mls mls_status          mls_prop_type  \\\n",
       "0  POINT (-122.347847 47.722939)  NWMLS       Sold         32 - Townhouse   \n",
       "1  POINT (-122.358856 47.676205)  NWMLS       Sold  16 - 1 Story w/Bsmnt.   \n",
       "2  POINT (-122.305954 47.602303)  NWMLS       Sold                    NaN   \n",
       "3  POINT (-122.344376 47.656784)  NWMLS       Sold  16 - 1 Story w/Bsmnt.   \n",
       "4  POINT (-122.368057 47.636703)  NWMLS       Sold                    NaN   \n",
       "\n",
       "  pending_date selling_date  selling_price city_neighborhood  \\\n",
       "0   2015-10-16   2015-10-30         165000       Bitter Lake   \n",
       "1   2016-06-22   2016-08-19         875000     Phinney Ridge   \n",
       "2   2015-10-24   2016-04-06         619950             Minor   \n",
       "3   2015-11-13   2015-12-16         575000           Fremont   \n",
       "4   2015-07-08   2016-02-05         829950   West Queen Anne   \n",
       "\n",
       "         street_neighborhood  \n",
       "0    Broadview / Bitter Lake  \n",
       "1  Phinney Ridge / Greenwood  \n",
       "2                      Minor  \n",
       "3                    Fremont  \n",
       "4            West Queen Anne  "
      ]
     },
     "execution_count": 521,
     "metadata": {},
     "output_type": "execute_result"
    }
   ],
   "source": [
    "df.head(5)"
   ]
  },
  {
   "cell_type": "code",
   "execution_count": null,
   "metadata": {
    "collapsed": true
   },
   "outputs": [],
   "source": []
  },
  {
   "cell_type": "markdown",
   "metadata": {},
   "source": [
    "# add matching street neighborhoods column, I will come back to this later"
   ]
  },
  {
   "cell_type": "code",
   "execution_count": 367,
   "metadata": {
    "collapsed": false
   },
   "outputs": [
    {
     "data": {
      "text/html": [
       "<div>\n",
       "<table border=\"1\" class=\"dataframe\">\n",
       "  <thead>\n",
       "    <tr style=\"text-align: right;\">\n",
       "      <th></th>\n",
       "      <th>Unnamed: 0</th>\n",
       "      <th>id</th>\n",
       "      <th>address</th>\n",
       "      <th>latitude</th>\n",
       "      <th>longitude</th>\n",
       "      <th>street</th>\n",
       "      <th>city</th>\n",
       "      <th>state</th>\n",
       "      <th>county</th>\n",
       "      <th>zip</th>\n",
       "      <th>bed</th>\n",
       "      <th>bath</th>\n",
       "      <th>price</th>\n",
       "      <th>sqft</th>\n",
       "      <th>created_at</th>\n",
       "      <th>updated_at</th>\n",
       "      <th>remarks</th>\n",
       "      <th>mls_num</th>\n",
       "      <th>prop_type</th>\n",
       "      <th>details</th>\n",
       "      <th>status</th>\n",
       "      <th>list_date</th>\n",
       "      <th>miles_ratio</th>\n",
       "      <th>lot_size</th>\n",
       "      <th>year_built</th>\n",
       "      <th>parking_spaces</th>\n",
       "      <th>garage</th>\n",
       "      <th>neighborhood</th>\n",
       "      <th>school_district</th>\n",
       "      <th>lonlat</th>\n",
       "      <th>mls</th>\n",
       "      <th>mls_status</th>\n",
       "      <th>mls_prop_type</th>\n",
       "      <th>pending_date</th>\n",
       "      <th>selling_date</th>\n",
       "      <th>selling_price</th>\n",
       "      <th>city_neighborhood</th>\n",
       "    </tr>\n",
       "  </thead>\n",
       "  <tbody>\n",
       "  </tbody>\n",
       "</table>\n",
       "</div>"
      ],
      "text/plain": [
       "Empty DataFrame\n",
       "Columns: [Unnamed: 0, id, address, latitude, longitude, street, city, state, county, zip, bed, bath, price, sqft, created_at, updated_at, remarks, mls_num, prop_type, details, status, list_date, miles_ratio, lot_size, year_built, parking_spaces, garage, neighborhood, school_district, lonlat, mls, mls_status, mls_prop_type, pending_date, selling_date, selling_price, city_neighborhood]\n",
       "Index: []"
      ]
     },
     "execution_count": 367,
     "metadata": {},
     "output_type": "execute_result"
    }
   ],
   "source": [
    "df.head(0)"
   ]
  },
  {
   "cell_type": "code",
   "execution_count": 421,
   "metadata": {
    "collapsed": false
   },
   "outputs": [],
   "source": [
    "df.drop(['Unnamed: 0'], axis=1, inplace=True)"
   ]
  },
  {
   "cell_type": "code",
   "execution_count": 422,
   "metadata": {
    "collapsed": false
   },
   "outputs": [
    {
     "data": {
      "text/plain": [
       "(20003, 36)"
      ]
     },
     "execution_count": 422,
     "metadata": {},
     "output_type": "execute_result"
    }
   ],
   "source": [
    "df.shape"
   ]
  },
  {
   "cell_type": "code",
   "execution_count": 430,
   "metadata": {
    "collapsed": false
   },
   "outputs": [],
   "source": [
    "dfmap=df[df['city_neighborhood']!='Unknown']"
   ]
  },
  {
   "cell_type": "code",
   "execution_count": 431,
   "metadata": {
    "collapsed": false
   },
   "outputs": [
    {
     "data": {
      "text/plain": [
       "(1834, 36)"
      ]
     },
     "execution_count": 431,
     "metadata": {},
     "output_type": "execute_result"
    }
   ],
   "source": [
    "dfmap.shape"
   ]
  },
  {
   "cell_type": "code",
   "execution_count": null,
   "metadata": {
    "collapsed": true
   },
   "outputs": [],
   "source": [
    "# Compare and check zip codes with the zip codes"
   ]
  },
  {
   "cell_type": "code",
   "execution_count": 400,
   "metadata": {
    "collapsed": true
   },
   "outputs": [],
   "source": [
    "zipcodes=[98101, 98102, 98103, 98104, 98105, 98106, 98107, 98108,98109,\n",
    "          98110, 98112, 98115, 98116, 98117, 98118, 98119,98121, 98122,\n",
    "          98125, 98126, 98131, 98133, 98134, 98136, 98144, 98146, 98148,\n",
    "          98154, 98155, 98158, 98161, 98164, 98166, 98168, 98174, 98177,\n",
    "          98178, 98188, 98198, 98199]"
   ]
  },
  {
   "cell_type": "code",
   "execution_count": 409,
   "metadata": {
    "collapsed": false
   },
   "outputs": [
    {
     "data": {
      "text/plain": [
       "40"
      ]
     },
     "execution_count": 409,
     "metadata": {},
     "output_type": "execute_result"
    }
   ],
   "source": [
    "len(zipcodes)"
   ]
  },
  {
   "cell_type": "code",
   "execution_count": null,
   "metadata": {
    "collapsed": true
   },
   "outputs": [],
   "source": [
    "map(float,zipcodes)"
   ]
  },
  {
   "cell_type": "code",
   "execution_count": 398,
   "metadata": {
    "collapsed": false
   },
   "outputs": [
    {
     "data": {
      "text/plain": [
       "array([ 98168.,  98368.,  98862., ...,  98802.,  98075.,  98034.])"
      ]
     },
     "execution_count": 398,
     "metadata": {},
     "output_type": "execute_result"
    }
   ],
   "source": [
    "df['zip'].values"
   ]
  },
  {
   "cell_type": "code",
   "execution_count": 414,
   "metadata": {
    "collapsed": false
   },
   "outputs": [],
   "source": [
    "b = set(df[df['zip'].isin(map(float,zipcodes))]['zip'].values)"
   ]
  },
  {
   "cell_type": "code",
   "execution_count": 415,
   "metadata": {
    "collapsed": false
   },
   "outputs": [],
   "source": [
    "a = set(np.unique(df['zip'].values))&set(map(float,zipcodes))"
   ]
  },
  {
   "cell_type": "code",
   "execution_count": 416,
   "metadata": {
    "collapsed": false
   },
   "outputs": [
    {
     "data": {
      "text/plain": [
       "True"
      ]
     },
     "execution_count": 416,
     "metadata": {},
     "output_type": "execute_result"
    }
   ],
   "source": [
    "a == b"
   ]
  },
  {
   "cell_type": "code",
   "execution_count": 434,
   "metadata": {
    "collapsed": false
   },
   "outputs": [
    {
     "data": {
      "text/plain": [
       "(1832, 36)"
      ]
     },
     "execution_count": 434,
     "metadata": {},
     "output_type": "execute_result"
    }
   ],
   "source": [
    "dfmap[dfmap['zip'].isin(map(float,zipcodes))].shape"
   ]
  },
  {
   "cell_type": "code",
   "execution_count": 462,
   "metadata": {
    "collapsed": false
   },
   "outputs": [],
   "source": [
    "#dfmap.head(3)"
   ]
  },
  {
   "cell_type": "code",
   "execution_count": 424,
   "metadata": {
    "collapsed": true
   },
   "outputs": [],
   "source": [
    "dfzip=df[df['zip'].isin(map(float,zipcodes))]"
   ]
  },
  {
   "cell_type": "code",
   "execution_count": 451,
   "metadata": {
    "collapsed": false
   },
   "outputs": [],
   "source": [
    "dfzip_vs_map = dfzip[np.logical_not(dfzip['id'].isin(dfmap['id']))]"
   ]
  },
  {
   "cell_type": "code",
   "execution_count": 459,
   "metadata": {
    "collapsed": false
   },
   "outputs": [],
   "source": [
    "#dfzip_vs_map[dfzip_vs_map['neighborhood'].isin(map(str,street))]"
   ]
  },
  {
   "cell_type": "code",
   "execution_count": 460,
   "metadata": {
    "collapsed": false
   },
   "outputs": [],
   "source": [
    "#dfzip_vs_map[dfzip_vs_map['neighborhood'].isin(city)]"
   ]
  },
  {
   "cell_type": "code",
   "execution_count": 461,
   "metadata": {
    "collapsed": false
   },
   "outputs": [],
   "source": [
    "#dfzip.head(3)"
   ]
  },
  {
   "cell_type": "code",
   "execution_count": 432,
   "metadata": {
    "collapsed": false
   },
   "outputs": [
    {
     "data": {
      "text/plain": [
       "(2605, 36)"
      ]
     },
     "execution_count": 432,
     "metadata": {},
     "output_type": "execute_result"
    }
   ],
   "source": [
    "dfzip.shape"
   ]
  },
  {
   "cell_type": "code",
   "execution_count": null,
   "metadata": {
    "collapsed": true
   },
   "outputs": [],
   "source": []
  }
 ],
 "metadata": {
  "anaconda-cloud": {},
  "kernelspec": {
   "display_name": "Python [default]",
   "language": "python",
   "name": "python2"
  },
  "language_info": {
   "codemirror_mode": {
    "name": "ipython",
    "version": 2
   },
   "file_extension": ".py",
   "mimetype": "text/x-python",
   "name": "python",
   "nbconvert_exporter": "python",
   "pygments_lexer": "ipython2",
   "version": "2.7.12"
  }
 },
 "nbformat": 4,
 "nbformat_minor": 1
}
