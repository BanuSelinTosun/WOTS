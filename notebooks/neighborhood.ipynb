{
 "cells": [
  {
   "cell_type": "code",
   "execution_count": 1,
   "metadata": {
    "collapsed": false
   },
   "outputs": [],
   "source": [
    "import pandas as pd\n",
    "import numpy as np"
   ]
  },
  {
   "cell_type": "code",
   "execution_count": 2,
   "metadata": {
    "collapsed": true
   },
   "outputs": [],
   "source": [
    "from pymongo import MongoClient\n",
    "import pprint"
   ]
  },
  {
   "cell_type": "code",
   "execution_count": 3,
   "metadata": {
    "collapsed": true
   },
   "outputs": [],
   "source": [
    "# Connect to the hosted MongoDB instance\n",
    "client = MongoClient()"
   ]
  },
  {
   "cell_type": "code",
   "execution_count": 4,
   "metadata": {
    "collapsed": true
   },
   "outputs": [],
   "source": [
    "db = client.Street_Advisor"
   ]
  },
  {
   "cell_type": "code",
   "execution_count": 5,
   "metadata": {
    "collapsed": true
   },
   "outputs": [],
   "source": [
    "reviews = db.neighborhood"
   ]
  },
  {
   "cell_type": "code",
   "execution_count": 6,
   "metadata": {
    "collapsed": false
   },
   "outputs": [],
   "source": [
    "allreviews = reviews.find({},{'_id': 0})\n",
    "reviewlist=[]\n",
    "for review in allreviews:\n",
    "    reviewlist.append(review)"
   ]
  },
  {
   "cell_type": "code",
   "execution_count": 7,
   "metadata": {
    "collapsed": true
   },
   "outputs": [],
   "source": [
    "df=pd.DataFrame(reviewlist)"
   ]
  },
  {
   "cell_type": "code",
   "execution_count": 9,
   "metadata": {
    "collapsed": false
   },
   "outputs": [
    {
     "data": {
      "text/html": [
       "<div>\n",
       "<table border=\"1\" class=\"dataframe\">\n",
       "  <thead>\n",
       "    <tr style=\"text-align: right;\">\n",
       "      <th></th>\n",
       "      <th>reviews</th>\n",
       "      <th>name</th>\n",
       "    </tr>\n",
       "  </thead>\n",
       "  <tbody>\n",
       "    <tr>\n",
       "      <th>0</th>\n",
       "      <td>[\\nOk I’m gonna let you in on one of my runnin...</td>\n",
       "      <td>Alki</td>\n",
       "    </tr>\n",
       "    <tr>\n",
       "      <th>1</th>\n",
       "      <td>[\\nWant a neighborhood close to the city with ...</td>\n",
       "      <td>Arbor Heights</td>\n",
       "    </tr>\n",
       "    <tr>\n",
       "      <th>2</th>\n",
       "      <td>[\\nLocated just north of Interstate 90, betwee...</td>\n",
       "      <td>Atlantic</td>\n",
       "    </tr>\n",
       "    <tr>\n",
       "      <th>3</th>\n",
       "      <td>[\\nOk I had to write a review for Ballard just...</td>\n",
       "      <td>Ballard</td>\n",
       "    </tr>\n",
       "    <tr>\n",
       "      <th>4</th>\n",
       "      <td>[\\nThe area of Beacon Hill, known more specifi...</td>\n",
       "      <td>Beacon Hill</td>\n",
       "    </tr>\n",
       "    <tr>\n",
       "      <th>5</th>\n",
       "      <td>[\\nSome of my colleagues and I occasionally li...</td>\n",
       "      <td>Belltown</td>\n",
       "    </tr>\n",
       "    <tr>\n",
       "      <th>6</th>\n",
       "      <td>[\\nWe looked at many Shoreline and North Seatt...</td>\n",
       "      <td>Briarcrest</td>\n",
       "    </tr>\n",
       "    <tr>\n",
       "      <th>7</th>\n",
       "      <td>[\\nCarkeek park in Broadview is one of our fav...</td>\n",
       "      <td>Broadview Bitter Lake</td>\n",
       "    </tr>\n",
       "    <tr>\n",
       "      <th>8</th>\n",
       "      <td>[\\nThe Epicenter of Seattle Culture\\n\\nA place...</td>\n",
       "      <td>Broadway (Capitol Hill)</td>\n",
       "    </tr>\n",
       "    <tr>\n",
       "      <th>9</th>\n",
       "      <td>[\\nLake City has some junky parts, where you d...</td>\n",
       "      <td>Cedar Park / Meadowbrook</td>\n",
       "    </tr>\n",
       "  </tbody>\n",
       "</table>\n",
       "</div>"
      ],
      "text/plain": [
       "                                             reviews                      name\n",
       "0  [\\nOk I’m gonna let you in on one of my runnin...                      Alki\n",
       "1  [\\nWant a neighborhood close to the city with ...             Arbor Heights\n",
       "2  [\\nLocated just north of Interstate 90, betwee...                  Atlantic\n",
       "3  [\\nOk I had to write a review for Ballard just...                   Ballard\n",
       "4  [\\nThe area of Beacon Hill, known more specifi...               Beacon Hill\n",
       "5  [\\nSome of my colleagues and I occasionally li...                  Belltown\n",
       "6  [\\nWe looked at many Shoreline and North Seatt...                Briarcrest\n",
       "7  [\\nCarkeek park in Broadview is one of our fav...     Broadview Bitter Lake\n",
       "8  [\\nThe Epicenter of Seattle Culture\\n\\nA place...   Broadway (Capitol Hill)\n",
       "9  [\\nLake City has some junky parts, where you d...  Cedar Park / Meadowbrook"
      ]
     },
     "execution_count": 9,
     "metadata": {},
     "output_type": "execute_result"
    }
   ],
   "source": [
    "df = df[['reviews','name']]\n",
    "df[0:10]"
   ]
  },
  {
   "cell_type": "code",
   "execution_count": null,
   "metadata": {
    "collapsed": true
   },
   "outputs": [],
   "source": [
    "#Remove the neighborhoods dont have reviews"
   ]
  },
  {
   "cell_type": "code",
   "execution_count": 10,
   "metadata": {
    "collapsed": false
   },
   "outputs": [
    {
     "data": {
      "text/plain": [
       "[u'Parkwood', u'Ridgecrest', u'Westminster Triangle']"
      ]
     },
     "execution_count": 10,
     "metadata": {},
     "output_type": "execute_result"
    }
   ],
   "source": [
    "empty_review_list=[]\n",
    "for i in range(df.shape[0]):\n",
    "    if len(df['reviews'][i])==0:\n",
    "        empty_review_list.append(df['name'][i])\n",
    "empty_review_list"
   ]
  },
  {
   "cell_type": "code",
   "execution_count": null,
   "metadata": {
    "collapsed": true
   },
   "outputs": [],
   "source": [
    "# reset index"
   ]
  },
  {
   "cell_type": "code",
   "execution_count": 11,
   "metadata": {
    "collapsed": false
   },
   "outputs": [],
   "source": [
    "for i in empty_review_list:\n",
    "    df = df[df.name != i]"
   ]
  },
  {
   "cell_type": "code",
   "execution_count": 17,
   "metadata": {
    "collapsed": false
   },
   "outputs": [],
   "source": [
    "df.reset_index(drop=True,inplace=True)"
   ]
  },
  {
   "cell_type": "code",
   "execution_count": 19,
   "metadata": {
    "collapsed": false
   },
   "outputs": [],
   "source": [
    "df.drop('index',axis=1,inplace=True)"
   ]
  },
  {
   "cell_type": "code",
   "execution_count": 21,
   "metadata": {
    "collapsed": false
   },
   "outputs": [
    {
     "data": {
      "text/html": [
       "<div>\n",
       "<table border=\"1\" class=\"dataframe\">\n",
       "  <thead>\n",
       "    <tr style=\"text-align: right;\">\n",
       "      <th></th>\n",
       "      <th>reviews</th>\n",
       "      <th>name</th>\n",
       "    </tr>\n",
       "  </thead>\n",
       "  <tbody>\n",
       "    <tr>\n",
       "      <th>40</th>\n",
       "      <td>[\\nThe Mt. Baker community is as different eco...</td>\n",
       "      <td>Mount Baker</td>\n",
       "    </tr>\n",
       "    <tr>\n",
       "      <th>41</th>\n",
       "      <td>[\\nJust moved here recently because of the qua...</td>\n",
       "      <td>North Admiral</td>\n",
       "    </tr>\n",
       "    <tr>\n",
       "      <th>42</th>\n",
       "      <td>[\\nThere’s nowhere in Seattle that is as nice,...</td>\n",
       "      <td>North Beach Blue Ridge</td>\n",
       "    </tr>\n",
       "    <tr>\n",
       "      <th>43</th>\n",
       "      <td>[\\nNorth Beacon Hill is another section of the...</td>\n",
       "      <td>North Beacon Hill</td>\n",
       "    </tr>\n",
       "    <tr>\n",
       "      <th>44</th>\n",
       "      <td>[\\nEveryone wants to live in the forest, well ...</td>\n",
       "      <td>North Delridge</td>\n",
       "    </tr>\n",
       "    <tr>\n",
       "      <th>45</th>\n",
       "      <td>[\\nNorth Queen Anne has some lovely houseboats...</td>\n",
       "      <td>North Queen Anne</td>\n",
       "    </tr>\n",
       "    <tr>\n",
       "      <th>46</th>\n",
       "      <td>[\\nNorthgate is one of the biggest, most north...</td>\n",
       "      <td>Northgate</td>\n",
       "    </tr>\n",
       "    <tr>\n",
       "      <th>47</th>\n",
       "      <td>[\\nThe greatest thing about the Olympia Hills ...</td>\n",
       "      <td>Olympic Hills / Victory Heights</td>\n",
       "    </tr>\n",
       "    <tr>\n",
       "      <th>48</th>\n",
       "      <td>[\\nWe went to Phinney Ridge neighborhood to go...</td>\n",
       "      <td>Phinney Ridge / Greenwood</td>\n",
       "    </tr>\n",
       "    <tr>\n",
       "      <th>49</th>\n",
       "      <td>[\\nAfter the Space Needle, Pike Place Market i...</td>\n",
       "      <td>Pike Market</td>\n",
       "    </tr>\n",
       "  </tbody>\n",
       "</table>\n",
       "</div>"
      ],
      "text/plain": [
       "                                              reviews  \\\n",
       "40  [\\nThe Mt. Baker community is as different eco...   \n",
       "41  [\\nJust moved here recently because of the qua...   \n",
       "42  [\\nThere’s nowhere in Seattle that is as nice,...   \n",
       "43  [\\nNorth Beacon Hill is another section of the...   \n",
       "44  [\\nEveryone wants to live in the forest, well ...   \n",
       "45  [\\nNorth Queen Anne has some lovely houseboats...   \n",
       "46  [\\nNorthgate is one of the biggest, most north...   \n",
       "47  [\\nThe greatest thing about the Olympia Hills ...   \n",
       "48  [\\nWe went to Phinney Ridge neighborhood to go...   \n",
       "49  [\\nAfter the Space Needle, Pike Place Market i...   \n",
       "\n",
       "                               name  \n",
       "40                      Mount Baker  \n",
       "41                    North Admiral  \n",
       "42           North Beach Blue Ridge  \n",
       "43                North Beacon Hill  \n",
       "44                   North Delridge  \n",
       "45                 North Queen Anne  \n",
       "46                        Northgate  \n",
       "47  Olympic Hills / Victory Heights  \n",
       "48        Phinney Ridge / Greenwood  \n",
       "49                      Pike Market  "
      ]
     },
     "execution_count": 21,
     "metadata": {},
     "output_type": "execute_result"
    }
   ],
   "source": [
    "df[40:50]"
   ]
  },
  {
   "cell_type": "code",
   "execution_count": null,
   "metadata": {
    "collapsed": true
   },
   "outputs": [],
   "source": [
    "# TFID Vectorizer"
   ]
  },
  {
   "cell_type": "code",
   "execution_count": 22,
   "metadata": {
    "collapsed": true
   },
   "outputs": [],
   "source": [
    "from sklearn.feature_extraction.text import TfidfVectorizer"
   ]
  },
  {
   "cell_type": "code",
   "execution_count": 23,
   "metadata": {
    "collapsed": false
   },
   "outputs": [],
   "source": [
    "import string\n",
    "punctuations_=set(string.punctuation)\n",
    "textreview=[]\n",
    "for i in range(df.shape[0]):\n",
    "    textreview.append(''.join(word for word in df['reviews'][i] if word not in punctuations_))"
   ]
  },
  {
   "cell_type": "code",
   "execution_count": 52,
   "metadata": {
    "collapsed": false
   },
   "outputs": [
    {
     "data": {
      "text/plain": [
       "71"
      ]
     },
     "execution_count": 52,
     "metadata": {},
     "output_type": "execute_result"
    }
   ],
   "source": [
    "len(textreview)"
   ]
  },
  {
   "cell_type": "code",
   "execution_count": 80,
   "metadata": {
    "collapsed": false,
    "scrolled": true
   },
   "outputs": [
    {
     "data": {
      "text/plain": [
       "{u'Alki',\n",
       " u'Arbor Heights',\n",
       " u'Atlantic',\n",
       " u'Ballard',\n",
       " u'Beacon Hill',\n",
       " u'Belltown',\n",
       " u'Briarcrest',\n",
       " u'Broadview Bitter Lake',\n",
       " u'Broadway (Capitol Hill)',\n",
       " u'Cedar Park / Meadowbrook',\n",
       " u'Columbia City',\n",
       " u'Downtown (Central Business District)',\n",
       " u'East Queen Anne',\n",
       " u'Eastlake',\n",
       " u'Fairmount Park',\n",
       " u'Fauntleroy',\n",
       " u'Fremont',\n",
       " u'Gatewood',\n",
       " u'Genesee',\n",
       " u'Georgetown',\n",
       " u'Green Lake',\n",
       " u'Haller Lake',\n",
       " u'Harbor Island',\n",
       " u'Harrison / Denny Blaine',\n",
       " u'High Point',\n",
       " u'Highland Park',\n",
       " u'Highland Terrace',\n",
       " u'Industrial District',\n",
       " u'Interbay',\n",
       " u'International District',\n",
       " u'Laurelhurst / Sand Point',\n",
       " u'Leschi',\n",
       " u'Licton Springs',\n",
       " u'Lower Queen Anne',\n",
       " u'Madison Park',\n",
       " u'Madrona',\n",
       " u'Magnolia',\n",
       " u'Mann',\n",
       " u'Minor',\n",
       " u'Montlake',\n",
       " u'Mount Baker',\n",
       " u'North Admiral',\n",
       " u'North Beach Blue Ridge',\n",
       " u'North Beacon Hill',\n",
       " u'North Delridge',\n",
       " u'North Queen Anne',\n",
       " u'Northgate',\n",
       " u'Olympic Hills / Victory Heights',\n",
       " u'Phinney Ridge / Greenwood',\n",
       " u'Pike Market',\n",
       " u'Pioneer Square',\n",
       " u'Portage Bay',\n",
       " u'Rainier Beach',\n",
       " u'Ravenna / Bryant',\n",
       " u'Riverview',\n",
       " u'Roxhill',\n",
       " u'Seaview',\n",
       " u'Seward Park',\n",
       " u'South Beacon Hill',\n",
       " u'South Delridge',\n",
       " u'South Lake Union',\n",
       " u'South Park',\n",
       " u'Stevens (Capitol Hill)',\n",
       " u'Sunset Hill',\n",
       " u'University District',\n",
       " u'Wallingford',\n",
       " u'Wedgeview Ridge',\n",
       " u'West Queen Anne',\n",
       " u'Westlake',\n",
       " u'Whittier Heights',\n",
       " u'Yesler Terrace'}"
      ]
     },
     "execution_count": 80,
     "metadata": {},
     "output_type": "execute_result"
    }
   ],
   "source": [
    "neighborhoods_list = df['name']\n",
    "set(neighborhoods_list)"
   ]
  },
  {
   "cell_type": "code",
   "execution_count": null,
   "metadata": {
    "collapsed": true
   },
   "outputs": [],
   "source": [
    "## Add Stemmed TFIDF Vecorizer"
   ]
  },
  {
   "cell_type": "markdown",
   "metadata": {},
   "source": [
    "### SnowballStemmer"
   ]
  },
  {
   "cell_type": "code",
   "execution_count": 61,
   "metadata": {
    "collapsed": true
   },
   "outputs": [],
   "source": [
    "#Snowvall Stemmer\n",
    "from nltk.stem.snowball import SnowballStemmer\n",
    "class StemmedTfidfVectorizer(TfidfVectorizer):\n",
    "    def build_analyzer(self):\n",
    "        stemmer_porter = SnowballStemmer('english')\n",
    "        analyzer = super(TfidfVectorizer, self).build_analyzer()\n",
    "        return lambda doc: [stemmer_porter.stem(word) for word in analyzer(doc)]    "
   ]
  },
  {
   "cell_type": "code",
   "execution_count": 62,
   "metadata": {
    "collapsed": false
   },
   "outputs": [],
   "source": [
    "stemvectorizer=StemmedTfidfVectorizer()\n",
    "stemmedvectors=stemvectorizer.fit_transform(textreview)\n",
    "stemmed_review_vectors=stemmedvectors.toarray()"
   ]
  },
  {
   "cell_type": "code",
   "execution_count": 63,
   "metadata": {
    "collapsed": true
   },
   "outputs": [],
   "source": [
    "from sklearn.metrics.pairwise import cosine_similarity\n",
    "cos_sim = cosine_similarity(stemmed_review_vectors[0:1], stemmed_review_vectors) "
   ]
  },
  {
   "cell_type": "code",
   "execution_count": 64,
   "metadata": {
    "collapsed": true
   },
   "outputs": [],
   "source": [
    "n=3\n",
    "neighborhoods_list = df['name']\n",
    "sb_stemmed_similatiry_dict={}\n",
    "for i in range(len(neighborhoods_list)):\n",
    "    cos_sim = cosine_similarity(stemmed_review_vectors[i:(i+1)], stemmed_review_vectors)\n",
    "    order = list(cos_sim.argsort()[0][::-1][1:n])\n",
    "    top_three = neighborhoods_list[order]\n",
    "    sb_stemmed_similatiry_dict[neighborhoods_list[i]]=top_three.values.tolist()"
   ]
  },
  {
   "cell_type": "markdown",
   "metadata": {},
   "source": [
    "### PorterStemmer"
   ]
  },
  {
   "cell_type": "code",
   "execution_count": 55,
   "metadata": {
    "collapsed": true
   },
   "outputs": [],
   "source": [
    "from nltk.stem.porter import PorterStemmer\n",
    "class StemmedTfidfVectorizer(TfidfVectorizer):\n",
    "    def build_analyzer(self):\n",
    "        stemmer_porter = PorterStemmer()\n",
    "        analyzer = super(TfidfVectorizer, self).build_analyzer()\n",
    "        return lambda doc: [stemmer_porter.stem(word) for word in analyzer(doc)]    "
   ]
  },
  {
   "cell_type": "code",
   "execution_count": 56,
   "metadata": {
    "collapsed": true
   },
   "outputs": [],
   "source": [
    "stemvectorizer=StemmedTfidfVectorizer()\n",
    "stemmedvectors=stemvectorizer.fit_transform(textreview)\n",
    "stemmed_review_vectors=stemmedvectors.toarray()"
   ]
  },
  {
   "cell_type": "code",
   "execution_count": 58,
   "metadata": {
    "collapsed": false
   },
   "outputs": [],
   "source": [
    "from sklearn.metrics.pairwise import cosine_similarity\n",
    "cos_sim = cosine_similarity(stemmed_review_vectors[0:1], stemmed_review_vectors) "
   ]
  },
  {
   "cell_type": "code",
   "execution_count": 59,
   "metadata": {
    "collapsed": true
   },
   "outputs": [],
   "source": [
    "n=3\n",
    "neighborhoods_list = df['name']\n",
    "ps_stemmed_similatiry_dict={}\n",
    "for i in range(len(neighborhoods_list)):\n",
    "    cos_sim = cosine_similarity(stemmed_review_vectors[i:(i+1)], stemmed_review_vectors)\n",
    "    order = list(cos_sim.argsort()[0][::-1][1:n])\n",
    "    top_three = neighborhoods_list[order]\n",
    "    ps_stemmed_similatiry_dict[neighborhoods_list[i]]=top_three.values.tolist()"
   ]
  },
  {
   "cell_type": "code",
   "execution_count": null,
   "metadata": {
    "collapsed": true
   },
   "outputs": [],
   "source": []
  },
  {
   "cell_type": "code",
   "execution_count": 70,
   "metadata": {
    "collapsed": false
   },
   "outputs": [
    {
     "data": {
      "text/plain": [
       "{u'Cedar Park / Meadowbrook': [u'Green Lake',\n",
       "  u'Downtown (Central Business District)'],\n",
       " u'Stevens (Capitol Hill)': [u'Lower Queen Anne',\n",
       "  u'Downtown (Central Business District)']}"
      ]
     },
     "execution_count": 70,
     "metadata": {},
     "output_type": "execute_result"
    }
   ],
   "source": [
    "{k: sb_stemmed_similatiry_dict[k] for k in sb_stemmed_similatiry_dict.keys()[:2]}"
   ]
  },
  {
   "cell_type": "code",
   "execution_count": 71,
   "metadata": {
    "collapsed": false
   },
   "outputs": [
    {
     "data": {
      "text/plain": [
       "{u'Cedar Park / Meadowbrook': [u'Green Lake',\n",
       "  u'Downtown (Central Business District)'],\n",
       " u'Stevens (Capitol Hill)': [u'Lower Queen Anne',\n",
       "  u'Downtown (Central Business District)']}"
      ]
     },
     "execution_count": 71,
     "metadata": {},
     "output_type": "execute_result"
    }
   ],
   "source": [
    "{k: ps_stemmed_similatiry_dict[k] for k in ps_stemmed_similatiry_dict.keys()[:2]}"
   ]
  },
  {
   "cell_type": "code",
   "execution_count": null,
   "metadata": {
    "collapsed": true
   },
   "outputs": [],
   "source": []
  },
  {
   "cell_type": "code",
   "execution_count": null,
   "metadata": {
    "collapsed": true
   },
   "outputs": [],
   "source": []
  },
  {
   "cell_type": "code",
   "execution_count": null,
   "metadata": {
    "collapsed": true
   },
   "outputs": [],
   "source": []
  },
  {
   "cell_type": "code",
   "execution_count": null,
   "metadata": {
    "collapsed": true
   },
   "outputs": [],
   "source": []
  },
  {
   "cell_type": "code",
   "execution_count": null,
   "metadata": {
    "collapsed": true
   },
   "outputs": [],
   "source": []
  },
  {
   "cell_type": "code",
   "execution_count": null,
   "metadata": {
    "collapsed": true
   },
   "outputs": [],
   "source": []
  },
  {
   "cell_type": "code",
   "execution_count": null,
   "metadata": {
    "collapsed": true
   },
   "outputs": [],
   "source": []
  },
  {
   "cell_type": "code",
   "execution_count": 31,
   "metadata": {
    "collapsed": false
   },
   "outputs": [],
   "source": [
    "n=3\n",
    "neighborhoods_list = df['name']\n",
    "similatiry_dict={}\n",
    "for i in range(len(neighborhoods_list)):\n",
    "    cos_sim = cosine_similarity(review_vectors[i:(i+1)], review_vectors)\n",
    "    order = list(cos_sim.argsort()[0][::-1][1:n])\n",
    "    top_three = neighborhoods_list[order]\n",
    "    similatiry_dict[neighborhoods_list[i]]=top_three.values.tolist()"
   ]
  },
  {
   "cell_type": "code",
   "execution_count": 36,
   "metadata": {
    "collapsed": false
   },
   "outputs": [
    {
     "data": {
      "text/plain": [
       "[u'Ravenna / Bryant', u'Montlake']"
      ]
     },
     "execution_count": 36,
     "metadata": {},
     "output_type": "execute_result"
    }
   ],
   "source": [
    "similatiry_dict['University District']"
   ]
  },
  {
   "cell_type": "code",
   "execution_count": 44,
   "metadata": {
    "collapsed": false
   },
   "outputs": [
    {
     "data": {
      "text/plain": [
       "[u'North Admiral', u'North Beach Blue Ridge']"
      ]
     },
     "execution_count": 44,
     "metadata": {},
     "output_type": "execute_result"
    }
   ],
   "source": [
    "similatiry_dict['Alki']"
   ]
  },
  {
   "cell_type": "code",
   "execution_count": 48,
   "metadata": {
    "collapsed": false
   },
   "outputs": [
    {
     "data": {
      "text/plain": [
       "[u'North Admiral', u'Downtown (Central Business District)', u'Green Lake']"
      ]
     },
     "execution_count": 48,
     "metadata": {},
     "output_type": "execute_result"
    }
   ],
   "source": [
    "stemmed_similatiry_dict['Alki']"
   ]
  },
  {
   "cell_type": "code",
   "execution_count": 49,
   "metadata": {
    "collapsed": false
   },
   "outputs": [
    {
     "data": {
      "text/plain": [
       "[u'Pike Market', u'Broadway (Capitol Hill)', u'Green Lake']"
      ]
     },
     "execution_count": 49,
     "metadata": {},
     "output_type": "execute_result"
    }
   ],
   "source": [
    "stemmed_similatiry_dict['Downtown (Central Business District)']"
   ]
  },
  {
   "cell_type": "code",
   "execution_count": null,
   "metadata": {
    "collapsed": true
   },
   "outputs": [],
   "source": []
  }
 ],
 "metadata": {
  "anaconda-cloud": {},
  "kernelspec": {
   "display_name": "Python [default]",
   "language": "python",
   "name": "python2"
  },
  "language_info": {
   "codemirror_mode": {
    "name": "ipython",
    "version": 2
   },
   "file_extension": ".py",
   "mimetype": "text/x-python",
   "name": "python",
   "nbconvert_exporter": "python",
   "pygments_lexer": "ipython2",
   "version": "2.7.12"
  }
 },
 "nbformat": 4,
 "nbformat_minor": 1
}
