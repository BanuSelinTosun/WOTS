{
 "cells": [
  {
   "cell_type": "code",
   "execution_count": 1,
   "metadata": {
    "collapsed": false
   },
   "outputs": [],
   "source": [
    "import pandas as pd\n",
    "import numpy as np"
   ]
  },
  {
   "cell_type": "code",
   "execution_count": 2,
   "metadata": {
    "collapsed": true
   },
   "outputs": [],
   "source": [
    "from pymongo import MongoClient\n",
    "import pprint"
   ]
  },
  {
   "cell_type": "code",
   "execution_count": 3,
   "metadata": {
    "collapsed": true
   },
   "outputs": [],
   "source": [
    "# Connect to the hosted MongoDB instance\n",
    "client = MongoClient()"
   ]
  },
  {
   "cell_type": "code",
   "execution_count": 4,
   "metadata": {
    "collapsed": true
   },
   "outputs": [],
   "source": [
    "db = client.Street_Advisor"
   ]
  },
  {
   "cell_type": "code",
   "execution_count": 5,
   "metadata": {
    "collapsed": true
   },
   "outputs": [],
   "source": [
    "reviews = db.neighborhood"
   ]
  },
  {
   "cell_type": "code",
   "execution_count": 6,
   "metadata": {
    "collapsed": false
   },
   "outputs": [],
   "source": [
    "allreviews = reviews.find({},{'_id': 0})\n",
    "reviewlist=[]\n",
    "for review in allreviews:\n",
    "    reviewlist.append(review)"
   ]
  },
  {
   "cell_type": "code",
   "execution_count": 7,
   "metadata": {
    "collapsed": true
   },
   "outputs": [],
   "source": [
    "df=pd.DataFrame(reviewlist)"
   ]
  },
  {
   "cell_type": "code",
   "execution_count": 8,
   "metadata": {
    "collapsed": false
   },
   "outputs": [
    {
     "data": {
      "text/html": [
       "<div>\n",
       "<table border=\"1\" class=\"dataframe\">\n",
       "  <thead>\n",
       "    <tr style=\"text-align: right;\">\n",
       "      <th></th>\n",
       "      <th>reviews</th>\n",
       "      <th>name</th>\n",
       "    </tr>\n",
       "  </thead>\n",
       "  <tbody>\n",
       "    <tr>\n",
       "      <th>0</th>\n",
       "      <td>[\\nOk I’m gonna let you in on one of my runnin...</td>\n",
       "      <td>Alki</td>\n",
       "    </tr>\n",
       "    <tr>\n",
       "      <th>1</th>\n",
       "      <td>[\\nWant a neighborhood close to the city with ...</td>\n",
       "      <td>Arbor Heights</td>\n",
       "    </tr>\n",
       "    <tr>\n",
       "      <th>2</th>\n",
       "      <td>[\\nLocated just north of Interstate 90, betwee...</td>\n",
       "      <td>Atlantic</td>\n",
       "    </tr>\n",
       "    <tr>\n",
       "      <th>3</th>\n",
       "      <td>[\\nOk I had to write a review for Ballard just...</td>\n",
       "      <td>Ballard</td>\n",
       "    </tr>\n",
       "    <tr>\n",
       "      <th>4</th>\n",
       "      <td>[\\nThe area of Beacon Hill, known more specifi...</td>\n",
       "      <td>Beacon Hill</td>\n",
       "    </tr>\n",
       "    <tr>\n",
       "      <th>5</th>\n",
       "      <td>[\\nSome of my colleagues and I occasionally li...</td>\n",
       "      <td>Belltown</td>\n",
       "    </tr>\n",
       "    <tr>\n",
       "      <th>6</th>\n",
       "      <td>[\\nWe looked at many Shoreline and North Seatt...</td>\n",
       "      <td>Briarcrest</td>\n",
       "    </tr>\n",
       "    <tr>\n",
       "      <th>7</th>\n",
       "      <td>[\\nCarkeek park in Broadview is one of our fav...</td>\n",
       "      <td>Broadview Bitter Lake</td>\n",
       "    </tr>\n",
       "    <tr>\n",
       "      <th>8</th>\n",
       "      <td>[\\nThe Epicenter of Seattle Culture\\n\\nA place...</td>\n",
       "      <td>Broadway (Capitol Hill)</td>\n",
       "    </tr>\n",
       "    <tr>\n",
       "      <th>9</th>\n",
       "      <td>[\\nLake City has some junky parts, where you d...</td>\n",
       "      <td>Cedar Park / Meadowbrook</td>\n",
       "    </tr>\n",
       "  </tbody>\n",
       "</table>\n",
       "</div>"
      ],
      "text/plain": [
       "                                             reviews                      name\n",
       "0  [\\nOk I’m gonna let you in on one of my runnin...                      Alki\n",
       "1  [\\nWant a neighborhood close to the city with ...             Arbor Heights\n",
       "2  [\\nLocated just north of Interstate 90, betwee...                  Atlantic\n",
       "3  [\\nOk I had to write a review for Ballard just...                   Ballard\n",
       "4  [\\nThe area of Beacon Hill, known more specifi...               Beacon Hill\n",
       "5  [\\nSome of my colleagues and I occasionally li...                  Belltown\n",
       "6  [\\nWe looked at many Shoreline and North Seatt...                Briarcrest\n",
       "7  [\\nCarkeek park in Broadview is one of our fav...     Broadview Bitter Lake\n",
       "8  [\\nThe Epicenter of Seattle Culture\\n\\nA place...   Broadway (Capitol Hill)\n",
       "9  [\\nLake City has some junky parts, where you d...  Cedar Park / Meadowbrook"
      ]
     },
     "execution_count": 8,
     "metadata": {},
     "output_type": "execute_result"
    }
   ],
   "source": [
    "df = df[['reviews','name']]\n",
    "df[0:10]"
   ]
  },
  {
   "cell_type": "code",
   "execution_count": null,
   "metadata": {
    "collapsed": true
   },
   "outputs": [],
   "source": [
    "#Remove the neighborhoods dont have reviews"
   ]
  },
  {
   "cell_type": "code",
   "execution_count": 9,
   "metadata": {
    "collapsed": false
   },
   "outputs": [
    {
     "data": {
      "text/plain": [
       "[u'Parkwood', u'Ridgecrest', u'Westminster Triangle']"
      ]
     },
     "execution_count": 9,
     "metadata": {},
     "output_type": "execute_result"
    }
   ],
   "source": [
    "empty_review_list=[]\n",
    "for i in range(df.shape[0]):\n",
    "    if len(df['reviews'][i])==0:\n",
    "        empty_review_list.append(df['name'][i])\n",
    "empty_review_list"
   ]
  },
  {
   "cell_type": "code",
   "execution_count": null,
   "metadata": {
    "collapsed": true
   },
   "outputs": [],
   "source": [
    "# reset index"
   ]
  },
  {
   "cell_type": "code",
   "execution_count": 10,
   "metadata": {
    "collapsed": false
   },
   "outputs": [],
   "source": [
    "for i in empty_review_list:\n",
    "    df = df[df.name != i]"
   ]
  },
  {
   "cell_type": "code",
   "execution_count": 11,
   "metadata": {
    "collapsed": false
   },
   "outputs": [],
   "source": [
    "df.reset_index(drop=True,inplace=True)"
   ]
  },
  {
   "cell_type": "code",
   "execution_count": 13,
   "metadata": {
    "collapsed": false
   },
   "outputs": [
    {
     "data": {
      "text/html": [
       "<div>\n",
       "<table border=\"1\" class=\"dataframe\">\n",
       "  <thead>\n",
       "    <tr style=\"text-align: right;\">\n",
       "      <th></th>\n",
       "      <th>reviews</th>\n",
       "      <th>name</th>\n",
       "    </tr>\n",
       "  </thead>\n",
       "  <tbody>\n",
       "    <tr>\n",
       "      <th>40</th>\n",
       "      <td>[\\nThe Mt. Baker community is as different eco...</td>\n",
       "      <td>Mount Baker</td>\n",
       "    </tr>\n",
       "    <tr>\n",
       "      <th>41</th>\n",
       "      <td>[\\nJust moved here recently because of the qua...</td>\n",
       "      <td>North Admiral</td>\n",
       "    </tr>\n",
       "    <tr>\n",
       "      <th>42</th>\n",
       "      <td>[\\nThere’s nowhere in Seattle that is as nice,...</td>\n",
       "      <td>North Beach Blue Ridge</td>\n",
       "    </tr>\n",
       "    <tr>\n",
       "      <th>43</th>\n",
       "      <td>[\\nNorth Beacon Hill is another section of the...</td>\n",
       "      <td>North Beacon Hill</td>\n",
       "    </tr>\n",
       "    <tr>\n",
       "      <th>44</th>\n",
       "      <td>[\\nEveryone wants to live in the forest, well ...</td>\n",
       "      <td>North Delridge</td>\n",
       "    </tr>\n",
       "    <tr>\n",
       "      <th>45</th>\n",
       "      <td>[\\nNorth Queen Anne has some lovely houseboats...</td>\n",
       "      <td>North Queen Anne</td>\n",
       "    </tr>\n",
       "    <tr>\n",
       "      <th>46</th>\n",
       "      <td>[\\nNorthgate is one of the biggest, most north...</td>\n",
       "      <td>Northgate</td>\n",
       "    </tr>\n",
       "    <tr>\n",
       "      <th>47</th>\n",
       "      <td>[\\nThe greatest thing about the Olympia Hills ...</td>\n",
       "      <td>Olympic Hills / Victory Heights</td>\n",
       "    </tr>\n",
       "    <tr>\n",
       "      <th>48</th>\n",
       "      <td>[\\nWe went to Phinney Ridge neighborhood to go...</td>\n",
       "      <td>Phinney Ridge / Greenwood</td>\n",
       "    </tr>\n",
       "    <tr>\n",
       "      <th>49</th>\n",
       "      <td>[\\nAfter the Space Needle, Pike Place Market i...</td>\n",
       "      <td>Pike Market</td>\n",
       "    </tr>\n",
       "  </tbody>\n",
       "</table>\n",
       "</div>"
      ],
      "text/plain": [
       "                                              reviews  \\\n",
       "40  [\\nThe Mt. Baker community is as different eco...   \n",
       "41  [\\nJust moved here recently because of the qua...   \n",
       "42  [\\nThere’s nowhere in Seattle that is as nice,...   \n",
       "43  [\\nNorth Beacon Hill is another section of the...   \n",
       "44  [\\nEveryone wants to live in the forest, well ...   \n",
       "45  [\\nNorth Queen Anne has some lovely houseboats...   \n",
       "46  [\\nNorthgate is one of the biggest, most north...   \n",
       "47  [\\nThe greatest thing about the Olympia Hills ...   \n",
       "48  [\\nWe went to Phinney Ridge neighborhood to go...   \n",
       "49  [\\nAfter the Space Needle, Pike Place Market i...   \n",
       "\n",
       "                               name  \n",
       "40                      Mount Baker  \n",
       "41                    North Admiral  \n",
       "42           North Beach Blue Ridge  \n",
       "43                North Beacon Hill  \n",
       "44                   North Delridge  \n",
       "45                 North Queen Anne  \n",
       "46                        Northgate  \n",
       "47  Olympic Hills / Victory Heights  \n",
       "48        Phinney Ridge / Greenwood  \n",
       "49                      Pike Market  "
      ]
     },
     "execution_count": 13,
     "metadata": {},
     "output_type": "execute_result"
    }
   ],
   "source": [
    "df[40:50]"
   ]
  },
  {
   "cell_type": "code",
   "execution_count": null,
   "metadata": {
    "collapsed": true
   },
   "outputs": [],
   "source": [
    "# TFID Vectorizer"
   ]
  },
  {
   "cell_type": "code",
   "execution_count": 14,
   "metadata": {
    "collapsed": true
   },
   "outputs": [],
   "source": [
    "from sklearn.feature_extraction.text import TfidfVectorizer"
   ]
  },
  {
   "cell_type": "code",
   "execution_count": 46,
   "metadata": {
    "collapsed": false
   },
   "outputs": [],
   "source": [
    "import string\n",
    "punctuations_=set(string.punctuation)\n",
    "textreview=[]\n",
    "for i in range(df.shape[0]):\n",
    "    textreview.append(''.join(word for word in df['reviews'][i] if word not in punctuations_))"
   ]
  },
  {
   "cell_type": "code",
   "execution_count": null,
   "metadata": {
    "collapsed": true
   },
   "outputs": [],
   "source": []
  },
  {
   "cell_type": "code",
   "execution_count": 56,
   "metadata": {
    "collapsed": false
   },
   "outputs": [],
   "source": [
    "# remove all words which contains number\n",
    "#import re\n",
    "reviewtext=[]\n",
    "for review in textreview:\n",
    "    reviewtext.append(' '.join(s for s in review.split() if not any(c.isdigit() for c in s)))\n",
    "#    reviewtext.append(re.sub(r'\\w*\\d\\w*', '', review).strip())"
   ]
  },
  {
   "cell_type": "code",
   "execution_count": 57,
   "metadata": {
    "collapsed": true
   },
   "outputs": [],
   "source": [
    "vectorizer = TfidfVectorizer(stop_words='english')\n",
    "vectors = vectorizer.fit_transform(reviewtext)\n",
    "review_vectors=vectors.toarray()"
   ]
  },
  {
   "cell_type": "code",
   "execution_count": 66,
   "metadata": {
    "collapsed": true
   },
   "outputs": [],
   "source": [
    "feature_array = np.array(vectorizer.get_feature_names())\n",
    "tfidf_sorting = np.argsort(vectors.toarray()).flatten()[::-1]\n",
    "\n",
    "n = 100\n",
    "ordered_features = feature_array[tfidf_sorting][:n]"
   ]
  },
  {
   "cell_type": "code",
   "execution_count": 67,
   "metadata": {
    "collapsed": false
   },
   "outputs": [
    {
     "data": {
      "text/plain": [
       "array([u'yesler', u'terrace', u'housing', u'area', u'subsidized',\n",
       "       u'seattle', u'ghetto', u'community', u'public', u'neighborhood',\n",
       "       u'american', u'projects', u'income', u'asian', u'teens', u'council',\n",
       "       u'university', u'hill', u'african', u'redevelopment', u'calls',\n",
       "       u'rate', u'developments', u'harborview', u'center', u'acres',\n",
       "       u'economic', u'residents', u'plans', u'jackson', u'consists',\n",
       "       u'development', u'build', u'people', u'low', u'asians', u'mixed',\n",
       "       u'plan', u'rich', u'population', u'diversity', u'live',\n",
       "       u'mcmansions', u'squashed', u'profanity', u'rowhouses',\n",
       "       u'impoverished', u'redeveloped', u'harsh', u'proclaimed',\n",
       "       u'betterment', u'deuce', u'redo', u'staging', u'brag', u'homework',\n",
       "       u'spirits', u'drenched', u'investors', u'entrepreneurial',\n",
       "       u'heritages', u'poorest', u'slum', u'succeeds', u'butts',\n",
       "       u'suburbanites', u'proposing', u'prize', u'currently',\n",
       "       u'interstate', u'considered', u'turn', u'restaurants',\n",
       "       u'international', u'cultural', u'story', u'district',\n",
       "       u'unattractive', u'steer', u'flare', u'realized', u'comeback',\n",
       "       u'believed', u'concerns', u'grows', u'redevelop', u'ranks',\n",
       "       u'southernmost', u'deemed', u'known', u'spaces', u'evolving',\n",
       "       u'containing', u'ethnicities', u'uphill', u'apparent', u'improved',\n",
       "       u'hood', u'valued', u'near'], \n",
       "      dtype='<U32')"
      ]
     },
     "execution_count": 67,
     "metadata": {},
     "output_type": "execute_result"
    }
   ],
   "source": [
    "ordered_features"
   ]
  },
  {
   "cell_type": "code",
   "execution_count": 69,
   "metadata": {
    "collapsed": true
   },
   "outputs": [],
   "source": [
    "add_stopwords=[u'neighborhood',u'housing',u'area',u'seattle']"
   ]
  },
  {
   "cell_type": "code",
   "execution_count": 63,
   "metadata": {
    "collapsed": false
   },
   "outputs": [
    {
     "data": {
      "text/plain": [
       "71"
      ]
     },
     "execution_count": 63,
     "metadata": {},
     "output_type": "execute_result"
    }
   ],
   "source": [
    "len(reviewtext)"
   ]
  },
  {
   "cell_type": "code",
   "execution_count": 70,
   "metadata": {
    "collapsed": true
   },
   "outputs": [],
   "source": [
    "from nltk.corpus import stopwords\n",
    "stopwords_ = set(stopwords.words('english'))"
   ]
  },
  {
   "cell_type": "code",
   "execution_count": 71,
   "metadata": {
    "collapsed": true
   },
   "outputs": [],
   "source": [
    "for word in add_stopwords:\n",
    "    stopwords_.add(word)"
   ]
  },
  {
   "cell_type": "code",
   "execution_count": null,
   "metadata": {
    "collapsed": true
   },
   "outputs": [],
   "source": [
    "## Add Stemmed TFIDF Vecorizer"
   ]
  },
  {
   "cell_type": "markdown",
   "metadata": {},
   "source": [
    "### SnowballStemmer"
   ]
  },
  {
   "cell_type": "code",
   "execution_count": 72,
   "metadata": {
    "collapsed": true
   },
   "outputs": [],
   "source": [
    "#Snowvall Stemmer\n",
    "from nltk.stem.snowball import SnowballStemmer\n",
    "class StemmedTfidfVectorizer(TfidfVectorizer):\n",
    "    def build_analyzer(self):\n",
    "        stemmer_porter = SnowballStemmer('english')\n",
    "        analyzer = super(TfidfVectorizer, self).build_analyzer()\n",
    "        return lambda doc: [stemmer_porter.stem(word) for word in analyzer(doc)]    "
   ]
  },
  {
   "cell_type": "code",
   "execution_count": 73,
   "metadata": {
    "collapsed": false
   },
   "outputs": [],
   "source": [
    "stemvectorizer=StemmedTfidfVectorizer(stop_words=stopwords_)\n",
    "stemmedvectors=stemvectorizer.fit_transform(textreview)\n",
    "stemmed_review_vectors=stemmedvectors.toarray()"
   ]
  },
  {
   "cell_type": "code",
   "execution_count": 74,
   "metadata": {
    "collapsed": true
   },
   "outputs": [],
   "source": [
    "from sklearn.metrics.pairwise import cosine_similarity\n",
    "cos_sim = cosine_similarity(stemmed_review_vectors[0:1], stemmed_review_vectors) "
   ]
  },
  {
   "cell_type": "code",
   "execution_count": 75,
   "metadata": {
    "collapsed": true
   },
   "outputs": [],
   "source": [
    "n=3\n",
    "neighborhoods_list = df['name']\n",
    "sb_stemmed_similatiry_dict={}\n",
    "for i in range(len(neighborhoods_list)):\n",
    "    cos_sim = cosine_similarity(stemmed_review_vectors[i:(i+1)], stemmed_review_vectors)\n",
    "    order = list(cos_sim.argsort()[0][::-1][1:n])\n",
    "    top_three = neighborhoods_list[order]\n",
    "    sb_stemmed_similatiry_dict[neighborhoods_list[i]]=top_three.values.tolist()"
   ]
  },
  {
   "cell_type": "markdown",
   "metadata": {},
   "source": [
    "### PorterStemmer"
   ]
  },
  {
   "cell_type": "code",
   "execution_count": 55,
   "metadata": {
    "collapsed": true
   },
   "outputs": [],
   "source": [
    "from nltk.stem.porter import PorterStemmer\n",
    "class StemmedTfidfVectorizer(TfidfVectorizer):\n",
    "    def build_analyzer(self):\n",
    "        stemmer_porter = PorterStemmer()\n",
    "        analyzer = super(TfidfVectorizer, self).build_analyzer()\n",
    "        return lambda doc: [stemmer_porter.stem(word) for word in analyzer(doc)]    "
   ]
  },
  {
   "cell_type": "code",
   "execution_count": 56,
   "metadata": {
    "collapsed": true
   },
   "outputs": [],
   "source": [
    "stemvectorizer=StemmedTfidfVectorizer(stop_words='english')\n",
    "stemmedvectors=stemvectorizer.fit_transform(textreview)\n",
    "stemmed_review_vectors=stemmedvectors.toarray()"
   ]
  },
  {
   "cell_type": "code",
   "execution_count": 58,
   "metadata": {
    "collapsed": false
   },
   "outputs": [],
   "source": [
    "from sklearn.metrics.pairwise import cosine_similarity\n",
    "cos_sim = cosine_similarity(stemmed_review_vectors[0:1], stemmed_review_vectors) "
   ]
  },
  {
   "cell_type": "code",
   "execution_count": 59,
   "metadata": {
    "collapsed": true
   },
   "outputs": [],
   "source": [
    "n=3\n",
    "neighborhoods_list = df['name']\n",
    "ps_stemmed_similatiry_dict={}\n",
    "for i in range(len(neighborhoods_list)):\n",
    "    cos_sim = cosine_similarity(stemmed_review_vectors[i:(i+1)], stemmed_review_vectors)\n",
    "    order = list(cos_sim.argsort()[0][::-1][1:n])\n",
    "    top_three = neighborhoods_list[order]\n",
    "    ps_stemmed_similatiry_dict[neighborhoods_list[i]]=top_three.values.tolist()"
   ]
  },
  {
   "cell_type": "code",
   "execution_count": null,
   "metadata": {
    "collapsed": true
   },
   "outputs": [],
   "source": []
  },
  {
   "cell_type": "code",
   "execution_count": 70,
   "metadata": {
    "collapsed": false
   },
   "outputs": [
    {
     "data": {
      "text/plain": [
       "{u'Cedar Park / Meadowbrook': [u'Green Lake',\n",
       "  u'Downtown (Central Business District)'],\n",
       " u'Stevens (Capitol Hill)': [u'Lower Queen Anne',\n",
       "  u'Downtown (Central Business District)']}"
      ]
     },
     "execution_count": 70,
     "metadata": {},
     "output_type": "execute_result"
    }
   ],
   "source": [
    "{k: sb_stemmed_similatiry_dict[k] for k in sb_stemmed_similatiry_dict.keys()[:2]}"
   ]
  },
  {
   "cell_type": "code",
   "execution_count": 71,
   "metadata": {
    "collapsed": false
   },
   "outputs": [
    {
     "data": {
      "text/plain": [
       "{u'Cedar Park / Meadowbrook': [u'Green Lake',\n",
       "  u'Downtown (Central Business District)'],\n",
       " u'Stevens (Capitol Hill)': [u'Lower Queen Anne',\n",
       "  u'Downtown (Central Business District)']}"
      ]
     },
     "execution_count": 71,
     "metadata": {},
     "output_type": "execute_result"
    }
   ],
   "source": [
    "{k: ps_stemmed_similatiry_dict[k] for k in ps_stemmed_similatiry_dict.keys()[:2]}"
   ]
  },
  {
   "cell_type": "code",
   "execution_count": 76,
   "metadata": {
    "collapsed": false
   },
   "outputs": [
    {
     "data": {
      "text/plain": [
       "{u'Cedar Park / Meadowbrook': [u'Green Lake', u'Haller Lake'],\n",
       " u'Stevens (Capitol Hill)': [u'Madison Park', u'Broadway (Capitol Hill)']}"
      ]
     },
     "execution_count": 76,
     "metadata": {},
     "output_type": "execute_result"
    }
   ],
   "source": [
    "{k: sb_stemmed_similatiry_dict[k] for k in sb_stemmed_similatiry_dict.keys()[:2]}"
   ]
  },
  {
   "cell_type": "code",
   "execution_count": null,
   "metadata": {
    "collapsed": true
   },
   "outputs": [],
   "source": []
  },
  {
   "cell_type": "code",
   "execution_count": null,
   "metadata": {
    "collapsed": true
   },
   "outputs": [],
   "source": []
  },
  {
   "cell_type": "code",
   "execution_count": null,
   "metadata": {
    "collapsed": true
   },
   "outputs": [],
   "source": []
  },
  {
   "cell_type": "code",
   "execution_count": null,
   "metadata": {
    "collapsed": true
   },
   "outputs": [],
   "source": []
  },
  {
   "cell_type": "code",
   "execution_count": null,
   "metadata": {
    "collapsed": true
   },
   "outputs": [],
   "source": []
  },
  {
   "cell_type": "code",
   "execution_count": null,
   "metadata": {
    "collapsed": true
   },
   "outputs": [],
   "source": []
  },
  {
   "cell_type": "code",
   "execution_count": 31,
   "metadata": {
    "collapsed": false
   },
   "outputs": [],
   "source": [
    "n=3\n",
    "neighborhoods_list = df['name']\n",
    "similatiry_dict={}\n",
    "for i in range(len(neighborhoods_list)):\n",
    "    cos_sim = cosine_similarity(review_vectors[i:(i+1)], review_vectors)\n",
    "    order = list(cos_sim.argsort()[0][::-1][1:n])\n",
    "    top_three = neighborhoods_list[order]\n",
    "    similatiry_dict[neighborhoods_list[i]]=top_three.values.tolist()"
   ]
  },
  {
   "cell_type": "code",
   "execution_count": 36,
   "metadata": {
    "collapsed": false
   },
   "outputs": [
    {
     "data": {
      "text/plain": [
       "[u'Ravenna / Bryant', u'Montlake']"
      ]
     },
     "execution_count": 36,
     "metadata": {},
     "output_type": "execute_result"
    }
   ],
   "source": [
    "similatiry_dict['University District']"
   ]
  },
  {
   "cell_type": "code",
   "execution_count": 44,
   "metadata": {
    "collapsed": false
   },
   "outputs": [
    {
     "data": {
      "text/plain": [
       "[u'North Admiral', u'North Beach Blue Ridge']"
      ]
     },
     "execution_count": 44,
     "metadata": {},
     "output_type": "execute_result"
    }
   ],
   "source": [
    "similatiry_dict['Alki']"
   ]
  },
  {
   "cell_type": "code",
   "execution_count": 48,
   "metadata": {
    "collapsed": false
   },
   "outputs": [
    {
     "data": {
      "text/plain": [
       "[u'North Admiral', u'Downtown (Central Business District)', u'Green Lake']"
      ]
     },
     "execution_count": 48,
     "metadata": {},
     "output_type": "execute_result"
    }
   ],
   "source": [
    "stemmed_similatiry_dict['Alki']"
   ]
  },
  {
   "cell_type": "code",
   "execution_count": 49,
   "metadata": {
    "collapsed": false
   },
   "outputs": [
    {
     "data": {
      "text/plain": [
       "[u'Pike Market', u'Broadway (Capitol Hill)', u'Green Lake']"
      ]
     },
     "execution_count": 49,
     "metadata": {},
     "output_type": "execute_result"
    }
   ],
   "source": [
    "stemmed_similatiry_dict['Downtown (Central Business District)']"
   ]
  },
  {
   "cell_type": "code",
   "execution_count": null,
   "metadata": {
    "collapsed": true
   },
   "outputs": [],
   "source": []
  }
 ],
 "metadata": {
  "anaconda-cloud": {},
  "kernelspec": {
   "display_name": "Python [default]",
   "language": "python",
   "name": "python2"
  },
  "language_info": {
   "codemirror_mode": {
    "name": "ipython",
    "version": 2
   },
   "file_extension": ".py",
   "mimetype": "text/x-python",
   "name": "python",
   "nbconvert_exporter": "python",
   "pygments_lexer": "ipython2",
   "version": "2.7.12"
  }
 },
 "nbformat": 4,
 "nbformat_minor": 1
}
