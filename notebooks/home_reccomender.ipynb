{
 "cells": [
  {
   "cell_type": "code",
   "execution_count": 1,
   "metadata": {
    "collapsed": true
   },
   "outputs": [],
   "source": [
    "import pandas as pd\n",
    "import numpy as np"
   ]
  },
  {
   "cell_type": "code",
   "execution_count": 8,
   "metadata": {
    "collapsed": true
   },
   "outputs": [],
   "source": [
    "pd.options.display.max_columns = 999\n",
    "pd.options.display.max_rows = 200"
   ]
  },
  {
   "cell_type": "code",
   "execution_count": 2,
   "metadata": {
    "collapsed": true
   },
   "outputs": [],
   "source": [
    "df=pd.read_csv('data/data_seattle.csv')"
   ]
  },
  {
   "cell_type": "code",
   "execution_count": 15,
   "metadata": {
    "collapsed": false
   },
   "outputs": [
    {
     "data": {
      "text/plain": [
       "Index([u'id', u'address', u'latitude', u'longitude', u'street', u'city',\n",
       "       u'state', u'county', u'zip', u'bed', u'bath', u'price', u'sqft',\n",
       "       u'created_at', u'updated_at', u'remarks', u'mls_num', u'prop_type',\n",
       "       u'details', u'status', u'list_date', u'miles_ratio', u'lot_size',\n",
       "       u'year_built', u'parking_spaces', u'garage', u'neighborhood',\n",
       "       u'school_district', u'lonlat', u'mls', u'mls_status', u'mls_prop_type',\n",
       "       u'pending_date', u'selling_date', u'selling_price',\n",
       "       u'city_neighborhood', u'street_neighborhood'],\n",
       "      dtype='object')"
      ]
     },
     "execution_count": 15,
     "metadata": {},
     "output_type": "execute_result"
    }
   ],
   "source": [
    "df.columns"
   ]
  },
  {
   "cell_type": "code",
   "execution_count": 6,
   "metadata": {
    "collapsed": false
   },
   "outputs": [],
   "source": [
    "df=df.drop('Unnamed: 0', axis=1)"
   ]
  },
  {
   "cell_type": "code",
   "execution_count": 52,
   "metadata": {
    "collapsed": false
   },
   "outputs": [
    {
     "data": {
      "text/plain": [
       "16 - 1 Story w/Bsmnt.     198\n",
       "32 - Townhouse            186\n",
       "18 - 2 Stories w/Bsmnt    144\n",
       "10 - 1 Story               83\n",
       "15 - Multi Level           68\n",
       "12 - 2 Story               61\n",
       "17 - 1 1/2 Stry w/Bsmt     56\n",
       "Residential                28\n",
       "13 - Tri-Level             27\n",
       "14 - Split Entry           23\n",
       "11 - 1 1/2 Story           17\n",
       "24 - Floating Home          1\n",
       "Name: mls_prop_type, dtype: int64"
      ]
     },
     "execution_count": 52,
     "metadata": {},
     "output_type": "execute_result"
    }
   ],
   "source": [
    "df[df['prop_type']=='Residential']['mls_prop_type'].value_counts()"
   ]
  },
  {
   "cell_type": "code",
   "execution_count": 51,
   "metadata": {
    "collapsed": false
   },
   "outputs": [
    {
     "data": {
      "text/plain": [
       "30 - Condo (1 Level)      450\n",
       "32 - Townhouse            203\n",
       "16 - 1 Story w/Bsmnt.     198\n",
       "18 - 2 Stories w/Bsmnt    144\n",
       "10 - 1 Story               83\n",
       "15 - Multi Level           68\n",
       "12 - 2 Story               61\n",
       "17 - 1 1/2 Stry w/Bsmt     56\n",
       "52 - Duplex                30\n",
       "Residential                28\n",
       "31 - Condo (2 Levels)      28\n",
       "13 - Tri-Level             27\n",
       "14 - Split Entry           23\n",
       "40 - Res-Less thn 1 Ac     21\n",
       "34 - Condo (3 Levels)      19\n",
       "11 - 1 1/2 Story           17\n",
       "55 - 5-Plex                13\n",
       "33 - Co-op                 11\n",
       "53 - Tri-plex               9\n",
       "56 - 10+ Units              7\n",
       "42 - Multi-Family           5\n",
       "54 - 4-Plex                 4\n",
       "41 - Res-Over 1 Acre        3\n",
       "43 - Comm/Industrial        3\n",
       "24 - Floating Home          1\n",
       "Name: mls_prop_type, dtype: int64"
      ]
     },
     "execution_count": 51,
     "metadata": {},
     "output_type": "execute_result"
    }
   ],
   "source": [
    "df['mls_prop_type'].value_counts()"
   ]
  },
  {
   "cell_type": "code",
   "execution_count": 12,
   "metadata": {
    "collapsed": false
   },
   "outputs": [
    {
     "data": {
      "text/plain": [
       "67"
      ]
     },
     "execution_count": 12,
     "metadata": {},
     "output_type": "execute_result"
    }
   ],
   "source": [
    "len(np.unique(df.street_neighborhood))"
   ]
  },
  {
   "cell_type": "code",
   "execution_count": 14,
   "metadata": {
    "collapsed": false
   },
   "outputs": [
    {
     "data": {
      "text/plain": [
       "Belltown                     91\n",
       "Phinney Ridge / Greenwood    88\n",
       "Ballard                      86\n",
       "Broadway (Capitol Hill)      65\n",
       "Magnolia                     65\n",
       "Broadview / Bitter Lake      56\n",
       "Ravenna / Bryant             50\n",
       "Rainier Beach                50\n",
       "Wedgeview Ridge              45\n",
       "Beacon Hill                  44\n",
       "Name: street_neighborhood, dtype: int64"
      ]
     },
     "execution_count": 14,
     "metadata": {},
     "output_type": "execute_result"
    }
   ],
   "source": [
    "df.street_neighborhood.value_counts()[0:10]"
   ]
  },
  {
   "cell_type": "code",
   "execution_count": null,
   "metadata": {
    "collapsed": true
   },
   "outputs": [],
   "source": [
    "df[\"A\"][(df[\"B\"] > 50) & (df[\"C\"] == 900)]"
   ]
  },
  {
   "cell_type": "code",
   "execution_count": 62,
   "metadata": {
    "collapsed": true
   },
   "outputs": [],
   "source": [
    "minbed=1\n",
    "maxbed=2\n",
    "minbath=1\n",
    "maxbath=2\n",
    "prop_type='Residential'\n",
    "neighborhood='Ballard'"
   ]
  },
  {
   "cell_type": "code",
   "execution_count": 64,
   "metadata": {
    "collapsed": false
   },
   "outputs": [],
   "source": [
    "df_select= df[(df['bed']<=maxbed) & (df['bed']>=minbed) &\n",
    "               (df['bath']<=maxbath) & (df['bed']>=minbath) &\n",
    "               (df['prop_type']==prop_type)&\n",
    "               (df['street_neighborhood']==neighborhood)][['id','remarks']]"
   ]
  },
  {
   "cell_type": "code",
   "execution_count": 61,
   "metadata": {
    "collapsed": false
   },
   "outputs": [
    {
     "data": {
      "text/plain": [
       "Phinney Ridge / Greenwood    15\n",
       "Gatewood                     11\n",
       "Fremont                       9\n",
       "South Delridge                9\n",
       "Ravenna / Bryant              9\n",
       "High Point                    9\n",
       "Ballard                       7\n",
       "North Beacon Hill             7\n",
       "Minor                         7\n",
       "Rainier Beach                 7\n",
       "Name: street_neighborhood, dtype: int64"
      ]
     },
     "execution_count": 61,
     "metadata": {},
     "output_type": "execute_result"
    }
   ],
   "source": [
    "#df_select.street_neighborhood.value_counts()[0:10]"
   ]
  },
  {
   "cell_type": "code",
   "execution_count": 65,
   "metadata": {
    "collapsed": true
   },
   "outputs": [],
   "source": [
    "df_select.reset_index(drop=True,inplace=True)"
   ]
  },
  {
   "cell_type": "code",
   "execution_count": 66,
   "metadata": {
    "collapsed": false
   },
   "outputs": [
    {
     "data": {
      "text/html": [
       "<div>\n",
       "<table border=\"1\" class=\"dataframe\">\n",
       "  <thead>\n",
       "    <tr style=\"text-align: right;\">\n",
       "      <th></th>\n",
       "      <th>id</th>\n",
       "      <th>remarks</th>\n",
       "    </tr>\n",
       "  </thead>\n",
       "  <tbody>\n",
       "    <tr>\n",
       "      <th>0</th>\n",
       "      <td>5558</td>\n",
       "      <td>Bright and sunny storybook home with old world...</td>\n",
       "    </tr>\n",
       "    <tr>\n",
       "      <th>1</th>\n",
       "      <td>229451</td>\n",
       "      <td>Northwest Modern Builders unveils a stylish co...</td>\n",
       "    </tr>\n",
       "  </tbody>\n",
       "</table>\n",
       "</div>"
      ],
      "text/plain": [
       "       id                                            remarks\n",
       "0    5558  Bright and sunny storybook home with old world...\n",
       "1  229451  Northwest Modern Builders unveils a stylish co..."
      ]
     },
     "execution_count": 66,
     "metadata": {},
     "output_type": "execute_result"
    }
   ],
   "source": [
    "df_select.head(2)"
   ]
  },
  {
   "cell_type": "code",
   "execution_count": null,
   "metadata": {
    "collapsed": true
   },
   "outputs": [],
   "source": [
    "#remove punctuations\n",
    "import string\n",
    "punctuations_=set(string.punctuation)\n",
    "textreview=[]\n",
    "for i in range(df_select.shape[0]):\n",
    "    textreview.append(''.join(word for word in df_select['remarks'][i] if word not in punctuations_))"
   ]
  },
  {
   "cell_type": "code",
   "execution_count": null,
   "metadata": {
    "collapsed": true
   },
   "outputs": [],
   "source": []
  },
  {
   "cell_type": "code",
   "execution_count": null,
   "metadata": {
    "collapsed": true
   },
   "outputs": [],
   "source": []
  },
  {
   "cell_type": "code",
   "execution_count": 106,
   "metadata": {
    "collapsed": true
   },
   "outputs": [],
   "source": [
    "from sklearn.feature_extraction.text import TfidfVectorizer"
   ]
  },
  {
   "cell_type": "code",
   "execution_count": null,
   "metadata": {
    "collapsed": true
   },
   "outputs": [],
   "source": [
    "## Find the most commonly used words to add to your stopwords first"
   ]
  },
  {
   "cell_type": "code",
   "execution_count": 107,
   "metadata": {
    "collapsed": true
   },
   "outputs": [],
   "source": [
    "vectorizer = TfidfVectorizer(stop_words='english')\n",
    "vectors = vectorizer.fit_transform(textreview)\n",
    "review_vectors=vectors.toarray()"
   ]
  },
  {
   "cell_type": "code",
   "execution_count": 108,
   "metadata": {
    "collapsed": true
   },
   "outputs": [],
   "source": [
    "feature_array = np.array(vectorizer.get_feature_names())\n",
    "tfidf_sorting = np.argsort(vectors.toarray()).flatten()[::-1]\n",
    "\n",
    "#n = 3\n",
    "ordered_features = feature_array[tfidf_sorting][:-1]"
   ]
  },
  {
   "cell_type": "code",
   "execution_count": 116,
   "metadata": {
    "collapsed": false
   },
   "outputs": [
    {
     "data": {
      "text/plain": [
       "array([u'2nd', u'3rd', u'access', u'adorable', u'alcove', u'alley',\n",
       "       u'appliances', u'appls', u'apps', u'area', u'attached',\n",
       "       u'attention', u'available', u'awaiting', u'away', u'ba',\n",
       "       u'backyard', u'ballard', u'bar', u'bars', u'basement', u'bath',\n",
       "       u'bathed', u'bbqs', u'beach', u'beautiful', u'beautifulmodern',\n",
       "       u'bed', u'bedroom', u'bedrooms', u'beds', u'bertazzoni', u'best',\n",
       "       u'blinds', u'boasts', u'bosch', u'br', u'breakfast', u'bright',\n",
       "       u'builders', u'builtins', u'burning', u'cabinets', u'cafes', u'car',\n",
       "       u'ceilings', u'center', u'charm', u'chefs', u'cherry', u'city',\n",
       "       u'climate', u'close', u'cm', u'collection', u'community',\n",
       "       u'concept', u'concrete', u'contemporary', u'control', u'cottage',\n",
       "       u'counters', u'coveted', u'cozy', u'craftsman', u'custom', u'deck',\n",
       "       u'decks', u'den', u'design', u'designated', u'desirable',\n",
       "       u'detached', u'detailenjoy', u'details', u'dining', u'doors',\n",
       "       u'double', u'downtown', u'dream', u'ductless', u'ease', u'easy',\n",
       "       u'edge', u'efficiencies', u'enclave', u'endunit', u'enjoy',\n",
       "       u'entertaining', u'enviable', u'epicenter', u'espresso',\n",
       "       u'eurostyled', u'exceptional', u'exciting', u'explore', u'favorite',\n",
       "       u'features', u'finishes', u'fir', u'fireplace', u'fisher', u'floor',\n",
       "       u'floorplan', u'floors', u'flrs', u'food', u'freestanding',\n",
       "       u'fremont', u'french', u'fresh', u'functionality', u'garage',\n",
       "       u'garden', u'gardener', u'gas', u'generous', u'giant', u'gleaming',\n",
       "       u'good', u'gorgeous', u'great', u'guaranteed', u'happy',\n",
       "       u'hardwood', u'hardwoods', u'heart', u'heat', u'height', u'highend',\n",
       "       u'hip', u'home', u'honeycomb', u'hoods', u'hottest', u'house',\n",
       "       u'houses', u'huge', u'ideal', u'imagination', u'immaculate',\n",
       "       u'impeccably', u'include', u'including', u'just', u'kitch',\n",
       "       u'kitchen', u'landscaping', u'large', u'levels', u'life',\n",
       "       u'lifetime', u'light', u'lightfilled', u'lightinviting', u'live',\n",
       "       u'livework', u'living', u'll', u'location', u'lofted', u'love',\n",
       "       u'magnificent', u'main', u'master', u'minisplit', u'modern',\n",
       "       u'moments', u'mountain', u'natural', u'nearby', u'neighborhood',\n",
       "       u'new', u'newer', u'nightlife', u'northwest', u'oak', u'offers',\n",
       "       u'offstreet', u'old', u'olympic', u'open', u'opens', u'original',\n",
       "       u'outside', u'overlooking', u'owc', u'pane', u'parking', u'patio',\n",
       "       u'paykel', u'perfect', u'phinney', u'picture', u'place', u'plan',\n",
       "       u'plus', u'potentialstorage', u'preserved', u'prime', u'private',\n",
       "       u'puget', u'pumps', u'quartz', u'quiet', u'radiant', u'rail',\n",
       "       u'range', u'restaurants', u'rich', u'rooftop', u'room', u'row',\n",
       "       u'seattle', u'shops', u'slab', u'slate', u'sleek', u'small',\n",
       "       u'sound', u'southfacing', u'spaces', u'spacious', u'spend', u'ss',\n",
       "       u'stainless', u'starts', u'steel', u'stellar', u'step', u'steps',\n",
       "       u'stone', u'storage', u'storybook', u'studioshop', u'stunning',\n",
       "       u'stylish', u'summer', u'sundrenched', u'sunny', u'superior',\n",
       "       u'sweeping', u'tile', u'tons', u'townhome', u'townhouse', u'tucked',\n",
       "       u'turnofthecentury', u'unfinished', u'unique', u'unit', u'unveils',\n",
       "       u'updated', u'updates', u'upper', u'urban', u'vaulted', u'views',\n",
       "       u'water', u'wd', u'weekend', u'wgleaming', u'wgorgeous', u'windows',\n",
       "       u'wood', u'world', u'wraparound', u'wstainless', u'yard',\n",
       "       u'yearround', u'youll'], \n",
       "      dtype='<U16')"
      ]
     },
     "execution_count": 116,
     "metadata": {},
     "output_type": "execute_result"
    }
   ],
   "source": [
    "np.unique(ordered_features[0:-1])[0:400]"
   ]
  },
  {
   "cell_type": "code",
   "execution_count": 128,
   "metadata": {
    "collapsed": true
   },
   "outputs": [],
   "source": [
    "from nltk.corpus import stopwords\n",
    "\n",
    "stopwords_ = set(stopwords.words('english'))"
   ]
  },
  {
   "cell_type": "code",
   "execution_count": 130,
   "metadata": {
    "collapsed": true
   },
   "outputs": [],
   "source": [
    "add_stopwords=[u'1st',u'2nd',u'3rd',u'bed',u'beds',u'bedroom',u'bedrooms',u'br',u'bath',u'bathroom',u'bathroom',u'ba',\n",
    " u'floor',u'floors',u'house',u'appliances', u'appls', u'apps']"
   ]
  },
  {
   "cell_type": "code",
   "execution_count": 132,
   "metadata": {
    "collapsed": false
   },
   "outputs": [],
   "source": [
    "for word in add_stopwords:\n",
    "    stopwords_.add(word)"
   ]
  },
  {
   "cell_type": "code",
   "execution_count": 126,
   "metadata": {
    "collapsed": true
   },
   "outputs": [],
   "source": [
    "stemmed_feature_array = np.array(stemvectorizer.get_feature_names())\n",
    "stemmed_tfidf_sorting = np.argsort(stemmedvectors.toarray()).flatten()[::-1]\n",
    "\n",
    "#n = 3\n",
    "stemmed_ordered_features = stemmed_feature_array[stemmed_tfidf_sorting][:-1]"
   ]
  },
  {
   "cell_type": "code",
   "execution_count": 127,
   "metadata": {
    "collapsed": false
   },
   "outputs": [
    {
     "data": {
      "text/plain": [
       "array([u'2nd', u'3rd', u'access', u'ador', u'alcov', u'alley', u'app',\n",
       "       u'appl', u'applianc', u'area', u'attach', u'attent', u'avail',\n",
       "       u'await', u'away', u'ba', u'backyard', u'ballard', u'bar',\n",
       "       u'basement', u'bath', u'bbqs', u'beach', u'beauti',\n",
       "       u'beautifulmodern', u'bed', u'bedroom', u'bertazzoni', u'best',\n",
       "       u'blind', u'boast', u'bosch', u'br', u'breakfast', u'bright',\n",
       "       u'builder', u'builtin', u'burn', u'cabinet', u'cafe', u'car',\n",
       "       u'ceil', u'center', u'charm', u'chef', u'cherri', u'citi',\n",
       "       u'climat', u'close', u'cm', u'collect', u'communiti', u'concept',\n",
       "       u'concret', u'contemporari', u'control', u'cottag', u'counter',\n",
       "       u'covet', u'cozi', u'craftsman', u'custom', u'deck', u'den',\n",
       "       u'design', u'desir', u'detach', u'detail', u'detailenjoy', u'dine',\n",
       "       u'door', u'doubl', u'downtown', u'dream', u'ductless', u'eas',\n",
       "       u'easi', u'edg', u'effici', u'enclav', u'endunit', u'enjoy',\n",
       "       u'entertain', u'enviabl', u'epicent', u'espresso', u'eurostyl',\n",
       "       u'except', u'excit', u'explor', u'favorit', u'featur', u'finish',\n",
       "       u'fir', u'fireplac', u'fisher', u'floor', u'floorplan', u'flrs',\n",
       "       u'food', u'freestand', u'fremont', u'french', u'fresh', u'function',\n",
       "       u'garag', u'garden', u'gas', u'generous', u'giant', u'gleam',\n",
       "       u'good', u'gorgeous', u'great', u'guarante', u'happi', u'hardwood',\n",
       "       u'heart', u'heat', u'height', u'highend', u'hip', u'home',\n",
       "       u'honeycomb', u'hood', u'hottest', u'hous', u'huge', u'ideal',\n",
       "       u'imagin', u'immacul', u'impecc', u'includ', u'just', u'kitch',\n",
       "       u'kitchen', u'landscap', u'larg', u'level', u'life', u'lifetim',\n",
       "       u'light', u'lightfil', u'lightinvit', u'live', u'livework', u'll',\n",
       "       u'locat', u'loft', u'love', u'magnific', u'main', u'master',\n",
       "       u'minisplit', u'modern', u'moment', u'mountain', u'natur',\n",
       "       u'nearbi', u'neighborhood', u'new', u'newer', u'nightlif',\n",
       "       u'northwest', u'oak', u'offer', u'offstreet', u'old', u'olymp',\n",
       "       u'open', u'origin', u'outsid', u'overlook', u'owc', u'pane',\n",
       "       u'park', u'patio', u'paykel', u'perfect', u'phinney', u'pictur',\n",
       "       u'place', u'plan', u'plus', u'potentialstorag', u'preserv',\n",
       "       u'prime', u'privat', u'puget', u'pump', u'quartz', u'quiet',\n",
       "       u'radiant', u'rail', u'rang', u'restaur', u'rich', u'rooftop',\n",
       "       u'room', u'row', u'seattl', u'shop', u'slab', u'slate', u'sleek',\n",
       "       u'small', u'sound', u'southfac', u'space', u'spacious', u'spend',\n",
       "       u'ss', u'stainless', u'start', u'steel', u'stellar', u'step',\n",
       "       u'stone', u'storag', u'storybook', u'studioshop', u'stun',\n",
       "       u'stylish', u'summer', u'sundrench', u'sunni', u'superior',\n",
       "       u'sweep', u'tile', u'ton', u'townhom', u'townhous', u'tuck',\n",
       "       u'turnofthecenturi', u'unfinish', u'uniqu', u'unit', u'unveil',\n",
       "       u'updat', u'upper', u'urban', u'vault', u'view', u'water', u'wd',\n",
       "       u'weekend', u'wgleam', u'wgorgeous', u'window', u'wood', u'world',\n",
       "       u'wraparound', u'wstainless', u'yard', u'yearround', u'youll'], \n",
       "      dtype='<U16')"
      ]
     },
     "execution_count": 127,
     "metadata": {},
     "output_type": "execute_result"
    }
   ],
   "source": [
    "np.unique(stemmed_ordered_features[0:-1])[0:400]"
   ]
  },
  {
   "cell_type": "code",
   "execution_count": null,
   "metadata": {
    "collapsed": true
   },
   "outputs": [],
   "source": [
    "stemvectorizer=StemmedTfidfVectorizer()\n",
    "stemmedvectors=stemvectorizer.fit_transform(textreview)\n",
    "stemmed_review_vectors=stemmedvectors.toarray()"
   ]
  },
  {
   "cell_type": "code",
   "execution_count": 71,
   "metadata": {
    "collapsed": true
   },
   "outputs": [],
   "source": [
    "#remove punctuations\n",
    "import string\n",
    "punctuations_=set(string.punctuation)\n",
    "textreview=[]\n",
    "for i in range(df_select.shape[0]):\n",
    "    textreview.append(''.join(word for word in df_select['remarks'][i] if word not in punctuations_))"
   ]
  },
  {
   "cell_type": "code",
   "execution_count": 72,
   "metadata": {
    "collapsed": false
   },
   "outputs": [
    {
     "data": {
      "text/plain": [
       "'Bright and sunny storybook home with old world charm and all the modern updates Huge modern kitchen w tile floors  tons of storage guaranteed to be the heart of your happy home Step out thru the French doors to a beautiful deck overlooking an adorable private back yard \\xe2\\x80\\x93 a gardener\\xe2\\x80\\x99s dream Fir floors updated bath and all double pane windows Full height basement awaiting your imagination Superior location with easy access to Ballard Fremont and downtown The good life starts here'"
      ]
     },
     "execution_count": 72,
     "metadata": {},
     "output_type": "execute_result"
    }
   ],
   "source": [
    "textreview[0]"
   ]
  },
  {
   "cell_type": "code",
   "execution_count": 123,
   "metadata": {
    "collapsed": true
   },
   "outputs": [],
   "source": [
    "#Snowvall Stemmer\n",
    "from nltk.stem.snowball import SnowballStemmer\n",
    "class StemmedTfidfVectorizer(TfidfVectorizer):\n",
    "    def build_analyzer(self):\n",
    "        stemmer_porter = SnowballStemmer('english')\n",
    "        analyzer = super(TfidfVectorizer, self).build_analyzer()\n",
    "        return lambda doc: [stemmer_porter.stem(word) for word in analyzer(doc)]"
   ]
  },
  {
   "cell_type": "code",
   "execution_count": 156,
   "metadata": {
    "collapsed": false
   },
   "outputs": [],
   "source": [
    "stemvectorizer=StemmedTfidfVectorizer(stop_words=stopwords_, max_features=10)\n",
    "stemmedvectors=stemvectorizer.fit_transform(textreview)\n",
    "stemmed_review_vectors=stemmedvectors.toarray()"
   ]
  },
  {
   "cell_type": "code",
   "execution_count": 157,
   "metadata": {
    "collapsed": true
   },
   "outputs": [],
   "source": [
    "from sklearn.metrics.pairwise import cosine_similarity\n",
    "cos_sim = cosine_similarity(stemmed_review_vectors[0:1], stemmed_review_vectors) "
   ]
  },
  {
   "cell_type": "code",
   "execution_count": 158,
   "metadata": {
    "collapsed": true
   },
   "outputs": [],
   "source": [
    "n=4\n",
    "home_list = df_select['id']\n",
    "sb_stemmed_similatiry_dict={}\n",
    "for i in range(len(home_list)):\n",
    "    cos_sim = cosine_similarity(stemmed_review_vectors[i:(i+1)], stemmed_review_vectors)\n",
    "    order = list(cos_sim.argsort()[0][::-1][1:n])\n",
    "    top_three = home_list[order]\n",
    "    sb_stemmed_similatiry_dict[home_list[i]]=top_three.values.tolist()"
   ]
  },
  {
   "cell_type": "code",
   "execution_count": 159,
   "metadata": {
    "collapsed": false
   },
   "outputs": [
    {
     "data": {
      "text/plain": [
       "{5558: [240833, 100419, 229451],\n",
       " 12304: [82247, 240833, 5558],\n",
       " 82247: [229451, 12304, 100419],\n",
       " 100419: [229451, 240833, 5558],\n",
       " 229451: [100419, 82247, 240833],\n",
       " 240833: [5558, 264174, 100419],\n",
       " 264174: [240833, 100419, 229451]}"
      ]
     },
     "execution_count": 159,
     "metadata": {},
     "output_type": "execute_result"
    }
   ],
   "source": [
    "sb_stemmed_similatiry_dict"
   ]
  },
  {
   "cell_type": "code",
   "execution_count": 145,
   "metadata": {
    "collapsed": false
   },
   "outputs": [
    {
     "data": {
      "text/plain": [
       "{5558: [229451, 12304, 240833],\n",
       " 12304: [5558, 264174, 82247],\n",
       " 82247: [12304, 5558, 264174],\n",
       " 100419: [264174, 240833, 229451],\n",
       " 229451: [5558, 100419, 264174],\n",
       " 240833: [5558, 264174, 100419],\n",
       " 264174: [12304, 100419, 240833]}"
      ]
     },
     "execution_count": 145,
     "metadata": {},
     "output_type": "execute_result"
    }
   ],
   "source": [
    "sb_stemmed_similatiry_dict"
   ]
  },
  {
   "cell_type": "code",
   "execution_count": 146,
   "metadata": {
    "collapsed": false
   },
   "outputs": [
    {
     "data": {
      "text/plain": [
       "array([ 'Bright and sunny storybook home with old world charm and all the modern updates. Huge, modern kitchen w/ tile floors & tons of storage, guaranteed to be the heart of your happy home. Step out thru the French doors to a beautiful deck overlooking an adorable, private back yard \\xe2\\x80\\x93 a gardener\\xe2\\x80\\x99s dream. Fir floors, updated bath and all double pane windows. Full height basement awaiting your imagination. Superior location with easy access to Ballard, Fremont and downtown. The good life starts here!',\n",
       "       'Northwest Modern Builders unveils a stylish collection of sleek row houses in the center of Seattle\\xe2\\x80\\x99s favorite neighborhood \\xe2\\x80\\x93 Ballard. Enjoy open concept living including double height lofted spaces & large windows. Desirable home efficiencies throughout including ductless mini-split heat pumps for year-round climate control. Large rooftop decks with water for your urban garden & gas for your weekend BBQs. Steps away from Ballard\\xe2\\x80\\x99s best shops, bars, & restaurants. Last unit available!',\n",
       "       'This updated, immaculate, two bedroom, two bath townhouse is in the perfect location between Ballard & Fremont.  Upper floor features an open floorplan w/gleaming cherry hardwood floors, wood burning fireplace, & vaulted ceilings.  The kitchen has stainless steel apps, slate tile counters, newer cabinets, & a breakfast bar. Two master bedrooms! Outside you will find a deck, patio, & small yard with alley access, one car attached garage & more!  Close to everything - this unit is a must see!',\n",
       "       'Spend summer & a lifetime in this fresh & freestanding contemporary cottage. Tucked in the quiet back of this unique 5 house enclave, this home features open euro-styled living room & kitchen w/stainless appliances, giant light-inviting windows, & radiant concrete floors. 2nd floor with BR, full BA, & W/D. 3rd floor with sun-drenched 2nd BR & stellar south-facing rooftop deck. Private backyard & designated off-street parking. Ideal location moments from the epicenter of Ballard hip shops & food.'], dtype=object)"
      ]
     },
     "execution_count": 146,
     "metadata": {},
     "output_type": "execute_result"
    }
   ],
   "source": [
    "df_select['remarks'][df_select['id'].isin([5558,229451, 12304,240833])].values"
   ]
  },
  {
   "cell_type": "code",
   "execution_count": 147,
   "metadata": {
    "collapsed": false
   },
   "outputs": [
    {
     "data": {
      "text/html": [
       "<div>\n",
       "<table border=\"1\" class=\"dataframe\">\n",
       "  <thead>\n",
       "    <tr style=\"text-align: right;\">\n",
       "      <th></th>\n",
       "      <th>id</th>\n",
       "      <th>bed</th>\n",
       "      <th>bath</th>\n",
       "      <th>sqft</th>\n",
       "      <th>address</th>\n",
       "      <th>latitude</th>\n",
       "      <th>longitude</th>\n",
       "      <th>price</th>\n",
       "      <th>selling_price</th>\n",
       "      <th>mls_prop_type</th>\n",
       "    </tr>\n",
       "  </thead>\n",
       "  <tbody>\n",
       "    <tr>\n",
       "      <th>39</th>\n",
       "      <td>5558</td>\n",
       "      <td>2.0</td>\n",
       "      <td>1.0</td>\n",
       "      <td>1440</td>\n",
       "      <td>314 NW 46th St</td>\n",
       "      <td>47.662403</td>\n",
       "      <td>-122.361488</td>\n",
       "      <td>540000</td>\n",
       "      <td>577600</td>\n",
       "      <td>16 - 1 Story w/Bsmnt.</td>\n",
       "    </tr>\n",
       "    <tr>\n",
       "      <th>357</th>\n",
       "      <td>229451</td>\n",
       "      <td>2.0</td>\n",
       "      <td>1.5</td>\n",
       "      <td>1176</td>\n",
       "      <td>6423 17th St NW</td>\n",
       "      <td>47.675509</td>\n",
       "      <td>-122.378960</td>\n",
       "      <td>529000</td>\n",
       "      <td>529000</td>\n",
       "      <td>32 - Townhouse</td>\n",
       "    </tr>\n",
       "    <tr>\n",
       "      <th>916</th>\n",
       "      <td>12304</td>\n",
       "      <td>2.0</td>\n",
       "      <td>2.0</td>\n",
       "      <td>1000</td>\n",
       "      <td>927 NW 51st St Unit #B</td>\n",
       "      <td>47.665504</td>\n",
       "      <td>-122.369942</td>\n",
       "      <td>399950</td>\n",
       "      <td>430000</td>\n",
       "      <td>32 - Townhouse</td>\n",
       "    </tr>\n",
       "    <tr>\n",
       "      <th>1420</th>\n",
       "      <td>240833</td>\n",
       "      <td>2.0</td>\n",
       "      <td>1.5</td>\n",
       "      <td>1079</td>\n",
       "      <td>1718 NW 61st St</td>\n",
       "      <td>47.673117</td>\n",
       "      <td>-122.379612</td>\n",
       "      <td>589000</td>\n",
       "      <td>585000</td>\n",
       "      <td>15 - Multi Level</td>\n",
       "    </tr>\n",
       "  </tbody>\n",
       "</table>\n",
       "</div>"
      ],
      "text/plain": [
       "          id  bed  bath  sqft                 address   latitude   longitude  \\\n",
       "39      5558  2.0   1.0  1440          314 NW 46th St  47.662403 -122.361488   \n",
       "357   229451  2.0   1.5  1176         6423 17th St NW  47.675509 -122.378960   \n",
       "916    12304  2.0   2.0  1000  927 NW 51st St Unit #B  47.665504 -122.369942   \n",
       "1420  240833  2.0   1.5  1079         1718 NW 61st St  47.673117 -122.379612   \n",
       "\n",
       "       price  selling_price          mls_prop_type  \n",
       "39    540000         577600  16 - 1 Story w/Bsmnt.  \n",
       "357   529000         529000         32 - Townhouse  \n",
       "916   399950         430000         32 - Townhouse  \n",
       "1420  589000         585000       15 - Multi Level  "
      ]
     },
     "execution_count": 147,
     "metadata": {},
     "output_type": "execute_result"
    }
   ],
   "source": [
    "df[df['id'].isin([5558,229451, 12304,240833])][['id','bed','bath','sqft','address','latitude','longitude','price','selling_price','mls_prop_type']]"
   ]
  },
  {
   "cell_type": "code",
   "execution_count": 160,
   "metadata": {
    "collapsed": false
   },
   "outputs": [
    {
     "data": {
      "text/html": [
       "<div>\n",
       "<table border=\"1\" class=\"dataframe\">\n",
       "  <thead>\n",
       "    <tr style=\"text-align: right;\">\n",
       "      <th></th>\n",
       "      <th>id</th>\n",
       "      <th>bed</th>\n",
       "      <th>bath</th>\n",
       "      <th>sqft</th>\n",
       "      <th>address</th>\n",
       "      <th>latitude</th>\n",
       "      <th>longitude</th>\n",
       "      <th>price</th>\n",
       "      <th>selling_price</th>\n",
       "      <th>mls_prop_type</th>\n",
       "    </tr>\n",
       "  </thead>\n",
       "  <tbody>\n",
       "    <tr>\n",
       "      <th>39</th>\n",
       "      <td>5558</td>\n",
       "      <td>2.0</td>\n",
       "      <td>1.00</td>\n",
       "      <td>1440</td>\n",
       "      <td>314 NW 46th St</td>\n",
       "      <td>47.662403</td>\n",
       "      <td>-122.361488</td>\n",
       "      <td>540000</td>\n",
       "      <td>577600</td>\n",
       "      <td>16 - 1 Story w/Bsmnt.</td>\n",
       "    </tr>\n",
       "    <tr>\n",
       "      <th>357</th>\n",
       "      <td>229451</td>\n",
       "      <td>2.0</td>\n",
       "      <td>1.50</td>\n",
       "      <td>1176</td>\n",
       "      <td>6423 17th St NW</td>\n",
       "      <td>47.675509</td>\n",
       "      <td>-122.378960</td>\n",
       "      <td>529000</td>\n",
       "      <td>529000</td>\n",
       "      <td>32 - Townhouse</td>\n",
       "    </tr>\n",
       "    <tr>\n",
       "      <th>851</th>\n",
       "      <td>100419</td>\n",
       "      <td>2.0</td>\n",
       "      <td>1.75</td>\n",
       "      <td>1217</td>\n",
       "      <td>6312 32nd Ave NW Unit #F</td>\n",
       "      <td>47.674858</td>\n",
       "      <td>-122.398041</td>\n",
       "      <td>629900</td>\n",
       "      <td>624000</td>\n",
       "      <td>NaN</td>\n",
       "    </tr>\n",
       "    <tr>\n",
       "      <th>1420</th>\n",
       "      <td>240833</td>\n",
       "      <td>2.0</td>\n",
       "      <td>1.50</td>\n",
       "      <td>1079</td>\n",
       "      <td>1718 NW 61st St</td>\n",
       "      <td>47.673117</td>\n",
       "      <td>-122.379612</td>\n",
       "      <td>589000</td>\n",
       "      <td>585000</td>\n",
       "      <td>15 - Multi Level</td>\n",
       "    </tr>\n",
       "  </tbody>\n",
       "</table>\n",
       "</div>"
      ],
      "text/plain": [
       "          id  bed  bath  sqft                   address   latitude  \\\n",
       "39      5558  2.0  1.00  1440            314 NW 46th St  47.662403   \n",
       "357   229451  2.0  1.50  1176           6423 17th St NW  47.675509   \n",
       "851   100419  2.0  1.75  1217  6312 32nd Ave NW Unit #F  47.674858   \n",
       "1420  240833  2.0  1.50  1079           1718 NW 61st St  47.673117   \n",
       "\n",
       "       longitude   price  selling_price          mls_prop_type  \n",
       "39   -122.361488  540000         577600  16 - 1 Story w/Bsmnt.  \n",
       "357  -122.378960  529000         529000         32 - Townhouse  \n",
       "851  -122.398041  629900         624000                    NaN  \n",
       "1420 -122.379612  589000         585000       15 - Multi Level  "
      ]
     },
     "execution_count": 160,
     "metadata": {},
     "output_type": "execute_result"
    }
   ],
   "source": [
    "df[df['id'].isin([5558,240833, 100419, 229451])][['id','bed','bath','sqft','address','latitude','longitude','price','selling_price','mls_prop_type']]"
   ]
  },
  {
   "cell_type": "code",
   "execution_count": null,
   "metadata": {
    "collapsed": true
   },
   "outputs": [],
   "source": []
  }
 ],
 "metadata": {
  "anaconda-cloud": {},
  "kernelspec": {
   "display_name": "Python [default]",
   "language": "python",
   "name": "python2"
  },
  "language_info": {
   "codemirror_mode": {
    "name": "ipython",
    "version": 2
   },
   "file_extension": ".py",
   "mimetype": "text/x-python",
   "name": "python",
   "nbconvert_exporter": "python",
   "pygments_lexer": "ipython2",
   "version": "2.7.12"
  }
 },
 "nbformat": 4,
 "nbformat_minor": 1
}
