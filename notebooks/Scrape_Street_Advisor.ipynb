{
 "cells": [
  {
   "cell_type": "code",
   "execution_count": 1,
   "metadata": {
    "collapsed": true
   },
   "outputs": [],
   "source": [
    "## Import the things we need\n",
    "import time # Useful for scraping by using time.sleep(num_seconds) to force your scraper to pause\n",
    "import requests # Basic library for requests\n",
    "from selenium import webdriver # Getting a driver from Selenium\n",
    "from bs4 import BeautifulSoup # Getting a BeautifulSoup parser\n",
    "from pymongo import MongoClient # Getting a client for connecting to MongoDB"
   ]
  },
  {
   "cell_type": "code",
   "execution_count": 2,
   "metadata": {
    "collapsed": true
   },
   "outputs": [],
   "source": [
    "url = \"https://www.streetadvisor.com/find-neighborhood-by-city/seattle-king-county-washington\""
   ]
  },
  {
   "cell_type": "code",
   "execution_count": 3,
   "metadata": {
    "collapsed": true
   },
   "outputs": [],
   "source": [
    "# Try using requests first\n",
    "r = requests.get(url)"
   ]
  },
  {
   "cell_type": "code",
   "execution_count": 5,
   "metadata": {
    "collapsed": false
   },
   "outputs": [
    {
     "name": "stdout",
     "output_type": "stream",
     "text": [
      "200\n",
      "Successful scrape! Status code: 200\n"
     ]
    }
   ],
   "source": [
    "status_code = r.status_code\n",
    "print status_code\n",
    "\n",
    "if status_code == 200:\n",
    "    print \"Successful scrape! Status code: {}\".format(status_code)\n",
    "else:\n",
    "    print \"Error scraping! Status code: {}\".format(status_code)"
   ]
  },
  {
   "cell_type": "code",
   "execution_count": 6,
   "metadata": {
    "collapsed": true
   },
   "outputs": [],
   "source": [
    "## Pull the html out of the page\n",
    "html = r.content"
   ]
  },
  {
   "cell_type": "code",
   "execution_count": 7,
   "metadata": {
    "collapsed": true
   },
   "outputs": [],
   "source": [
    "soup = BeautifulSoup(html, 'html.parser')"
   ]
  },
  {
   "cell_type": "code",
   "execution_count": 8,
   "metadata": {
    "collapsed": true
   },
   "outputs": [],
   "source": [
    "divs = soup.select(\"div.col-group a\")"
   ]
  },
  {
   "cell_type": "code",
   "execution_count": 10,
   "metadata": {
    "collapsed": false
   },
   "outputs": [
    {
     "data": {
      "text/plain": [
       "74"
      ]
     },
     "execution_count": 10,
     "metadata": {},
     "output_type": "execute_result"
    }
   ],
   "source": [
    "len(divs)"
   ]
  },
  {
   "cell_type": "code",
   "execution_count": 11,
   "metadata": {
    "collapsed": true
   },
   "outputs": [],
   "source": [
    "all_url_ext = []\n",
    "for div in divs:\n",
    "    all_url_ext.append(div['href'])"
   ]
  },
  {
   "cell_type": "code",
   "execution_count": 13,
   "metadata": {
    "collapsed": false
   },
   "outputs": [
    {
     "data": {
      "text/plain": [
       "[u'/alki-seattle-king-county-washington',\n",
       " u'/arbor-heights-seattle-king-county-washington',\n",
       " u'/atlantic-seattle-king-county-washington',\n",
       " u'/ballard-seattle-king-county-washington',\n",
       " u'/beacon-hill-seattle-king-county-washington',\n",
       " u'/belltown-seattle-king-county-washington',\n",
       " u'/briarcrest-shoreline-king-county-washington',\n",
       " u'/broadview-bitter-lake-seattle-king-county-washington',\n",
       " u'/broadway-capitol-hill-seattle-king-county-washington',\n",
       " u'/cedar-park-meadowbrook-seattle-king-county-washington']"
      ]
     },
     "execution_count": 13,
     "metadata": {},
     "output_type": "execute_result"
    }
   ],
   "source": [
    "all_url_ext[0:10]"
   ]
  },
  {
   "cell_type": "code",
   "execution_count": 14,
   "metadata": {
    "collapsed": true
   },
   "outputs": [],
   "source": [
    "root_url=\"https://www.streetadvisor.com\"\n",
    "url_list=[]\n",
    "for ext in all_url_ext:\n",
    "    url_list.append('https://www.streetadvisor.com{}'.format(ext))"
   ]
  },
  {
   "cell_type": "code",
   "execution_count": 16,
   "metadata": {
    "collapsed": false
   },
   "outputs": [
    {
     "data": {
      "text/plain": [
       "['https://www.streetadvisor.com/alki-seattle-king-county-washington',\n",
       " 'https://www.streetadvisor.com/arbor-heights-seattle-king-county-washington',\n",
       " 'https://www.streetadvisor.com/atlantic-seattle-king-county-washington',\n",
       " 'https://www.streetadvisor.com/ballard-seattle-king-county-washington',\n",
       " 'https://www.streetadvisor.com/beacon-hill-seattle-king-county-washington',\n",
       " 'https://www.streetadvisor.com/belltown-seattle-king-county-washington',\n",
       " 'https://www.streetadvisor.com/briarcrest-shoreline-king-county-washington',\n",
       " 'https://www.streetadvisor.com/broadview-bitter-lake-seattle-king-county-washington',\n",
       " 'https://www.streetadvisor.com/broadway-capitol-hill-seattle-king-county-washington',\n",
       " 'https://www.streetadvisor.com/cedar-park-meadowbrook-seattle-king-county-washington']"
      ]
     },
     "execution_count": 16,
     "metadata": {},
     "output_type": "execute_result"
    }
   ],
   "source": [
    "url_list[0:10]"
   ]
  },
  {
   "cell_type": "code",
   "execution_count": 17,
   "metadata": {
    "collapsed": true
   },
   "outputs": [],
   "source": [
    "reviewdict={}\n",
    "for url in url_list:\n",
    "    r=requests.get(url)\n",
    "    reviews=[]\n",
    "    if r.status_code == 200:\n",
    "        html = r.content\n",
    "        soup = BeautifulSoup(html, 'html.parser')\n",
    "        neighborhood=soup.select(\"div.location-overview h1\")[0].text\n",
    "        divs=soup.select(\"div.description\")\n",
    "        for div in divs:\n",
    "            reviews.append(div.text)\n",
    "        \n",
    "        reviewdict[neighborhood]=reviews\n",
    "        \n",
    "        client = MongoClient()\n",
    "        db=client.Street_Advisor\n",
    "        collection = db.neighborhood\n",
    "        collection.insert_one({'name': neighborhood, 'url' : url,'date_accessed':'03-15-2017','reviews': reviews, 'raw_html':html})\n",
    "        time.sleep(10)\n",
    "    else:\n",
    "        break"
   ]
  },
  {
   "cell_type": "code",
   "execution_count": null,
   "metadata": {
    "collapsed": true
   },
   "outputs": [],
   "source": []
  }
 ],
 "metadata": {
  "anaconda-cloud": {},
  "kernelspec": {
   "display_name": "Python [default]",
   "language": "python",
   "name": "python2"
  },
  "language_info": {
   "codemirror_mode": {
    "name": "ipython",
    "version": 2
   },
   "file_extension": ".py",
   "mimetype": "text/x-python",
   "name": "python",
   "nbconvert_exporter": "python",
   "pygments_lexer": "ipython2",
   "version": "2.7.12"
  }
 },
 "nbformat": 4,
 "nbformat_minor": 1
}
