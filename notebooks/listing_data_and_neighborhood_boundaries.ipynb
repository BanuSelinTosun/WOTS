{
 "cells": [
  {
   "cell_type": "code",
   "execution_count": 7,
   "metadata": {
    "collapsed": true
   },
   "outputs": [],
   "source": [
    "import pandas as pd\n",
    "import numpy as np"
   ]
  },
  {
   "cell_type": "code",
   "execution_count": null,
   "metadata": {
    "collapsed": true
   },
   "outputs": [],
   "source": [
    "pd.options.display.max_columns = 999\n",
    "pd.options.display.max_rows = 200"
   ]
  },
  {
   "cell_type": "code",
   "execution_count": null,
   "metadata": {
    "collapsed": false
   },
   "outputs": [],
   "source": [
    "df=pd.read_csv('data/nwmls_dump_active.csv')"
   ]
  },
  {
   "cell_type": "code",
   "execution_count": null,
   "metadata": {
    "collapsed": false
   },
   "outputs": [],
   "source": [
    "# drop unnecessary columns\n",
    "df = df.drop([\"lead_image\",\"flyprice\",\"original_price\",\"sold_date\",\"max_hoa\",\"mls_office_id\",\"member_id\",\n",
    "           \"house_number\",\"directional_prefix\",\"directional_suffix\",\"directional_suffix\",\"street_suffix\",\"unit\",\n",
    "          \"zip_plus_4\",\"publish_to_internet\",\"show_address_to_public\",\"show_map_link_to_public\",\"block\",\"open_house_soon_start\",\n",
    "          \"open_house_soon_end\",\"commission\",\"comments\",\"offer_details\",\"pending_date\",\"selling_date\",\"selling_price\"], axis=1)"
   ]
  },
  {
   "cell_type": "code",
   "execution_count": null,
   "metadata": {
    "collapsed": true
   },
   "outputs": [],
   "source": [
    "# define neighborhood based on Seattle City Neihborhood Boundaries\n",
    "from __future__ import division\n",
    "import pandas as pd\n",
    "import numpy as np\n",
    "from matplotlib.patches import Polygon\n",
    "import matplotlib\n",
    "from matplotlib.collections import PatchCollection\n",
    "import mpl_toolkits\n",
    "from mpl_toolkits.basemap import Basemap\n",
    "from shapely.geometry import Point, Polygon, MultiPoint, MultiPolygon\n",
    "from shapely.prepared import prep\n",
    "from descartes import PolygonPatch\n",
    "import matplotlib.pyplot as plt\n",
    "from collections import defaultdict\n",
    "\n",
    "% matplotlib inline"
   ]
  },
  {
   "cell_type": "code",
   "execution_count": null,
   "metadata": {
    "collapsed": false
   },
   "outputs": [],
   "source": [
    "def plot_prepper(m, shapefilename, df_key):\n",
    "    '''\n",
    "    Generate dataframe for plotting\n",
    "    '''\n",
    "    _out = m.readshapefile(shapefilename, name='seattle', drawbounds=False, color='none', zorder=2)\n",
    "    # set up a map dataframe for neighborhood outlines\n",
    "    cent_lons = [float((Polygon(points).centroid.wkt).split()[1][1:]) for points in m.seattle]\n",
    "    cent_lats = [float((Polygon(points).centroid.wkt).strip(')').split()[2]) for points in m.seattle]\n",
    "\n",
    "    df_poly = pd.DataFrame({\n",
    "        'poly': [Polygon(points) for points in m.seattle],\n",
    "        'name': [item[df_key] for item in m.seattle_info],\n",
    "    })\n",
    "    df_poly['centroid_1'] = cent_lons\n",
    "    df_poly['centroid_2'] = cent_lats\n",
    "    return _out, df_poly\n",
    "\n",
    "# Read in neighborhood shape file\n",
    "hood_shapefilename = 'neighborhoods/WGS84/Neighborhoods'\n",
    "hood_coords = (-122.43595589761988, 47.49551362397606, \n",
    "               -122.23604445458412, 47.73416494684497)\n",
    "\n",
    "w, h = hood_coords[2] - hood_coords[0], hood_coords[3] - hood_coords[1]\n",
    "extra = 0.005\n",
    "\n",
    "# Initialize the plot\n",
    "figwidth = 12\n",
    "fig = plt.figure(figsize=(figwidth, figwidth*h/w))\n",
    "ax = fig.add_subplot(111, axisbg='w', frame_on=False)\n",
    "m = Basemap(projection='tmerc', ellps='WGS84',\n",
    "            lon_0=np.mean([hood_coords[0], hood_coords[2]]),\n",
    "            lat_0=np.mean([hood_coords[1], hood_coords[3]]),\n",
    "            llcrnrlon=hood_coords[0] - extra * w,\n",
    "            llcrnrlat=hood_coords[1] - (extra * h),\n",
    "            urcrnrlon=hood_coords[2] + extra * w,\n",
    "            urcrnrlat=hood_coords[3] + (extra * h),\n",
    "            resolution='i',  suppress_ticks=True)\n",
    "\n",
    "# Get dataframe for plotting\n",
    "_out, df_map = plot_prepper(m, hood_shapefilename, 'S_HOOD')\n",
    "nbr_names = df_map['name'].unique()\n",
    "\n",
    "# Draw neighborhoods with grey outlines\n",
    "df_map['patches'] = df_map['poly'].map(lambda x: PolygonPatch(x, ec='#050505', lw=.8, alpha=1., zorder=4))\n",
    "pc = PatchCollection(df_map['patches'], match_original=True)\n",
    "pc.set_facecolor('w')\n",
    "ax.add_collection(pc)\n",
    "\n",
    "# Scale the map\n",
    "m.drawmapscale(hood_coords[0] + 0.08, hood_coords[1] + -0.01, \n",
    "               hood_coords[0], hood_coords[1], 10., barstyle='fancy',\n",
    "               fillcolor1='w', fillcolor2='#555555', zorder=5, ax=ax,)\n",
    "\n",
    "lons = df.longitude\n",
    "lats = df.latitude\n",
    "\n",
    "pt = []\n",
    "xs = []\n",
    "ys = []\n",
    "\n",
    "'''\n",
    "This plots all the latitude/longitude points\n",
    "'''\n",
    "for mapped_x, mapped_y in zip(lons, lats):\n",
    "    xpt, ypt = m(mapped_x, mapped_y)\n",
    "    plt.plot(xpt, ypt, 'v', markersize=5, alpha=0.3, color='#483070')\n",
    "    pt.append(Point(xpt, ypt))\n",
    "    xs.append(xpt)\n",
    "    ys.append(ypt)\n",
    "\n",
    "Labels = []\n",
    "nmlist = []\n",
    "\n",
    "'''\n",
    "Checks the neighborhood of point\n",
    "'''\n",
    "# Creates list of neighborhoods\n",
    "for polygon in df_map['poly']:\n",
    "    nm = df_map.loc[df_map['poly'] == polygon, 'name'].iloc[0]\n",
    "    if len(nm.strip()) < 4 or nm in nmlist:\n",
    "        continue\n",
    "    nmlist.append(nm)\n",
    "\n",
    "\"\"\"\n",
    "Determines neighborhood of point\n",
    "\"\"\"\n",
    "for i, p in enumerate(pt):\n",
    "    # Create Unknown placeholder to capture points no in a neighborhood\n",
    "    Labels.append('Unknown')\n",
    "    # Tracks progress\n",
    "    if i % 50000 == 0:\n",
    "        print i\n",
    "    # Creates polygon and if pt in polygon records neighborhood name\n",
    "    for j, row in df_map.iterrows():\n",
    "        polygon = row['poly']\n",
    "        nm = row[0]\n",
    "        if polygon.contains(p):\n",
    "            Labels[i] = nm\n",
    "\n",
    "# Add neighborhood names\n",
    "nml = []\n",
    "for i, lon in enumerate(df_map['centroid_1'].values):\n",
    "    if df_map['name'].values[i] in nml:\n",
    "        continue\n",
    "    nml.append(df_map['name'].values[i])\n",
    "    if len(df_map['name'].values[i]) > 3:\n",
    "        plt.text(lon, df_map['centroid_2'].values[i], df_map['name'].values[i], size=7, ha='center')\n",
    "\n",
    "ax.axes.get_xaxis().set_visible(False)\n",
    "#plt.savefig('../images/seattle_911_neighborhoods.png')"
   ]
  },
  {
   "cell_type": "code",
   "execution_count": null,
   "metadata": {
    "collapsed": false
   },
   "outputs": [],
   "source": [
    "df.shape"
   ]
  },
  {
   "cell_type": "code",
   "execution_count": null,
   "metadata": {
    "collapsed": false
   },
   "outputs": [],
   "source": [
    "len(Labels)"
   ]
  },
  {
   "cell_type": "code",
   "execution_count": null,
   "metadata": {
    "collapsed": true
   },
   "outputs": [],
   "source": [
    "df['city_neighborhood'] = Labels"
   ]
  },
  {
   "cell_type": "code",
   "execution_count": null,
   "metadata": {
    "collapsed": true
   },
   "outputs": [],
   "source": [
    "df=df[df['city_neighborhood']!='Unknown']"
   ]
  },
  {
   "cell_type": "code",
   "execution_count": null,
   "metadata": {
    "collapsed": false
   },
   "outputs": [],
   "source": [
    "df.shape"
   ]
  },
  {
   "cell_type": "code",
   "execution_count": null,
   "metadata": {
    "collapsed": false
   },
   "outputs": [],
   "source": [
    "df.info()"
   ]
  },
  {
   "cell_type": "code",
   "execution_count": null,
   "metadata": {
    "collapsed": false
   },
   "outputs": [],
   "source": [
    "lats=df['latitude']\n",
    "lons=df['longitude']\n",
    "import gmplot\n",
    "gmap = gmplot.GoogleMapPlotter(47.608013, -122.335167, 12)\n",
    "gmap.scatter(lats.values, lons.values, '#A600FF', size=150, marker=False)\n",
    "gmap.draw(\"mymap.html\")"
   ]
  },
  {
   "cell_type": "markdown",
   "metadata": {},
   "source": [
    "![listing_map](../img/listing_map.png)"
   ]
  },
  {
   "cell_type": "code",
   "execution_count": null,
   "metadata": {
    "collapsed": true
   },
   "outputs": [],
   "source": [
    "city_street_dict = {'Adams': 'Ballard',\n",
    " 'Alki': 'Alki',\n",
    " 'Arbor Heights': 'Arbor Heights',\n",
    " 'Atlantic': 'Atlantic',\n",
    " 'Belltown': 'Belltown',\n",
    " 'Briarcliff': 'Magnolia',\n",
    " 'Briarcrest': 'Briarcrest',\n",
    " 'Brighton': 'Beacon Hill',\n",
    " 'Broadview Bitter Lake': 'Broadview Bitter Lake',\n",
    " 'Broadview': 'Broadview / Bitter Lake',\n",
    " 'Bitter Lake': 'Broadview / Bitter Lake',\n",
    " 'Broadway': 'Broadway (Capitol Hill)',\n",
    " 'Cedar Park': 'Cedar Park / Meadowbrook',\n",
    " 'Meadowbrook': 'Cedar Park / Meadowbrook',\n",
    " 'Central Business District': 'Downtown (Central Business District)',\n",
    " 'Columbia City': 'Columbia City',\n",
    " 'Crown Hill': 'Phinney Ridge / Greenwood',\n",
    " 'Dunlap': 'Rainier Beach',\n",
    " 'East Queen Anne': 'East Queen Anne',\n",
    " 'Eastlake': 'Eastlake',\n",
    " 'Fairmount Park': 'Fairmount Park',\n",
    " 'Fauntleroy': 'Fauntleroy',\n",
    " 'First Hill': 'Downtown (Central Business District)',\n",
    " 'Fremont': 'Fremont',\n",
    " 'Gatewood': 'Gatewood',\n",
    " 'Genesee': 'Genesee',\n",
    " 'Georgetown': 'Georgetown',\n",
    " 'Green Lake': 'Green Lake',\n",
    " 'Haller Lake': 'Haller Lake',\n",
    " 'Harbor Island': 'Harbor Island',\n",
    " 'Harrison/Denny-Blaine': 'Harrison / Denny Blaine',\n",
    " 'High Point': 'High Point',\n",
    " 'Highland Park': 'Highland Park',\n",
    " 'Holly Park': 'Beacon Hill',\n",
    " 'Industrial District': 'Industrial District',\n",
    " 'Interbay': 'Interbay',\n",
    " 'International District': 'International District',\n",
    " 'Laurelhurst': 'Laurelhurst / Sand Point',\n",
    " 'Sand Point': 'Laurelhurst / Sand Point',\n",
    " 'Lawton Park': 'Magnolia',\n",
    " 'Leschi': 'Leschi',\n",
    " 'Lower Queen Anne': 'Lower Queen Anne',\n",
    " 'Loyal Heights': 'Sunset Hill',\n",
    " 'Madison Park': 'Madison Park',\n",
    " 'Madrona': 'Madrona',\n",
    " 'Mann': 'Mann',\n",
    " 'Maple Leaf': 'Northgate',\n",
    " 'Matthews Beach': 'Wedgeview Ridge',\n",
    " 'Mid-Beacon Hill': 'Beacon Hill',\n",
    " 'Minor': 'Minor',\n",
    " 'Montlake': 'Montlake',\n",
    " 'Mount Baker': 'Mount Baker',\n",
    " 'North Admiral': 'North Admiral',\n",
    " 'North Beach/Blue Ridge': 'North Beach Blue Ridge',\n",
    " 'North Beacon Hill': 'North Beacon Hill',\n",
    " 'North College Park': 'Licton Springs',\n",
    " 'North Delridge': 'North Delridge',\n",
    " 'North Queen Anne': 'North Queen Anne',\n",
    " 'Olympic Hills': 'Olympic Hills / Victory Heights',\n",
    " 'Victory Heights': 'Olympic Hills / Victory Heights',\n",
    " 'Phinney Ridge': 'Phinney Ridge / Greenwood',\n",
    " 'Greenwood': 'Phinney Ridge / Greenwood',\n",
    " 'Pike-Market': 'Pike Market',\n",
    " 'Pinehurst': 'Northgate',\n",
    " 'Pioneer Square': 'Pioneer Square',\n",
    " 'Portage Bay': 'Portage Bay',\n",
    " 'Rainier Beach': 'Rainier Beach',\n",
    " 'Rainier View': 'Rainier Beach',\n",
    " 'Ravenna': 'Ravenna / Bryant',\n",
    " 'Bryant': 'Ravenna / Bryant',\n",
    " 'Riverview': 'Riverview',\n",
    " 'Roosevelt': 'Ravenna / Bryant',\n",
    " 'Roxhill': 'Roxhill',\n",
    " 'Seaview': 'Seaview',\n",
    " 'Sunset Hill': 'Sunset Hill',\n",
    " 'Seward Park': 'Seward Park',\n",
    " 'South Beacon Hill': 'South Beacon Hill',\n",
    " 'South Delridge': 'South Delridge',\n",
    " 'South Lake Union': 'South Lake Union',\n",
    " 'South Park': 'South Park',\n",
    " 'Southeast Magnolia': 'Magnolia',\n",
    " 'Stevens': 'Stevens (Capitol Hill)',\n",
    " 'University District': 'University District',\n",
    " 'View Ridge': 'Laurelhurst / Sand Point',\n",
    " 'Wallingford': 'Wallingford',\n",
    " 'Wedgwood': 'Wedgeview Ridge',\n",
    " 'West Queen Anne': 'West Queen Anne',\n",
    " 'West Woodland': 'Ballard',\n",
    " 'Westlake': 'Westlake',\n",
    " 'Whittier Heights': 'Whittier Heights',\n",
    " 'Windermere': 'Laurelhurst / Sand Point',\n",
    " 'Yesler Terrace': 'Yesler Terrace'}"
   ]
  },
  {
   "cell_type": "code",
   "execution_count": 2,
   "metadata": {
    "collapsed": true
   },
   "outputs": [],
   "source": [
    "#df=pd.read_csv('data/data_active_clean.csv')"
   ]
  },
  {
   "cell_type": "code",
   "execution_count": null,
   "metadata": {
    "collapsed": false
   },
   "outputs": [],
   "source": [
    "# add street_neighborhood column based on city_neighborhood list\n",
    "df['street_neighborhood']=df['city_neighborhood'].apply(lambda x : city_street_dict[x])"
   ]
  },
  {
   "cell_type": "code",
   "execution_count": null,
   "metadata": {
    "collapsed": true
   },
   "outputs": [],
   "source": [
    "#add listing urls\n",
    "df['url']=df['id'].map(lambda x: 'https://www.flyhomes.com/listings/{}'.format(x),\n",
    "               na_action='ignore')"
   ]
  },
  {
   "cell_type": "code",
   "execution_count": 4,
   "metadata": {
    "collapsed": false
   },
   "outputs": [],
   "source": [
    "# add 'type coulmn\"\n",
    "df['proptype']=df['prop_type']\n",
    "df[df['mls_prop_type']=='32 - Townhouse']=\\\n",
    "                                df[df['mls_prop_type']=='32 - Townhouse'].replace({'proptype':{'Residential':'Townhouse'}})"
   ]
  },
  {
   "cell_type": "code",
   "execution_count": 11,
   "metadata": {
    "collapsed": false
   },
   "outputs": [],
   "source": [
    "#df.drop('Unnamed: 0', axis=1, inplace=True)"
   ]
  },
  {
   "cell_type": "code",
   "execution_count": null,
   "metadata": {
    "collapsed": false
   },
   "outputs": [],
   "source": [
    "df=df.reset_index()\n",
    "df.drop(['status','index'],axis=1,inplace=True)"
   ]
  },
  {
   "cell_type": "code",
   "execution_count": 13,
   "metadata": {
    "collapsed": true
   },
   "outputs": [],
   "source": [
    "df.to_csv('data/data_active_clean.csv')"
   ]
  },
  {
   "cell_type": "code",
   "execution_count": null,
   "metadata": {
    "collapsed": true
   },
   "outputs": [],
   "source": []
  }
 ],
 "metadata": {
  "anaconda-cloud": {},
  "kernelspec": {
   "display_name": "Python [conda root]",
   "language": "python",
   "name": "conda-root-py"
  },
  "language_info": {
   "codemirror_mode": {
    "name": "ipython",
    "version": 2
   },
   "file_extension": ".py",
   "mimetype": "text/x-python",
   "name": "python",
   "nbconvert_exporter": "python",
   "pygments_lexer": "ipython2",
   "version": "2.7.12"
  }
 },
 "nbformat": 4,
 "nbformat_minor": 1
}
