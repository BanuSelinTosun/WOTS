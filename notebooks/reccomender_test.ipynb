{
 "cells": [
  {
   "cell_type": "code",
   "execution_count": null,
   "metadata": {
    "collapsed": true
   },
   "outputs": [],
   "source": [
    "import pandas as pd\n",
    "import numpy as np\n",
    "df_reviews=pd.read_csv('data/street_reviews.csv')\n",
    "df_reviews.drop('Unnamed: 0', axis=1, inplace=True)\n",
    "df_sample=pd.read_csv('data/data_seattle.csv')\n",
    "df_sample.drop('Unnamed: 0', axis=1, inplace=True)\n",
    "pd.options.display.max_columns = 999\n",
    "pd.options.display.max_rows = 200"
   ]
  },
  {
   "cell_type": "code",
   "execution_count": null,
   "metadata": {
    "collapsed": false
   },
   "outputs": [],
   "source": [
    "# remove lisstings don't have text description\n",
    "#df_sample = df_sample[pd.notnull(df_sample['remarks'])]\n",
    "#df_sample.reset_index(drop=True,inplace=True)"
   ]
  },
  {
   "cell_type": "code",
   "execution_count": null,
   "metadata": {
    "collapsed": true
   },
   "outputs": [],
   "source": [
    "#df_sample['price'] = df_sample['price'].apply(lambda x: '${:,.0f}'.format(x))"
   ]
  },
  {
   "cell_type": "code",
   "execution_count": null,
   "metadata": {
    "collapsed": true
   },
   "outputs": [],
   "source": [
    "#df_sample.to_csv('data/data_seattle.csv')"
   ]
  },
  {
   "cell_type": "code",
   "execution_count": null,
   "metadata": {
    "collapsed": false
   },
   "outputs": [],
   "source": [
    "reload(S)"
   ]
  },
  {
   "cell_type": "code",
   "execution_count": null,
   "metadata": {
    "collapsed": true
   },
   "outputs": [],
   "source": [
    "import system as S"
   ]
  },
  {
   "cell_type": "code",
   "execution_count": null,
   "metadata": {
    "collapsed": false
   },
   "outputs": [],
   "source": [
    "recsys =S.ReccomnderSystem(df_sample,df_reviews)"
   ]
  },
  {
   "cell_type": "code",
   "execution_count": null,
   "metadata": {
    "collapsed": false
   },
   "outputs": [],
   "source": [
    "minbed=2\n",
    "maxbed=3\n",
    "minbath=2\n",
    "maxbath=3\n",
    "proptype='Townhouse'\n",
    "neighborhood='Ballard'\n",
    "\n",
    "selected_list = recsys.input_func(minbed, maxbed, minbath, maxbath, proptype, neighborhood)\n",
    "type(selected_list)==list"
   ]
  },
  {
   "cell_type": "code",
   "execution_count": null,
   "metadata": {
    "collapsed": false
   },
   "outputs": [],
   "source": [
    "#selected_list=[470775]\n",
    "longs=df_sample[df_sample['id'].isin(selected_list)].longitude.tolist()\n",
    "lats=df_sample[df_sample['id'].isin(selected_list)].latitude.tolist()\n",
    "avg_lat=np.mean(lats)\n",
    "avg_lon=np.mean(longs)\n",
    "\n",
    "import gmplot\n",
    "gmap = gmplot.GoogleMapPlotter(avg_lat, avg_lon, 14)\n",
    "gmap.scatter(lats, longs, 'g', size=0.00001, marker=True)\n",
    "gmap.draw(\"mymap.html\")"
   ]
  },
  {
   "cell_type": "code",
   "execution_count": null,
   "metadata": {
    "collapsed": false
   },
   "outputs": [],
   "source": [
    "dfs=df_sample[df_sample['id'].isin(selected_list)]"
   ]
  },
  {
   "cell_type": "code",
   "execution_count": null,
   "metadata": {
    "collapsed": false
   },
   "outputs": [],
   "source": [
    "dfs[['price','latitude','longitude']].values.tolist()"
   ]
  },
  {
   "cell_type": "code",
   "execution_count": null,
   "metadata": {
    "collapsed": false
   },
   "outputs": [],
   "source": [
    "avg_lat=np.mean(df_sample['latitude'][df_sample['id'].isin(selected_list)].values)\n",
    "avg_lon=np.mean(df_sample['longitude'][df_sample['id'].isin(selected_list)].values)\n",
    "{'avglat':avg_lat,'avg_lon':avg_lon}"
   ]
  },
  {
   "cell_type": "code",
   "execution_count": null,
   "metadata": {
    "collapsed": true
   },
   "outputs": [],
   "source": []
  },
  {
   "cell_type": "raw",
   "metadata": {},
   "source": [
    "        ['Bondi Beach', -33.890542, 151.274856, 4],\n",
    "        ['Coogee Beach', -33.923036, 151.259052, 5],\n",
    "        ['Cronulla Beach', -34.028249, 151.157507, 3],\n",
    "        ['Manly Beach', -33.80010128657071, 151.28747820854187, 2],\n",
    "        ['Maroubra Beach', -33.950198, 151.259302, 1]\n",
    "      ]"
   ]
  },
  {
   "cell_type": "code",
   "execution_count": null,
   "metadata": {
    "collapsed": false
   },
   "outputs": [],
   "source": [
    "column_names = ['id','bed','bath','sqft','year_built','remarks','street_neighborhood','address','price']"
   ]
  },
  {
   "cell_type": "code",
   "execution_count": null,
   "metadata": {
    "collapsed": false
   },
   "outputs": [],
   "source": [
    "df= df_sample[df_sample['id'].isin(selected_list)][column_names]"
   ]
  },
  {
   "cell_type": "code",
   "execution_count": null,
   "metadata": {
    "collapsed": false
   },
   "outputs": [],
   "source": [
    "l=recsys.listing_reccomender(5540).values()\n",
    "reccomended_list=[item for sublist in l for item in sublist]"
   ]
  },
  {
   "cell_type": "code",
   "execution_count": null,
   "metadata": {
    "collapsed": false
   },
   "outputs": [],
   "source": [
    "longs=df_sample[df_sample['id'].isin(reccomended_list)].longitude.tolist()\n",
    "lats=df_sample[df_sample['id'].isin(reccomended_list)].latitude.tolist()\n",
    "avg_lat=np.mean(lats)\n",
    "avg_lon=np.mean(longs)\n",
    "\n",
    "import gmplot\n",
    "gmap = gmplot.GoogleMapPlotter(avg_lat, avg_lon, 13)\n",
    "gmap.scatter(lats, longs, 'g', size=0.00001, marker=True)\n",
    "gmap.draw(\"mymap.html\")"
   ]
  },
  {
   "cell_type": "code",
   "execution_count": null,
   "metadata": {
    "collapsed": true
   },
   "outputs": [],
   "source": []
  },
  {
   "cell_type": "code",
   "execution_count": null,
   "metadata": {
    "collapsed": false
   },
   "outputs": [],
   "source": [
    "df_sample[df_sample['id'].isin(reccomended_list)][column_names].sort('street_neighborhood')"
   ]
  },
  {
   "cell_type": "code",
   "execution_count": null,
   "metadata": {
    "collapsed": false
   },
   "outputs": [],
   "source": []
  },
  {
   "cell_type": "code",
   "execution_count": null,
   "metadata": {
    "collapsed": false
   },
   "outputs": [],
   "source": []
  },
  {
   "cell_type": "code",
   "execution_count": null,
   "metadata": {
    "collapsed": false
   },
   "outputs": [],
   "source": [
    "lats=df_sample[df_sample['id'].isin(reccomended_list)].latitude.tolist()\n",
    "gmap.scatter(lats, longs, 'g', size=0.00001, marker=True)"
   ]
  },
  {
   "cell_type": "code",
   "execution_count": null,
   "metadata": {
    "collapsed": true
   },
   "outputs": [],
   "source": []
  },
  {
   "cell_type": "code",
   "execution_count": null,
   "metadata": {
    "collapsed": false
   },
   "outputs": [],
   "source": [
    "avg_lat=np.mean(lats)\n",
    "avg_lon=np.mean(longs)"
   ]
  },
  {
   "cell_type": "code",
   "execution_count": null,
   "metadata": {
    "collapsed": true
   },
   "outputs": [],
   "source": [
    "#https://pypi.python.org/pypi/gmplot/1.0.5\n",
    "import gmplot\n",
    "\n",
    "#gmap = gmplot.GoogleMapPlotter(47.6062, -122.3321, 12)\n",
    "gmap = gmplot.GoogleMapPlotter(avg_lat, avg_lon, 14)\n",
    "\n",
    "#gmap.plot(lats.values, lons.values, 'cornflowerblue', edge_width=0.1)\n",
    "#gmap.scatter(lats.values, lons.values, '#483070', size=40, marker=False)\n",
    "gmap.scatter(lats, longs, 'g', size=0.00001, marker=True)\n",
    "#gmap.heatmap(heat_lats, heat_lngs)\n",
    "\n",
    "gmap.draw(\"mymap.html\")"
   ]
  },
  {
   "cell_type": "code",
   "execution_count": null,
   "metadata": {
    "collapsed": true
   },
   "outputs": [],
   "source": []
  }
 ],
 "metadata": {
  "anaconda-cloud": {},
  "kernelspec": {
   "display_name": "Python [default]",
   "language": "python",
   "name": "python2"
  },
  "language_info": {
   "codemirror_mode": {
    "name": "ipython",
    "version": 2
   },
   "file_extension": ".py",
   "mimetype": "text/x-python",
   "name": "python",
   "nbconvert_exporter": "python",
   "pygments_lexer": "ipython2",
   "version": "2.7.12"
  }
 },
 "nbformat": 4,
 "nbformat_minor": 1
}
